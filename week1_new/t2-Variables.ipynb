{
 "cells": [
  {
   "attachments": {},
   "cell_type": "markdown",
   "metadata": {},
   "source": [
    "## Data structures and variables\n",
    "In this tutorial we are going to introduce the concept of data structures and variables. A data structure is a way you store data into computer memory, such as a number, a word, or a paragraph. A variable is a value that can change, depending on conditions or on information passed to the program. Using variables to hold data within our code, and show how they can be manipulated to perform whatever task we are intending to do. By the word variables, I mean using names to hold information rather than tapping in numbers like you'd do on a calculator."
   ]
  },
  {
   "attachments": {},
   "cell_type": "markdown",
   "id": "f05560cc",
   "metadata": {},
   "source": [
    "### Data structures\n",
    "There are several built-in core data types in python, and you can create variable types by your own. Here, we introduce some commonly used built-in variable types.\n",
    "\n",
    "#### Numbers\n",
    "Numbers are fairly straightforward. Python’s core object set includes the usual suspects: integers (num- bers without a fractional part), floating-point numbers (roughly, numbers with a decimal point in them), and even more exotic types (unlimited-precision “long” integers, complex numbers with imaginary parts, fixed-precision decimals, and sets). Here, we focus on integers and floating-point numbers. Following are some example numbers suppported by Python."
   ]
  },
  {
   "cell_type": "code",
   "execution_count": 2,
   "id": "94496d65",
   "metadata": {},
   "outputs": [
    {
     "data": {
      "text/plain": [
       "123"
      ]
     },
     "execution_count": 2,
     "metadata": {},
     "output_type": "execute_result"
    }
   ],
   "source": [
    "# Example of a integer\n",
    "123"
   ]
  },
  {
   "cell_type": "code",
   "execution_count": 3,
   "id": "da7c24de",
   "metadata": {},
   "outputs": [
    {
     "data": {
      "text/plain": [
       "3.1415926"
      ]
     },
     "execution_count": 3,
     "metadata": {},
     "output_type": "execute_result"
    }
   ],
   "source": [
    "# Example of a float\n",
    "3.1415926"
   ]
  },
  {
   "attachments": {},
   "cell_type": "markdown",
   "id": "6901a8a6",
   "metadata": {},
   "source": [
    "### Logits or boolean\n",
    "Pythob Boolean type, bool, has two values only, True and False. This data structure is widely used in branched program. In python, it behaves like a integer where 1 represents True and 0 represents False."
   ]
  },
  {
   "cell_type": "code",
   "execution_count": 12,
   "id": "7391a29d",
   "metadata": {},
   "outputs": [
    {
     "data": {
      "text/plain": [
       "4"
      ]
     },
     "execution_count": 12,
     "metadata": {},
     "output_type": "execute_result"
    }
   ],
   "source": [
    "True"
   ]
  },
  {
   "cell_type": "code",
   "execution_count": 11,
   "id": "c41acf0c",
   "metadata": {},
   "outputs": [
    {
     "data": {
      "text/plain": [
       "False"
      ]
     },
     "execution_count": 11,
     "metadata": {},
     "output_type": "execute_result"
    }
   ],
   "source": [
    "False"
   ]
  },
  {
   "attachments": {},
   "cell_type": "markdown",
   "id": "398388e6",
   "metadata": {},
   "source": [
    "#### Strings\n",
    "Strings are used to record textual information as well as arbitrary collections of bytes. They are our first example of what we call a sequence in Python—that is, a positionally ordered collection of other objects. Sequences maintain a left-to-right order among the items they contain: their items are stored and fetched by their relative position. Strictly speaking, strings are sequences of one-character strings; other types of sequences include lists and tuples (covered later). Following are some examples of strings."
   ]
  },
  {
   "cell_type": "code",
   "execution_count": null,
   "id": "80aabaa8",
   "metadata": {},
   "outputs": [],
   "source": [
    "# This is a single character string\n",
    "'a'"
   ]
  },
  {
   "cell_type": "code",
   "execution_count": null,
   "id": "1b051dcd",
   "metadata": {},
   "outputs": [],
   "source": [
    "# This is also a string contains multiple characters\n",
    "'abc'"
   ]
  },
  {
   "attachments": {},
   "cell_type": "markdown",
   "id": "5e72ac4c",
   "metadata": {},
   "source": [
    "#### Lists\n",
    "The Python list object is the most general sequence provided by the language. It's very flexible. Lists are positionally ordered collections of arbitrarily typed objects, and they have no fixed size. For example, you can make a list using numbers or strings, or mix them together."
   ]
  },
  {
   "cell_type": "code",
   "execution_count": 4,
   "id": "f018cc46",
   "metadata": {},
   "outputs": [
    {
     "data": {
      "text/plain": [
       "[1, 2, 3]"
      ]
     },
     "execution_count": 4,
     "metadata": {},
     "output_type": "execute_result"
    }
   ],
   "source": [
    "# This is a list contains numbers only\n",
    "[1, 2, 3]"
   ]
  },
  {
   "cell_type": "code",
   "execution_count": null,
   "id": "5b70a5a7",
   "metadata": {},
   "outputs": [],
   "source": [
    "# This is a list contains strings only\n",
    "['a', 'b', 'c']"
   ]
  },
  {
   "cell_type": "code",
   "execution_count": 6,
   "id": "337c8be2",
   "metadata": {},
   "outputs": [
    {
     "data": {
      "text/plain": [
       "[1, 'a', 2, 'b']"
      ]
     },
     "execution_count": 6,
     "metadata": {},
     "output_type": "execute_result"
    }
   ],
   "source": [
    "# This is a list contains numbers and strings\n",
    "[1, 'a', 2, 'b']"
   ]
  },
  {
   "attachments": {},
   "cell_type": "markdown",
   "id": "194859a9",
   "metadata": {},
   "source": [
    "### Variables and assignment of variables.\n",
    "\n",
    "As mentioned before, a variable is a value that can change, depending on conditions or on information passed to the program. Before you use any of the variables, you need to assign some value to it using '='. Following are some examples of variable asignment."
   ]
  },
  {
   "cell_type": "code",
   "execution_count": 8,
   "id": "3e57b835",
   "metadata": {},
   "outputs": [],
   "source": [
    "a = 1\n",
    "b = [1, 2, 3]\n",
    "c = a\n",
    "d = 'abc'"
   ]
  },
  {
   "attachments": {},
   "cell_type": "markdown",
   "id": "21afa65a",
   "metadata": {},
   "source": [
    "In the code above, left side of the '=' is the variable name. Variable name can be arbitary one, in practice, I recommend you name the variable with its actual meanning, so the code can be easier to understand. Right hand side is the data that stored in the variable name. It can be any data structure you want. Take a = 1 as an example, after this assignment, the number 1 is stored into the variable a, and when you call variable a in future programming, it refers to the assigned value. Let's print this:"
   ]
  },
  {
   "cell_type": "code",
   "execution_count": 9,
   "id": "aab9b9da",
   "metadata": {},
   "outputs": [
    {
     "name": "stdout",
     "output_type": "stream",
     "text": [
      "1\n"
     ]
    }
   ],
   "source": [
    "print(a)"
   ]
  },
  {
   "attachments": {},
   "cell_type": "markdown",
   "id": "8263cfbd",
   "metadata": {},
   "source": [
    "Remember the following few points of the variables:\n",
    "\n",
    "• Variables are created when they are first assigned values.\n",
    "\n",
    "• Variables are replaced with their values when used in expressions.\n",
    "\n",
    "• Variables must be assigned before they can be used in expressions.\n",
    "\n",
    "• Variables refer to objects and are never declared ahead of time.\n",
    "\n",
    "Now, let's have a closer look with coding"
   ]
  },
  {
   "cell_type": "code",
   "execution_count": null,
   "id": "37ef430f",
   "metadata": {},
   "outputs": [],
   "source": [
    "a = 1\n",
    "print(a)\n",
    "a = 2           # a is reassigned to 2\n",
    "print(a)\n"
   ]
  },
  {
   "cell_type": "code",
   "execution_count": null,
   "id": "05cde0c2",
   "metadata": {},
   "outputs": [],
   "source": [
    "print(e)        # e is not defined yet, so it will raise an error"
   ]
  },
  {
   "attachments": {},
   "cell_type": "markdown",
   "id": "14bd9c2f",
   "metadata": {},
   "source": [
    "Well done, you have knowledge about the variables and data structures now. You can try to assign some values into different variables and print them to see if they follows your expectation."
   ]
  },
  {
   "cell_type": "code",
   "execution_count": null,
   "id": "77c20b02",
   "metadata": {},
   "outputs": [],
   "source": []
  }
 ],
 "metadata": {
  "kernelspec": {
   "display_name": "Python 3",
   "language": "python",
   "name": "python3"
  },
  "language_info": {
   "codemirror_mode": {
    "name": "ipython",
    "version": 3
   },
   "file_extension": ".py",
   "mimetype": "text/x-python",
   "name": "python",
   "nbconvert_exporter": "python",
   "pygments_lexer": "ipython3",
   "version": "3.9.15"
  }
 },
 "nbformat": 4,
 "nbformat_minor": 5
}
