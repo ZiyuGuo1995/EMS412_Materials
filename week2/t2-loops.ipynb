{
 "cells": [
  {
   "cell_type": "markdown",
   "metadata": {},
   "source": [
    "This week we are going to cover some very powerful tools of programming, namely loops and if statements. We will start with loops here.\n",
    "\n",
    "Loops allow us to execute repetitive computations with just a few lines of code. To demonstrate this to you we will do something pretty useless but it will show you how the basic code notation works.\n",
    "\n",
    "What we will do is get the computer to write out \"hello world\" to the screen 10 times. We will use the:\n",
    "\n",
    "print('hello world')\n",
    "\n",
    "statement to do this task. One way to achieve the aim is to write this out 10 times, one line after the other. Clearly this is not feasible, particularly if i wanted 100 or 1000 print statements, so we can use loops instead. First I will show you the code and then we will go through what has happened.\n",
    "\n",
    "Run the code below:\n"
   ]
  },
  {
   "cell_type": "code",
   "execution_count": null,
   "metadata": {},
   "outputs": [],
   "source": [
    "for i in range(10):\n",
    "    print('hello world')"
   ]
  },
  {
   "cell_type": "markdown",
   "metadata": {},
   "source": [
    "\n",
    "This has used just 2 lines of code to perform our task, but there is a lot going on here so we will go through each line in turn.\n",
    "\n",
    "We first look at line 1 and this is where the loop is initiated. In python a loop is defined by the words \"for\" and \"in\", and these have meaning like you would say in English - which I will come back to you very shortly.  But in this line there is also the \"i\" and \"range(10)\".\n",
    "\n",
    "Now, the \"range(10)\" to python means a list of the first 10 numbers, starting from 0 (don't forget this!!!). So it is fine to just think of it as a list of numbers 0,1,2,...9. Also, I can change the number 10 to any integer value and the \"range(number)\" will be a list of numbers 0,1,2,3,.... number-1 .\n",
    "\n",
    "In the loop, the \"i\" term is a variable that takes on each value contained in that list of range(10), one at a time. That is, it will take one the value 0, then 1, then 2, and so on up to the value 9. Each time it takes on the value it will execute whatever code you want inside the loop, which will follow on from the \"for loop\" statement.\n",
    "\n",
    "Now here is the question, how many lines of code should be executed within the loop and how does python know when to stop??? The answer: Now remember I warned you about not indenting your code, i.e. always starting your commands on the left hand side? This is because indenting code means something very specific to python, and now you will see this in use with loop. Following your for loop statement in line 1, you must now indent all the following lines that you want executed within the loop. You can see this on line 2 where it start 3 spaces in! Although there is only one line of code in this example, you can do as many as you wish, just keep the indentation to the same number of spaces.\n",
    "\n",
    "\n",
    "Python will now know what lines to execute by the indented lines, and when you want the loop to stop, just go back to writing the code in the left hand side again. For example, have a look at how this loop prints two statements and then exits the loop.\n",
    "\n",
    "Finally, you will see the : at the end of the line initatiing the loop. Don't forget this, it is needed so python knows to begin the loop process. You can now literally read the initial line in the \"for loop\" statement as:  for each variable \"i\" in the range of 0 to 10, do the following lines:\n"
   ]
  },
  {
   "cell_type": "code",
   "execution_count": null,
   "metadata": {},
   "outputs": [],
   "source": [
    "for i in range(10):\n",
    "    print('hello world')\n",
    "    print('I love python')\n",
    "print('look how i stopped the loop by returning back to the left hand side')"
   ]
  },
  {
   "cell_type": "markdown",
   "metadata": {},
   "source": [
    "Let's now do something a little more interesting and useful. Rememebr I said that he \"i\" in the loop is a varaible. Let's have a look at its value, by printing it out. Try this code below:"
   ]
  },
  {
   "cell_type": "code",
   "execution_count": null,
   "metadata": {},
   "outputs": [],
   "source": [
    "for i in range(5):\n",
    "    print('number is ',i)"
   ]
  },
  {
   "cell_type": "markdown",
   "metadata": {},
   "source": [
    "can you see how it takes on the values 0-4 and prints it to screen? Now the name \"i\" is not fixed and, like the other variables you used last week, you can name it whatever (within reason) you like, so use informative names!! So i could change that loop to the following, that does exactly the same thing.\n"
   ]
  },
  {
   "cell_type": "code",
   "execution_count": null,
   "metadata": {},
   "outputs": [],
   "source": [
    "for my_number in range(5):\n",
    "    print('number is ',my_number)"
   ]
  },
  {
   "cell_type": "markdown",
   "metadata": {},
   "source": [
    "now let's start doing some computations!! let's begin by summing up the first 10 numbers: 0-9. I can use the loop and set up two variables, one to be the variable within the loop that iterates though the list of numbers, and one to hold the sum as I add them up. Have a look at the code."
   ]
  },
  {
   "cell_type": "code",
   "execution_count": null,
   "metadata": {},
   "outputs": [],
   "source": [
    "sum = 0\n",
    "for i in range(10):\n",
    "    sum = sum + i\n",
    "    print('inside the loop ',i,sum)\n",
    "print('final sum is = ',sum)"
   ]
  },
  {
   "cell_type": "markdown",
   "metadata": {},
   "source": [
    "hopefully you will see how it works, the \"i\" goes through the numbers 0-9 and adds them onto the variable called \"sum\". Can you see how the number \"sum\" gets built up in that loop on line 3? You can see as it gets updated, it retains its current value and then the value of \"i\" gets added on top. \n",
    "\n",
    "Also note in the first line before the loop I have set the initial value of \"sum\" to zero. This is really important to initiate the value otherwise python will not know what sum is meant to be or its value, when it sees the loop and adds \"i\" to it.\n"
   ]
  },
  {
   "cell_type": "markdown",
   "metadata": {},
   "source": [
    "now before i go any further let's look at that range() functinality again and let's see what else it can do: Try the following lines of code:\n"
   ]
  },
  {
   "cell_type": "code",
   "execution_count": null,
   "metadata": {},
   "outputs": [],
   "source": [
    "for my_number in range(5,10):\n",
    "    print('number is ',my_number)"
   ]
  },
  {
   "cell_type": "markdown",
   "metadata": {},
   "source": [
    "the range(5,10) now starts at 5 and and finishes at 9\n",
    "\n",
    "and this:"
   ]
  },
  {
   "cell_type": "code",
   "execution_count": null,
   "metadata": {},
   "outputs": [],
   "source": [
    "for my_number in range(0,10,2):\n",
    "    print('number is ',my_number)"
   ]
  },
  {
   "cell_type": "markdown",
   "metadata": {},
   "source": [
    "runs through the number list, but with increments of 2.\n",
    "\n",
    "We can also go backwards by stating the start number 10, the end number \"0\" followed by -1"
   ]
  },
  {
   "cell_type": "code",
   "execution_count": null,
   "metadata": {},
   "outputs": [],
   "source": [
    "for my_number in range(10,0,-1):\n",
    "    print('number is ',my_number)"
   ]
  },
  {
   "cell_type": "markdown",
   "metadata": {},
   "source": [
    "so we can now do fancy loop structures. So here is a questions for you.\n",
    "\n",
    "Q1: write a loop that sums up the first 10 even numbers"
   ]
  },
  {
   "cell_type": "code",
   "execution_count": null,
   "metadata": {},
   "outputs": [],
   "source": [
    "# put your code here\n"
   ]
  },
  {
   "cell_type": "markdown",
   "metadata": {},
   "source": [
    "Q2: write a python code to compute the first 20 odd numbers"
   ]
  },
  {
   "cell_type": "code",
   "execution_count": null,
   "metadata": {},
   "outputs": [],
   "source": [
    "# write your code here\n"
   ]
  },
  {
   "cell_type": "markdown",
   "metadata": {},
   "source": [
    "Q3: write a bit of python code to compute the factorial 20. Remember n! = 1x2x3x... xn"
   ]
  },
  {
   "cell_type": "code",
   "execution_count": null,
   "metadata": {},
   "outputs": [],
   "source": [
    "# write your code here\n",
    "sum = 1\n",
    "for i in range(1,21):\n",
    "    sum = sum*i\n",
    "    print(i,sum)\n"
   ]
  },
  {
   "cell_type": "markdown",
   "metadata": {},
   "source": [
    "Q4: Write a python code to print out the first 20 terms of the Fibonacci series. If you don't know this series just google it."
   ]
  },
  {
   "cell_type": "code",
   "execution_count": null,
   "metadata": {},
   "outputs": [],
   "source": [
    "# write your code here - you will need two variable to hold the last two numbers.\n",
    "term1 = 0\n",
    "term2 = 1"
   ]
  }
 ],
 "metadata": {
  "kernelspec": {
   "display_name": "Python 3",
   "language": "python",
   "name": "python3"
  },
  "language_info": {
   "codemirror_mode": {
    "name": "ipython",
    "version": 3
   },
   "file_extension": ".py",
   "mimetype": "text/x-python",
   "name": "python",
   "nbconvert_exporter": "python",
   "pygments_lexer": "ipython3",
   "version": "3.8.5"
  }
 },
 "nbformat": 4,
 "nbformat_minor": 5
}
