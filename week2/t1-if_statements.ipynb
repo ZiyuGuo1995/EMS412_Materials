{
 "cells": [
  {
   "cell_type": "markdown",
   "metadata": {},
   "source": [
    "In this tutorial we are going to learn about \"if statements\". \"If statements\" allow you to execute parts of a code when certain conditions are met, and not to execute them when those conditions are not met. You can also build up and check a series of different conditions and to only execute bits of code specific to these conditions. Again it is easier to show you a simple \"if statement\" example to illustrate how this works, and we will go through the lines after.\n",
    "\n",
    "So to start, let's write a code that will check whether a variable's numerical values is greater than 10, and to print a message when it is greater than 10. Run the following code:\n"
   ]
  },
  {
   "cell_type": "code",
   "execution_count": null,
   "metadata": {},
   "outputs": [],
   "source": [
    "# set your variable's value.\n",
    "my_number = 11\n",
    "# for the if statement to check whether your number if greater than 10.\n",
    "if my_number > 10 :\n",
    "    # if greater then print a mesAage\n",
    "    print('your number is greater than 10 ')"
   ]
  },
  {
   "cell_type": "markdown",
   "metadata": {},
   "source": [
    "So you will hopefully see the statement 'your number is greater than 10 ' printed out. Now you can have a play with this and change the my_number variable's values to greater or lower than 10, also have a look at when its value is 10, does the print work? We will find out why shortly."
   ]
  },
  {
   "cell_type": "markdown",
   "metadata": {},
   "source": [
    "So how does this work? Firstly it all starts with the \"if\" word to tell python what it is about to perform an if statement. After this python need to check whether something is true or not - that is, it needs to check a logical statement and determine whether it is True or False. In our case, we want to see whether our number is greater than 10. So you will see that, following the if statement, there is the bit \"my_number > 10 :\"  Here the > is the greater than sign, and it works in the same way as you are used to in your maths class. So this statement is checked and would be True if the my_number is greater than 10, and False if if it not. If it is True then python will execute the code that follows.\n",
    "\n",
    "Now here is the trick again! If the condition is found to be True - i.e our my_number is greater than 10, then how does it know how many lines to execute and when to stop? Well, once again it comes back to that indentation of the code, and in fact works in an identical way to the \"for loops\"! That is, if the statement is True, python will execute all the following lines that are indented, and will stop when the code goes back to the original position. So in our example there are only two lines, one of which is a comment. But these lines are indented (4 spaces in)  so will be executed when \"my_number > 10\".\n",
    "\n",
    "So to illustrate this working with multiple lines of code within the if statement and something following its completion we could write:"
   ]
  },
  {
   "cell_type": "code",
   "execution_count": null,
   "metadata": {},
   "outputs": [],
   "source": [
    "# set your variable's value.\n",
    "my_number = 11\n",
    "# for the if statement to check whether your number if greater than 10.\n",
    "if my_number > 10 :\n",
    "    # if greater then print a mesAage\n",
    "    print('your number is greater than 10 ')\n",
    "    x = 4\n",
    "    y = 5\n",
    "    print('lots of pointless lines in this if statement - but it shows how it works, by the way x+y= ',x+y)\n",
    "print('look i have come back to the start position to kill off the if statement')\n"
   ]
  },
  {
   "cell_type": "markdown",
   "metadata": {},
   "source": [
    "Run the lines above and change the my_number value to less than 10, you should see how it now works.\n",
    "\n",
    "NUMERICAL LOGICAL STATEMENTS:\n",
    "\n",
    "You will see we have used \">\" to represent greater than, but there are of course the other operators that can be used in python (as all languages) within these logical statements. theres are:\n",
    "\n",
    "<  less than\n",
    ">= is greater than or equal to\n",
    "<= is less than or equal to.\n",
    "!= is not equal to\n",
    "== is equal to\n",
    "\n",
    "you can practice these in the following by changing the two variable numbers"
   ]
  },
  {
   "cell_type": "code",
   "execution_count": null,
   "metadata": {},
   "outputs": [],
   "source": [
    "my_number = 10\n",
    "your_number = 11\n",
    "print('my number is ',my_number,' your number is ',your_number)\n",
    "if my_number ==  your_number :\n",
    "   print('my number is equal to your number')\n",
    "\n",
    "if my_number !=  your_number :\n",
    "   print('my number is not equal to your number')\n",
    "\n",
    "if my_number >=  your_number :\n",
    "   print('my number is greater than or equal to your number')\n",
    "\n",
    "if my_number <=  your_number :\n",
    "   print('my number is less than or equal to your number')\n",
    "\n",
    "\n"
   ]
  },
  {
   "cell_type": "markdown",
   "metadata": {},
   "source": [
    "Next we are going to perform multiple if statements which works in the same way as above, but allows python to check and execute code from one condition after another, after another. To do this we use the following \"if, elsif, else\" statements like:\n",
    "\n",
    "if condition1 :\n",
    "   exectute code\n",
    "elif condition2 :\n",
    "   execute code\n",
    "elif condition3 :\n",
    "   exeute code\n",
    "else :\n",
    "   execute code\n",
    "\n",
    "If one of the condition comes back as True, then again the code that follows the condition is executed - using the indentation! Note that only the first True statement is executed and the rest are ignored. The final else is used to execute some code when all the previous if statements were False.\n",
    "\n",
    "Again, doing this be example is the easiest, and here we will  write some code to determine whether a variable's values is between 0-10, 11-100, 101-1000 or greater than 1000. You can change the value of my_number to see how this works."
   ]
  },
  {
   "cell_type": "markdown",
   "metadata": {},
   "source": [
    "# set your variable's value.\n",
    "my_number = 1001\n",
    "# for the if statement to check whether your number if greater than 10.\n",
    "if my_number <= 10 :\n",
    "    print(my_number, ' is less than or equal to 10' )\n",
    "elif my_number <= 100 :\n",
    "    print(my_number, ' is less than or equal to 100 but greater than 10' )\n",
    "elif my_number <= 1000 :\n",
    "    print(my_number, ' is less than or equal to 1000 but greater than 100' )\n",
    "else:\n",
    "     print(my_number, ' is greater than 1000')\n",
    "    "
   ]
  },
  {
   "cell_type": "markdown",
   "metadata": {},
   "source": [
    "Now your turn, can you extend the code above to print a message to say is within 1000-10000, and 10000-100000? the same code is below for you to paly with:"
   ]
  },
  {
   "cell_type": "code",
   "execution_count": 15,
   "metadata": {},
   "outputs": [],
   "source": [
    "# set your variable's value.\n",
    "my_number = 1001\n",
    "# for the if statement to check whether your number if greater than 10.\n",
    "if my_number <= 10 :\n",
    "    print(my_number, ' is less than or equal to 10' )\n",
    "elif my_number <= 100 :\n",
    "    print(my_number, ' is less than or equal to 100 but greater than 10' )\n",
    "elif my_number <= 1000 :\n",
    "    print(my_number, ' is less than or equal to 1000 but greater than 100' )\n",
    "# put the rest in here."
   ]
  },
  {
   "cell_type": "markdown",
   "metadata": {},
   "source": []
  }
 ],
 "metadata": {
  "kernelspec": {
   "display_name": "Python 3",
   "language": "python",
   "name": "python3"
  },
  "language_info": {
   "codemirror_mode": {
    "name": "ipython",
    "version": 3
   },
   "file_extension": ".py",
   "mimetype": "text/x-python",
   "name": "python",
   "nbconvert_exporter": "python",
   "pygments_lexer": "ipython3",
   "version": "3.8.5"
  }
 },
 "nbformat": 4,
 "nbformat_minor": 5
}
