{
 "cells": [
  {
   "cell_type": "markdown",
   "metadata": {},
   "source": [
    "Q1: given two variables (number1 and number2) with numerical values, write a piece of code that prints which is the larger, of if they are the same"
   ]
  },
  {
   "cell_type": "code",
   "execution_count": 5,
   "metadata": {},
   "outputs": [
    {
     "name": "stdout",
     "output_type": "stream",
     "text": [
      "number1 is smaller than number2\n"
     ]
    }
   ],
   "source": [
    "number1 = -1 #put a number in here\n",
    "number2 =  1.5 #put a number in here\n",
    "# write your codes below.\n",
    "if number1 > number2:\n",
    "    print(f'number1 is greater than number2')\n",
    "elif number1 < number2:\n",
    "    print(f'number1 is smaller than number2')\n",
    "else:\n",
    "    print(f'number1 and number2 have the same value')\n"
   ]
  },
  {
   "cell_type": "markdown",
   "metadata": {},
   "source": [
    "Q2: can you write a bit of code that prints a statement telling me whether a variable with an integer value is even or odd. To do this we use the % modulo operator ( a%2 = 0 if even, and a%2=1 if odd)"
   ]
  },
  {
   "cell_type": "markdown",
   "metadata": {},
   "source": [
    "To be even --> needs to be divisible by 2 then use an 'else' statement if odd."
   ]
  },
  {
   "cell_type": "code",
   "execution_count": 13,
   "metadata": {},
   "outputs": [
    {
     "name": "stdout",
     "output_type": "stream",
     "text": [
      "5 is odd\n"
     ]
    }
   ],
   "source": [
    "my_number =  5 # give it an integer value\n",
    "# put your code here.\n",
    "if (my_number % 2) == 0:\n",
    "    print(f'{my_number} is even')\n",
    "else:\n",
    "    print(f'{my_number} is odd')\n",
    "\n",
    "# can also do \n",
    "\n",
    "# if (my_number % 2) > 0:\n",
    "#     print(f'{my_number} is odd')\n",
    "# else:\n",
    "#     print(f'{my_number} is even')\n",
    "\n",
    "    "
   ]
  },
  {
   "cell_type": "markdown",
   "metadata": {},
   "source": [
    "Q3: write a bit of code that checks whether at a quadratic function has two real roots and to compute them if it does. So given the values a,b,c find, if they exist, the roots of ax^2 + bx + c . If there are not 2 real roots, then get the code to print a statement saying so (you will learn comlex numbers at a later date in your degree)."
   ]
  },
  {
   "cell_type": "code",
   "execution_count": 17,
   "metadata": {},
   "outputs": [
    {
     "name": "stdout",
     "output_type": "stream",
     "text": [
      "Quadratic function has no real roots\n"
     ]
    }
   ],
   "source": [
    "a = 1  # put your value here\n",
    "b = -2 # put your value here\n",
    "c = 4 # put your value here\n",
    "# put the code here.\n",
    "\n",
    "if b**2 - 4*a*c > 0:\n",
    "    print('Quadratic function has 2 real roots')\n",
    "elif b**2 - 4*a*c == 0:\n",
    "    print('Quadratic function has 1 real root')\n",
    "else:\n",
    "    print('Quadratic function has no real roots')"
   ]
  },
  {
   "cell_type": "markdown",
   "metadata": {},
   "source": [
    "Q4: create a bit of code that loops through the numbers 1 to 100, and sums up all the odd numbers togther and sums the even numbers together. For this you will need to have a loop and if statement inside it!! you will also need to use the % (the modulo) you learnt last time to see if a number is odd or even."
   ]
  },
  {
   "cell_type": "code",
   "execution_count": 20,
   "metadata": {},
   "outputs": [
    {
     "name": "stdout",
     "output_type": "stream",
     "text": [
      "1\n",
      "4\n",
      "9\n",
      "16\n",
      "25\n",
      "36\n",
      "49\n",
      "64\n",
      "81\n",
      "100\n",
      "121\n",
      "144\n",
      "169\n",
      "196\n",
      "225\n",
      "256\n",
      "289\n",
      "324\n",
      "361\n",
      "400\n",
      "441\n",
      "484\n",
      "529\n",
      "576\n",
      "625\n",
      "676\n",
      "729\n",
      "784\n",
      "841\n",
      "900\n",
      "961\n",
      "1024\n",
      "1089\n",
      "1156\n",
      "1225\n",
      "1296\n",
      "1369\n",
      "1444\n",
      "1521\n",
      "1600\n",
      "1681\n",
      "1764\n",
      "1849\n",
      "1936\n",
      "2025\n",
      "2116\n",
      "2209\n",
      "2304\n",
      "2401\n",
      "2500\n"
     ]
    }
   ],
   "source": [
    "tot_even = 0\n",
    "tot_odd = 0\n",
    "# put your code here\n",
    "for number in range(1, 100+1):\n",
    "    if (number % 2) == 0:\n",
    "        tot_even += number\n",
    "#         print(tot_even)\n",
    "    else:\n",
    "        tot_odd += number\n",
    "#         print(tot_odd)\n"
   ]
  }
 ],
 "metadata": {
  "kernelspec": {
   "display_name": "Python 3",
   "language": "python",
   "name": "python3"
  },
  "language_info": {
   "codemirror_mode": {
    "name": "ipython",
    "version": 3
   },
   "file_extension": ".py",
   "mimetype": "text/x-python",
   "name": "python",
   "nbconvert_exporter": "python",
   "pygments_lexer": "ipython3",
   "version": "3.8.5"
  }
 },
 "nbformat": 4,
 "nbformat_minor": 5
}
