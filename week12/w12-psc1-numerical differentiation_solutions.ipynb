{
 "cells": [
  {
   "cell_type": "code",
   "execution_count": 3,
   "metadata": {},
   "outputs": [],
   "source": [
    "import numpy as np\n",
    "import matplotlib.pyplot as plt"
   ]
  },
  {
   "cell_type": "code",
   "execution_count": 4,
   "metadata": {},
   "outputs": [],
   "source": [
    "def derivative(f,a,method='central',h=0.01):\n",
    "    '''Compute the difference formula for f'(a) with step size h.\n",
    "\n",
    "    Parameters\n",
    "    ----------\n",
    "    f : function\n",
    "        Vectorized function of one variable\n",
    "    a : number\n",
    "        Compute derivative at x = a\n",
    "    method : string\n",
    "        Difference formula: 'forward', 'backward' or 'central'\n",
    "    h : number\n",
    "        Step size in difference formula\n",
    "\n",
    "    Returns\n",
    "    -------\n",
    "    float\n",
    "        Difference formula:\n",
    "            central: f(a+h) - f(a-h))/2h\n",
    "            forward: f(a+h) - f(a))/h\n",
    "            backward: f(a) - f(a-h))/h            \n",
    "    '''\n",
    "    if method == 'central':\n",
    "        return (f(a + h) - f(a - h))/(2*h)\n",
    "    elif method == 'forward':\n",
    "        return (f(a + h) - f(a))/h\n",
    "    elif method == 'backward':\n",
    "        return (f(a) - f(a - h))/h\n",
    "    else:\n",
    "        raise ValueError(\"Method must be 'central', 'forward' or 'backward'.\")"
   ]
  },
  {
   "cell_type": "markdown",
   "metadata": {},
   "source": [
    "# Q1"
   ]
  },
  {
   "cell_type": "markdown",
   "metadata": {},
   "source": [
    "Use derivative to compute values and then plot the derivative  of the function:\n",
    "\n",
    "$$f(x) = 7{x^3} - 5x + 1,\\,\\,x \\in [ - 5,5]$$\n",
    "\n",
    "Compute the derivative of  by hand, plot the formula for  and compare to the central difference numerical approximation above."
   ]
  },
  {
   "cell_type": "code",
   "execution_count": 11,
   "metadata": {},
   "outputs": [],
   "source": [
    "# By hand\n",
    "\n",
    "dYdx = 21*x**2 - 5"
   ]
  },
  {
   "cell_type": "code",
   "execution_count": 12,
   "metadata": {},
   "outputs": [],
   "source": [
    "## Your Code## \n",
    "x = np.linspace(-5,5,100)\n",
    "\n",
    "def f(x):\n",
    "    f=7*x**3-5*x\n",
    "    return f\n",
    "\n",
    "y = f(x)\n",
    "dydx = derivative(f,x,method='central')"
   ]
  },
  {
   "cell_type": "code",
   "execution_count": 13,
   "metadata": {},
   "outputs": [
    {
     "data": {
      "image/png": "[encoded data removed]",
      "text/plain": [
       "<Figure size 864x360 with 1 Axes>"
      ]
     },
     "metadata": {
      "needs_background": "light"
     },
     "output_type": "display_data"
    }
   ],
   "source": [
    "plt.figure(figsize=(12,5))\n",
    "plt.plot(x,dydx,'r.',label='Central Difference')\n",
    "plt.plot(x,dYdx,'b',label='True Value')\n",
    "plt.legend(loc='best')\n",
    "plt.show()"
   ]
  },
  {
   "cell_type": "code",
   "execution_count": 16,
   "metadata": {},
   "outputs": [
    {
     "name": "stdout",
     "output_type": "stream",
     "text": [
      "Average Relative Error: -0.0013843837388438144 %\n"
     ]
    }
   ],
   "source": [
    "tot = 0\n",
    "for i in range(len(dydx)):\n",
    "    tot += ((dydx[i] - dYdx[i])/dydx[i])*100\n",
    "l = len(dydx)\n",
    "print('Average Relative Error:', tot/l, '%')"
   ]
  },
  {
   "cell_type": "markdown",
   "metadata": {},
   "source": [
    "# Q2 "
   ]
  },
  {
   "cell_type": "markdown",
   "metadata": {},
   "source": [
    "Let f(x) = cosh(x) and a = 2. Let h = 0.01 and approximate $f'(a)$ using forward, backward and central differences. Work to 8 decimal places and compare your answers with the exact result, which is sinh(2).\n"
   ]
  },
  {
   "cell_type": "code",
   "execution_count": 18,
   "metadata": {},
   "outputs": [
    {
     "name": "stdout",
     "output_type": "stream",
     "text": [
      "3.645731991036749\n"
     ]
    }
   ],
   "source": [
    "## Your Code## \n",
    "a = 2\n",
    "\n",
    "# Forward\n",
    "dydx_f = derivative(np.cosh,a,method='forward')\n",
    "print(dydx_f)"
   ]
  },
  {
   "cell_type": "code",
   "execution_count": 19,
   "metadata": {},
   "outputs": [
    {
     "name": "stdout",
     "output_type": "stream",
     "text": [
      "3.60810972060861\n"
     ]
    }
   ],
   "source": [
    "# Backward\n",
    "dydx_b = derivative(np.cosh,a,method='backward')\n",
    "print(dydx_b)"
   ]
  },
  {
   "cell_type": "code",
   "execution_count": 20,
   "metadata": {},
   "outputs": [
    {
     "name": "stdout",
     "output_type": "stream",
     "text": [
      "3.6269208558226795\n"
     ]
    }
   ],
   "source": [
    "# Central\n",
    "dydx_c = derivative(np.cosh,a,method='central')\n",
    "print(dydx_c)"
   ]
  },
  {
   "cell_type": "code",
   "execution_count": 22,
   "metadata": {},
   "outputs": [
    {
     "name": "stdout",
     "output_type": "stream",
     "text": [
      "3.626860407847019\n"
     ]
    }
   ],
   "source": [
    "# Exact\n",
    "exact = np.sinh(2)\n",
    "print(exact)"
   ]
  },
  {
   "cell_type": "code",
   "execution_count": 28,
   "metadata": {},
   "outputs": [
    {
     "name": "stdout",
     "output_type": "stream",
     "text": [
      "Relative Error - Forward: 0.00520328 %\n",
      "Relative Error - Backward: -0.00516995 %\n",
      "Relative Error - Central: 0.00001667 %\n"
     ]
    }
   ],
   "source": [
    "## Relative Error Analysis\n",
    "# Forward\n",
    "print(f'Relative Error - Forward: {((dydx_f-exact)/exact):.8f} %')\n",
    "\n",
    "# Backward\n",
    "print(f'Relative Error - Backward: {((dydx_b-exact)/exact):.8f} %')\n",
    "\n",
    "# Central\n",
    "print(f'Relative Error - Central: {((dydx_c-exact)/exact):.8f} %')"
   ]
  },
  {
   "cell_type": "markdown",
   "metadata": {},
   "source": [
    "# Q3"
   ]
  },
  {
   "cell_type": "markdown",
   "metadata": {},
   "source": [
    "The distance x, measured in metres, of a downhill skier from a fixed point is measured at\n",
    "intervals of 0.25 s. The data gathered are shown in the table below"
   ]
  },
  {
   "attachments": {
    "image.png": {
     "image/png": "[encoded data removed]"
    }
   },
   "cell_type": "markdown",
   "metadata": {},
   "source": [
    "![image.png](attachment:image.png)"
   ]
  },
  {
   "cell_type": "markdown",
   "metadata": {},
   "source": [
    "Use a central difference to approximate the skier’s velocity and acceleration at the times\n",
    "t =0.25 s, 0.75 s and 1.25 s. Give your answers to 1 decimal place.\n"
   ]
  },
  {
   "attachments": {
    "fec617fd-d216-4e78-8ad4-1bef590fe3e3.png": {
     "image/png": "[encoded data removed]"
    }
   },
   "cell_type": "markdown",
   "metadata": {},
   "source": [
    "### Calculating Velocity - First Derivative\n",
    "\n",
    "![image.png](attachment:fec617fd-d216-4e78-8ad4-1bef590fe3e3.png)"
   ]
  },
  {
   "attachments": {
    "89ced158-0a14-45d5-99d7-694227fcb1b6.png": {
     "image/png": "[encoded data removed]"
    }
   },
   "cell_type": "markdown",
   "metadata": {},
   "source": [
    "### Calculating Acceleration - Second Derivative \n",
    "\n",
    "![image.png](attachment:89ced158-0a14-45d5-99d7-694227fcb1b6.png)"
   ]
  },
  {
   "cell_type": "code",
   "execution_count": 63,
   "metadata": {},
   "outputs": [],
   "source": [
    "## Your Code## \n",
    "# list indices = [0, 1, 2, 3, 4, 5, 6]\n",
    "t = [0, 0.25, 0.5, 0.75, 1, 1.25, 1.5]\n",
    "x = [0, 4.3, 10.2, 17.2, 26.2, 33.1, 39.1]"
   ]
  },
  {
   "cell_type": "code",
   "execution_count": 66,
   "metadata": {},
   "outputs": [
    {
     "name": "stdout",
     "output_type": "stream",
     "text": [
      "20.4 m/s\n",
      "32.0 m/s\n",
      "25.800000000000004 m/s\n"
     ]
    }
   ],
   "source": [
    "## Finding velocities ##\n",
    "# t = 0.25s\n",
    "v1 = (x[2] - x[0])/(t[2] - t[0])\n",
    "print(v1, 'm/s')\n",
    "\n",
    "# t = 0.75s\n",
    "v2 = (x[4] - x[2])/(t[4] - t[2])\n",
    "print(v2, 'm/s')\n",
    "\n",
    "# t = 1.25s\n",
    "v3 = (x[6] - x[4])/(t[6] - t[4])\n",
    "print(v3, 'm/s')\n"
   ]
  },
  {
   "cell_type": "code",
   "execution_count": 72,
   "metadata": {},
   "outputs": [
    {
     "name": "stdout",
     "output_type": "stream",
     "text": [
      "25.599999999999994 m/s^2\n",
      "32.0 m/s^2\n",
      "-14.400000000000034 m/s^2\n"
     ]
    }
   ],
   "source": [
    "## Finding Accelerations ##\n",
    "# t = 0.25s\n",
    "a1 = (x[2] - 2*x[1] + x[0])/(t[2] - t[1])**2\n",
    "print(a1, 'm/s^2')\n",
    "\n",
    "# t = 0.75s\n",
    "a2 = (x[4] - 2*x[3] + x[2])/(t[4] - t[3])**2\n",
    "print(a2, 'm/s^2')\n",
    "\n",
    "# t = 1.25s\n",
    "a3 = (x[6] - 2*x[5] + x[4])/(t[6] - t[5])**2\n",
    "print(a3, 'm/s^2')"
   ]
  }
 ],
 "metadata": {
  "kernelspec": {
   "display_name": "Python 3",
   "language": "python",
   "name": "python3"
  },
  "language_info": {
   "codemirror_mode": {
    "name": "ipython",
    "version": 3
   },
   "file_extension": ".py",
   "mimetype": "text/x-python",
   "name": "python",
   "nbconvert_exporter": "python",
   "pygments_lexer": "ipython3",
   "version": "3.8.5"
  }
 },
 "nbformat": 4,
 "nbformat_minor": 4
}
