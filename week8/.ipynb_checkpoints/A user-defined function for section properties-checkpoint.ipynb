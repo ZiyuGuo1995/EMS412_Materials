{
 "cells": [
  {
   "cell_type": "markdown",
   "metadata": {},
   "source": [
    "## Area and centroids of polygon"
   ]
  },
  {
   "attachments": {
    "image.png": {
     "image/png": "[encoded data removed]"
    }
   },
   "cell_type": "markdown",
   "metadata": {},
   "source": [
    "![image.png](attachment:image.png)"
   ]
  },
  {
   "cell_type": "markdown",
   "metadata": {},
   "source": [
    "In this section, the vertices of the polygon under consideration are taken to be ${\\displaystyle (x_{0},y_{0}),(x_{1},y_{1}),\\ldots ,(x_{n-1},y_{n-1})}$ in order. For convenience in some formulas, the notation $(xn, yn) = (x0, y0)$ will also be used. If the polygon is non-self-intersecting (that is, simple), the signed area is:"
   ]
  },
  {
   "attachments": {
    "image.png": {
     "image/png": "[encoded data removed]"
    }
   },
   "cell_type": "markdown",
   "metadata": {},
   "source": [
    "![image.png](attachment:image.png)"
   ]
  },
  {
   "cell_type": "markdown",
   "metadata": {},
   "source": [
    "Using the same convention for vertex coordinates as in the previous section, the coordinates of the centroid of a solid simple polygon are"
   ]
  },
  {
   "attachments": {
    "image.png": {
     "image/png": "[encoded data removed]"
    }
   },
   "cell_type": "markdown",
   "metadata": {},
   "source": [
    "![image.png](attachment:image.png)"
   ]
  },
  {
   "attachments": {
    "image.png": {
     "image/png": "[encoded data removed]"
    }
   },
   "cell_type": "markdown",
   "metadata": {},
   "source": [
    "![image.png](attachment:image.png)"
   ]
  },
  {
   "cell_type": "markdown",
   "metadata": {},
   "source": [
    "## The second moment of area of polygon"
   ]
  },
  {
   "cell_type": "markdown",
   "metadata": {},
   "source": [
    "The second moment of area about the origin for any simple polygon on the XY-plane can be computed in general by summing contributions from each segment of the polygon after dividing the area into a set of triangles. This formula is related to the shoelace formula and can be considered a special case of Green's theorem.\n",
    "\n",
    "A polygon is assumed to have $n$ vertices, numbered in counter-clockwise fashion. If polygon vertices are numbered clockwise, returned values will be negative, but absolute values will be correct.\n",
    "\n",
    "${\\displaystyle {\\begin{aligned}I_{y}&={\\frac {1}{12}}\\sum _{i=1}^{n}\\left(x_{i}y_{i+1}-x_{i+1}y_{i}\\right)\\left(x_{i}^{2}+x_{i}x_{i+1}+x_{i+1}^{2}\\right)\\\\I_{x}&={\\frac {1}{12}}\\sum _{i=1}^{n}\\left(x_{i}y_{i+1}-x_{i+1}y_{i}\\right)\\left(y_{i}^{2}+y_{i}y_{i+1}+y_{i+1}^{2}\\right)\\\\I_{xy}&={\\frac {1}{24}}\\sum _{i=1}^{n}\\left(x_{i}y_{i+1}-x_{i+1}y_{i}\\right)\\left(x_{i}y_{i+1}+2x_{i}y_{i}+2x_{i+1}y_{i+1}+x_{i+1}y_{i}\\right)\\end{aligned}}}$\n",
    "\n",
    "\n",
    "where ${\\displaystyle x_{i},y_{i}}x_{i},y_{i}$ are the coordinates of the $i$-th polygon vertex, for ${\\displaystyle 1\\leq i\\leq n}1\\leq i\\leq n$. Also, ${\\displaystyle x_{n+1},y_{n+1}}{\\displaystyle x_{n+1},y_{n+1}}$ are assumed to be equal to the coordinates of the first vertex, i.e., ${\\displaystyle x_{n+1}=x_{1}}$  and ${\\displaystyle y_{n+1}=y_{1}}$"
   ]
  },
  {
   "cell_type": "markdown",
   "metadata": {},
   "source": [
    "http://richardson.eng.ua.edu/Former_Courses/CE_331_fa09/Projects/A_and_I_of_Polygon.pdf"
   ]
  },
  {
   "cell_type": "code",
   "execution_count": 10,
   "metadata": {},
   "outputs": [],
   "source": [
    "import matplotlib.pyplot as plt\n",
    "from math import *"
   ]
  },
  {
   "cell_type": "code",
   "execution_count": 6,
   "metadata": {},
   "outputs": [],
   "source": [
    "import matplotlib.pyplot as plt\n",
    "from math import atan2, sin, cos, sqrt, pi, degrees\n",
    "\n",
    "\n",
    "def area(pts):\n",
    "    'Area of cross-section.'\n",
    "    if pts[0] != pts[-1]:\n",
    "        pts = pts + pts[:1] # If the first and last point doesn't conicide, add the first point to the full list to close the loop \n",
    "    x = [c[0] for c in pts]\n",
    "    y = [c[1] for c in pts]\n",
    "    s = 0\n",
    "    for i in range(len(pts) - 1):\n",
    "        s += x[i] * y[i + 1] - x[i + 1] * y[i]\n",
    "    return s / 2\n",
    "\n",
    "\n",
    "def centroid(pts):\n",
    "    'Location of centroid.'\n",
    "\n",
    "    if pts[0] != pts[-1]:\n",
    "        pts = pts + pts[:1]\n",
    "    x = [c[0] for c in pts]\n",
    "    y = [c[1] for c in pts]\n",
    "    sx = sy = 0\n",
    "    a = area(pts)\n",
    "    for i in range(len(pts) - 1):\n",
    "        sx += (x[i] + x[i + 1]) * (x[i] * y[i + 1] - x[i + 1] * y[i])\n",
    "        sy += (y[i] + y[i + 1]) * (x[i] * y[i + 1] - x[i + 1] * y[i])\n",
    "    return sx / (6 * a), sy / (6 * a)\n",
    "\n",
    "\n",
    "def inertia(pts):\n",
    "    'Moments and product of inertia about centroid.'\n",
    "\n",
    "    if pts[0] != pts[-1]:\n",
    "        pts = pts + pts[:1]\n",
    "    x = [c[0] for c in pts]\n",
    "    y = [c[1] for c in pts]\n",
    "    sxx = syy = sxy = 0\n",
    "    a = area(pts)\n",
    "    cx, cy = centroid(pts)\n",
    "    for i in range(len(pts) - 1):\n",
    "        sxx += (y[i] ** 2 + y[i] * y[i + 1] + y[i + 1] ** 2) * (x[i] * y[i + 1] - x[i + 1] * y[i])\n",
    "        syy += (x[i] ** 2 + x[i] * x[i + 1] + x[i + 1] ** 2) * (x[i] * y[i + 1] - x[i + 1] * y[i])\n",
    "        sxy += (x[i] * y[i + 1] + 2 * x[i] * y[i] + 2 * x[i + 1] * y[i + 1] + x[i + 1] * y[i]) * (\n",
    "                    x[i] * y[i + 1] - x[i + 1] * y[i])\n",
    "    return sxx / 12 - a * cy ** 2, syy / 12 - a * cx ** 2, sxy / 24 - a * cx * cy\n",
    "\n",
    "\n",
    "def principal(Ixx, Iyy, Ixy):\n",
    "    'Principal moments of inertia and orientation.'\n",
    "    'Principal means the maxium and minimum momment of inertia'\n",
    "    avg = (Ixx + Iyy) / 2\n",
    "    diff = (Ixx - Iyy) / 2  # signed\n",
    "    I1 = avg + sqrt(diff ** 2 + Ixy ** 2)\n",
    "    I2 = avg - sqrt(diff ** 2 + Ixy ** 2)\n",
    "    theta = atan2(-Ixy, diff) / 2\n",
    "    return I1, I2, theta\n",
    "\n",
    "\n",
    "def summary(pts):\n",
    "    'Text summary of cross-sectional properties.'\n",
    "\n",
    "    a = area(pts)\n",
    "    cx, cy = centroid(pts)\n",
    "    Ixx, Iyy, Ixy = inertia(pts)\n",
    "    I1, I2, theta = principal(Ixx, Iyy, Ixy)\n",
    "    summ = \"\"\"Area:\n",
    "  A = {}\n",
    "Centroid:\n",
    "  cx = {}\n",
    "  cy = {}\n",
    "Moments and product of inertia:\n",
    "  Ixx = {}\n",
    "  Iyy = {}\n",
    "  Ixy = {}\n",
    "Principal moments of inertia and direction:\n",
    "  I1 = {}\n",
    "  I2 = {}\n",
    "  θ︎ = {}°\"\"\".format(a, cx, cy, Ixx, Iyy, Ixy, I1, I2, degrees(theta))\n",
    "    return summ\n",
    "\n",
    "\n",
    "def outline(pts, basename='section', format='pdf', size=(8, 8), dpi=100):\n",
    "    'Draw an outline of the cross-section with centroid and principal axes.'\n",
    "\n",
    "    if pts[0] != pts[-1]:\n",
    "        pts = pts + pts[:1]\n",
    "    x = [c[0] for c in pts]\n",
    "    y = [c[1] for c in pts]\n",
    "\n",
    "    # Get the bounds of the cross-section\n",
    "    minx = min(x)\n",
    "    maxx = max(x)\n",
    "    miny = min(y)\n",
    "    maxy = max(y)\n",
    "\n",
    "    # Whitespace border is 5% of the larger dimension\n",
    "    b = .05 * max(maxx - minx, maxy - miny)\n",
    "\n",
    "    # Get the properties needed for the centroid and principal axes\n",
    "    cx, cy = centroid(pts)\n",
    "    i = inertia(pts)\n",
    "    p = principal(*i)\n",
    "\n",
    "    # Principal axes extend 10% of the minimum dimension from the centroid\n",
    "    length = min(maxx - minx, maxy - miny) / 10\n",
    "    a1x = [cx - length * cos(p[2]), cx + length * cos(p[2])]\n",
    "    a1y = [cy - length * sin(p[2]), cy + length * sin(p[2])]\n",
    "    a2x = [cx - length * cos(p[2] + pi / 2), cx + length * cos(p[2] + pi / 2)]\n",
    "    a2y = [cy - length * sin(p[2] + pi / 2), cy + length * sin(p[2] + pi / 2)]\n",
    "\n",
    "    # Plot and save\n",
    "    # Axis colors chosen from http://mkweb.bcgsc.ca/colorblind/\n",
    "    fig, ax = plt.subplots(figsize=size)\n",
    "    ax.plot(x, y, 'k*-', lw=2)\n",
    "    ax.plot(a1x, a1y, '-', color='#0072B2', lw=2)  # blue\n",
    "    ax.plot(a2x, a2y, '-', color='#D55E00')  # vermillion\n",
    "    ax.plot(cx, cy, 'ko', mec='k')\n",
    "    ax.set_aspect('equal')\n",
    "    plt.xlim(xmin=minx - b, xmax=maxx + b)\n",
    "    plt.ylim(ymin=miny - b, ymax=maxy + b)\n",
    "    plt.show()\n",
    "    filename = basename + '.' + format    \n",
    "    plt.savefig(filename, format=format, dpi=dpi)\n",
    "    plt.close()\n"
   ]
  },
  {
   "cell_type": "code",
   "execution_count": 7,
   "metadata": {},
   "outputs": [
    {
     "name": "stdout",
     "output_type": "stream",
     "text": [
      "Area:\n",
      "  A = 5.0\n",
      "Centroid:\n",
      "  cx = 2.5\n",
      "  cy = 0.5\n",
      "Moments and product of inertia:\n",
      "  Ixx = 0.41666666666666674\n",
      "  Iyy = 10.416666666666664\n",
      "  Ixy = 0.0\n",
      "Principal moments of inertia and direction:\n",
      "  I1 = 10.416666666666664\n",
      "  I2 = 0.4166666666666661\n",
      "  θ︎ = -90.0°\n"
     ]
    },
    {
     "data": {
      "image/png": "[encoded data removed]",
      "text/plain": [
       "<Figure size 576x432 with 1 Axes>"
      ]
     },
     "metadata": {
      "needs_background": "light"
     },
     "output_type": "display_data"
    }
   ],
   "source": [
    "#shape = [(0, 0), (5, 0), (5, 1), (3.125, 1), (2.125, 3), (0.875, 3), (1.875, 1), (0, 1)]\n",
    "shape = [(0, 0), (5, 0), (5, 1), (0, 1)]\n",
    "print(summary(shape))\n",
    "outline(shape, 'skewed', format='png', size=(8, 6))"
   ]
  },
  {
   "cell_type": "code",
   "execution_count": null,
   "metadata": {},
   "outputs": [],
   "source": []
  }
 ],
 "metadata": {
  "kernelspec": {
   "display_name": "Python 3",
   "language": "python",
   "name": "python3"
  },
  "language_info": {
   "codemirror_mode": {
    "name": "ipython",
    "version": 3
   },
   "file_extension": ".py",
   "mimetype": "text/x-python",
   "name": "python",
   "nbconvert_exporter": "python",
   "pygments_lexer": "ipython3",
   "version": "3.8.5"
  }
 },
 "nbformat": 4,
 "nbformat_minor": 4
}
