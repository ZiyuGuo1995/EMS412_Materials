{
 "cells": [
  {
   "cell_type": "markdown",
   "metadata": {},
   "source": [
    "# Week 8-PSC-questions"
   ]
  },
  {
   "cell_type": "markdown",
   "metadata": {},
   "source": [
    "## Q1: plot stress-strain curve"
   ]
  },
  {
   "cell_type": "markdown",
   "metadata": {},
   "source": [
    "A dogbone sample is given below, the key paramters we will use are the gauage length $L$, gauge width $W_c$, sample thickness $T$. See the figure below:"
   ]
  },
  {
   "attachments": {
    "image.png": {
     "image/png": "[encoded data removed]"
    }
   },
   "cell_type": "markdown",
   "metadata": {},
   "source": [
    "![image.png](attachment:image.png)"
   ]
  },
  {
   "cell_type": "markdown",
   "metadata": {},
   "source": [
    "The data is given in a file called \"data-Q1.csv\", note that the column names are \"Extension\" and \"Load\". Now plot stress-strain curve and determine the ultimate tensile strength (the maximum strength). "
   ]
  },
  {
   "cell_type": "code",
   "execution_count": 1,
   "metadata": {},
   "outputs": [],
   "source": [
    "# Import libraries\n",
    "import matplotlib.pyplot as plt\n",
    "import numpy as np\n",
    "import pandas as pd\n",
    "from scipy import stats"
   ]
  },
  {
   "cell_type": "markdown",
   "metadata": {},
   "source": [
    "### Your code ###\n",
    "\n"
   ]
  },
  {
   "cell_type": "code",
   "execution_count": 2,
   "metadata": {},
   "outputs": [],
   "source": [
    "## Your code##\n"
   ]
  },
  {
   "cell_type": "markdown",
   "metadata": {},
   "source": [
    "### Extra challenge: Design a program to determine the Young's Modulus and 0.2% offset Yield strength automatically? (do it after the IT lab session)"
   ]
  },
  {
   "cell_type": "markdown",
   "metadata": {},
   "source": [
    "Hints: \n",
    "\n",
    "(1) Find the data range that covers the linear elastic part of the stress-strain curve, Pandas has this nice little method .between(). We can set lower and upper limits from the stress series and then use this to index out of both the stress and the strain series in the linear elastic region. For example: E_stress = stress[stress.between(a,b)], $a$ and $b$ is the lower and upper bound, which will be defined by you. \n",
    "\n",
    "(2) Then, you can use the scipy's linear regression function called **stats.linregress()** to calculate the slope in the linear elastic region. The slope will be the Young's moduls $E$.  \n",
    "\n",
    "(3) Now to determine the 0.2% offset yield strength, we will add a 0.002 or 0.2 % offset line to our plot. We will create a new linear series using the general form:\n",
    "\n",
    "$$ y = mx + b $$\n",
    "$y$ will be the $\\sigma$ value, $x$ will be the offset strain values ($\\epsilon - 0.002$), $m$ (the slope) is the elastic modulus $E$, and $b$ is the y-intercept. Adapting $y = mx + b$ to our 0.002 off-set line looks like the equation below.\n",
    "\n",
    "$$ \\sigma_{offset} = E (\\epsilon - 0.002) + 0 $$\n",
    "We can code $\\sigma_{offset}$ line into a new series based on the equation above. \n",
    "\n",
    "Now that the stress_offset series is defined, we can add our stress_offset line to the plot. When we call the plt.plot() command, we will pass in two x-y pairs. The first x-y pair is strain_Al, stress_Al, the second x-y pair is strain_Al, stress_offset.\n",
    "\n",
    "Then you need to find the intersection point bewteen the original stress-strain curve and the elastic offset-line. We can use the a library \"shapely\" to find the intersection. \n",
    "\n"
   ]
  },
  {
   "cell_type": "code",
   "execution_count": 3,
   "metadata": {},
   "outputs": [
    {
     "name": "stdout",
     "output_type": "stream",
     "text": [
      "Requirement already satisfied: shapely in c:\\users\\mcmqm\\anaconda3\\lib\\site-packages (1.8.0)\n"
     ]
    }
   ],
   "source": [
    "# Install the shapely library\n",
    "# Python has a specific module called Shapely for doing various geometric operations\n",
    "\n",
    "!pip install shapely\n",
    "\n",
    "from shapely.geometry import LineString"
   ]
  },
  {
   "cell_type": "markdown",
   "metadata": {},
   "source": [
    "###  Make sure you finish the above part before moving to this one"
   ]
  },
  {
   "cell_type": "code",
   "execution_count": 4,
   "metadata": {},
   "outputs": [
    {
     "ename": "NameError",
     "evalue": "name 'modulus' is not defined",
     "output_type": "error",
     "traceback": [
      "\u001b[1;31m---------------------------------------------------------------------------\u001b[0m",
      "\u001b[1;31mNameError\u001b[0m                                 Traceback (most recent call last)",
      "\u001b[1;32m<ipython-input-4-82e3fc5b3eab>\u001b[0m in \u001b[0;36m<module>\u001b[1;34m\u001b[0m\n\u001b[0;32m      9\u001b[0m \u001b[0moffset\u001b[0m \u001b[1;33m=\u001b[0m \u001b[1;36m0.2\u001b[0m\u001b[1;33m/\u001b[0m\u001b[1;36m100\u001b[0m\u001b[1;33m\u001b[0m\u001b[1;33m\u001b[0m\u001b[0m\n\u001b[0;32m     10\u001b[0m \u001b[1;33m\u001b[0m\u001b[0m\n\u001b[1;32m---> 11\u001b[1;33m \u001b[0msigma_offset\u001b[0m \u001b[1;33m=\u001b[0m \u001b[0mmodulus\u001b[0m\u001b[1;33m*\u001b[0m\u001b[1;33m(\u001b[0m\u001b[0mstrain\u001b[0m \u001b[1;33m-\u001b[0m \u001b[0moffset\u001b[0m\u001b[1;33m)\u001b[0m\u001b[1;33m\u001b[0m\u001b[1;33m\u001b[0m\u001b[0m\n\u001b[0m\u001b[0;32m     12\u001b[0m \u001b[1;33m\u001b[0m\u001b[0m\n\u001b[0;32m     13\u001b[0m \u001b[1;33m\u001b[0m\u001b[0m\n",
      "\u001b[1;31mNameError\u001b[0m: name 'modulus' is not defined"
     ]
    }
   ],
   "source": [
    "# You will need to import the stress-strain curve in the previous box\n",
    "\n",
    "# The code below will not work until you have defined all the variables!\n",
    "\n",
    "# Find the offset stress-strain curve\n",
    "\n",
    "Modulus= 1000 # MPa, Change this, this should be value you found from the slope of the elastic curve\n",
    "\n",
    "offset = 0.2/100\n",
    "\n",
    "sigma_offset = modulus*(strain - offset)\n",
    "\n",
    "\n",
    "# Example code to use shapely library\n",
    "# calculating the offset stress\n",
    "\n",
    "line_1=LineString(np.column_stack((stress, strain))) # Original stress-strain curve\n",
    "line_2=LineString(np.column_stack((sigma_offset, strain))) # Offset curve\n",
    "\n",
    "intersection=line_1.intersection(line_2)\n",
    "\n",
    "x,y =intersection.xy\n",
    "\n",
    "print(x,y)"
   ]
  },
  {
   "cell_type": "code",
   "execution_count": null,
   "metadata": {},
   "outputs": [],
   "source": []
  }
 ],
 "metadata": {
  "kernelspec": {
   "display_name": "Python 3",
   "language": "python",
   "name": "python3"
  },
  "language_info": {
   "codemirror_mode": {
    "name": "ipython",
    "version": 3
   },
   "file_extension": ".py",
   "mimetype": "text/x-python",
   "name": "python",
   "nbconvert_exporter": "python",
   "pygments_lexer": "ipython3",
   "version": "3.8.5"
  }
 },
 "nbformat": 4,
 "nbformat_minor": 4
}
