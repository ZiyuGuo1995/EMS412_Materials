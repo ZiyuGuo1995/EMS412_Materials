{
 "cells": [
  {
   "cell_type": "markdown",
   "id": "atmospheric-gross",
   "metadata": {},
   "source": [
    "In this tutorial we are going to introduce the concept of using variables to hold information within our code, and show how they can be manipulated to perform whatever task we are intending to do. By the word variables, I mean using names to hold information rather than tapping in numbers like you'd do on a calculator.\n",
    "\n",
    "In python setting up a variable is considerably easier than most programming languages. You simply define the name you want to call it, and give it whatever value or information you want it to hold using the = sign.\n",
    "\n",
    "So let us start with a simple example that will set up a python code that will calculate the area of a square. Here we are going to set up a variable called \"length\" and give it some value. Then we will set up a second variable called \"area\" which will be the length squared. Finally to see the value of the area, we will use a print statement. The value of a variable can be printed by inserting it into the print() statement outside of quotes, separated from text with commas. Thus we need 3 lines of code:"
   ]
  },
  {
   "cell_type": "code",
   "execution_count": null,
   "id": "automotive-visit",
   "metadata": {},
   "outputs": [],
   "source": [
    "length = 3.0\n",
    "area = length*length\n",
    "print('side length:', length, 'square area:', area)"
   ]
  },
  {
   "cell_type": "markdown",
   "id": "dried-alignment",
   "metadata": {},
   "source": [
    "So here we have used two variables named \"length\" and \"area\". You are pretty much free to choose whatever name you wish. However it must start with a letter and not a number. It is also good practice to use informative names, like we have done here, as many programes will typically use 100 or 1000s of variables.\n",
    "\n",
    "Q1: So now can you adapt the code below to calculate the area of a rectangle. Here we will use the variables named length and height to hold the two side lengths. Can you fill in the bits with ?? "
   ]
  },
  {
   "cell_type": "code",
   "execution_count": null,
   "id": "educational-encyclopedia",
   "metadata": {},
   "outputs": [],
   "source": [
    "length = 3.0\n",
    "height = ??\n",
    "area = ??\n",
    "print('side length:', length, 'rectangle area:', area)"
   ]
  }
 ],
 "metadata": {
  "kernelspec": {
   "display_name": "Python 3 (ipykernel)",
   "language": "python",
   "name": "python3"
  },
  "language_info": {
   "codemirror_mode": {
    "name": "ipython",
    "version": 3
   },
   "file_extension": ".py",
   "mimetype": "text/x-python",
   "name": "python",
   "nbconvert_exporter": "python",
   "pygments_lexer": "ipython3",
   "version": "3.9.6"
  }
 },
 "nbformat": 4,
 "nbformat_minor": 5
}
