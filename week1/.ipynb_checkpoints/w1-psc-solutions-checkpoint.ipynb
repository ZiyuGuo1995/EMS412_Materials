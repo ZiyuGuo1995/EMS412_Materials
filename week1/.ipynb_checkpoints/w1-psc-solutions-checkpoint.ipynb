{
 "cells": [
  {
   "cell_type": "code",
   "execution_count": 33,
   "metadata": {},
   "outputs": [
    {
     "name": "stdout",
     "output_type": "stream",
     "text": [
      "It's Thursday!\n"
     ]
    }
   ],
   "source": [
    "# print('It''s Thursday!')\n",
    "print(\"It's Thursday!\")"
   ]
  },
  {
   "cell_type": "markdown",
   "metadata": {},
   "source": [
    "Q1: Develop the code below to calculate the area of a triangle of general size: base=2 and height=3 You will need to replace the bits where I have left a ?"
   ]
  },
  {
   "cell_type": "code",
   "execution_count": 8,
   "metadata": {},
   "outputs": [
    {
     "name": "stdout",
     "output_type": "stream",
     "text": [
      "triangle of size  2 3  has area  6\n",
      "The area of a triangle with a base of 2 and a height of 3 is 6\n",
      "The area of a triangle with a base of 2 and a height of 3 is 6\n"
     ]
    }
   ],
   "source": [
    "base = 2\n",
    "height = 3\n",
    "area = 0.5* base * height\n",
    "print('triangle of size ', base, height,' has area ', area)\n",
    "print(\"The area of a triangle with a base of \" + str(base) + \" and a height of \" + str(height) + \" is \" + str(area))\n",
    "print(f\"The area of a triangle with a base of {base} and a height of {height} is {area}\")"
   ]
  },
  {
   "cell_type": "markdown",
   "metadata": {},
   "source": [
    "Q2: Develop the code in the box below that calculates the hypotenuse of a right angled triangle with other side length of 3 and 4 cm."
   ]
  },
  {
   "cell_type": "code",
   "execution_count": 17,
   "metadata": {},
   "outputs": [
    {
     "name": "stdout",
     "output_type": "stream",
     "text": [
      "right angle triangle  3 cm 4 cm  has hypotenuse length  5.0 cm^2\n"
     ]
    }
   ],
   "source": [
    "# put your code here to set up the problem\n",
    "length1 = 3 # cm\n",
    "length2 = 4 # cm\n",
    "hypotenuse = ((length1)**2 + (length2)**2)**0.5 \n",
    "print('right angle triangle ', length1,'cm', length2,'cm',' has hypotenuse length ', hypotenuse, 'cm^2')"
   ]
  },
  {
   "cell_type": "markdown",
   "metadata": {},
   "source": [
    "Q3: Write a python script that calculates the roots of a quadratic equation. ax^2 + bx + c = 0 Put your answer into two solution variables called root1 and root2. For now, just pick values of a,b,c that result in 2 real valued roots."
   ]
  },
  {
   "attachments": {
    "image.png": {
     "image/png": "[encoded data removed]"
    }
   },
   "cell_type": "markdown",
   "metadata": {},
   "source": [
    "![image.png](attachment:image.png)"
   ]
  },
  {
   "cell_type": "code",
   "execution_count": 37,
   "metadata": {},
   "outputs": [
    {
     "name": "stdout",
     "output_type": "stream",
     "text": [
      "484\n",
      "given a b c: 4 26 12 the roots are  -0.5 -6.0\n"
     ]
    }
   ],
   "source": [
    "# In the form ax^2 + bx + c = 0\n",
    "# Example 4x^2 + 26x + 12 = 0\n",
    "\n",
    "a = 4\n",
    "b = 26\n",
    "c = 12\n",
    "# put your code in here.\n",
    "\n",
    "# To check if they have real roots\n",
    "# b^2 - 4ac\n",
    "# if b^2 > 4ac ---> 2 real roots\n",
    "# if b^2 = 4ac ---> 1 real root\n",
    "# if b^2 < 4ac ---> no real roots\n",
    "\n",
    "roots = b**2 - 4*a*c\n",
    "print(roots)\n",
    "\n",
    "root1 = (-b + (roots)**0.5)/(2*a)\n",
    "root2 = (-b - (roots)**0.5)/(2*a)\n",
    "print('given a b c:', a,b,c, 'the roots are ',root1,root2 )"
   ]
  },
  {
   "cell_type": "markdown",
   "metadata": {},
   "source": [
    "Q4: can you adapt the code to swap the values of the two variables a and b"
   ]
  },
  {
   "cell_type": "code",
   "execution_count": 28,
   "metadata": {},
   "outputs": [
    {
     "name": "stdout",
     "output_type": "stream",
     "text": [
      "a = 3 and b = 10\n",
      "a = 10 and b = 3\n"
     ]
    }
   ],
   "source": [
    "a = 3\n",
    "b = 10\n",
    "print('a =', a, 'and', 'b =', b)\n",
    "# add some code to swap the values of a and b. hint, you will need to use another variable\n",
    "# We can add a temporary variable whose value we don't really care about\n",
    "temp = a\n",
    "a = b\n",
    "b = temp\n",
    "\n",
    "print('a =', a, 'and', 'b =', b)"
   ]
  },
  {
   "cell_type": "markdown",
   "metadata": {},
   "source": [
    "EXTRA CHALLENGE: Write a program to calculate the horizontal distance $2l$ travelled by a projectile over a flat plane, given an initial velocity $v_0$, launch angle $\\theta$, and the gravity $g$. You may neglect air resistance."
   ]
  },
  {
   "cell_type": "markdown",
   "metadata": {},
   "source": [
    "For more information on the projectile motion: https://courses.lumenlearning.com/boundless-physics/chapter/projectile-motion/"
   ]
  },
  {
   "attachments": {
    "image.png": {
     "image/png": "[encoded data removed]"
    }
   },
   "cell_type": "markdown",
   "metadata": {},
   "source": [
    "![image.png](attachment:image.png)"
   ]
  },
  {
   "cell_type": "markdown",
   "metadata": {},
   "source": [
    "## Solution"
   ]
  },
  {
   "cell_type": "markdown",
   "metadata": {},
   "source": [
    "Read the web page from the given link, we can get the derivation of projectile motion. We know the range of the motion is calculated by the equation below\n",
    "\n",
    "$$2l = {{V_0^2\\sin (2\\theta )} \\over g}$$"
   ]
  },
  {
   "cell_type": "code",
   "execution_count": 2,
   "metadata": {},
   "outputs": [
    {
     "name": "stdout",
     "output_type": "stream",
     "text": [
      "The range of projectile motion R = 0.3531194306970188 m\n"
     ]
    }
   ],
   "source": [
    "# Define the paramters #\n",
    "V0=2 # m/s\n",
    "thetaD= 30 # Degree\n",
    "g= 9.81 # kg m/s^2\n",
    "\n",
    "# First of all, we need to import a math library to use trigonometric functions\n",
    "from math import * # This means we import every functions in math library, we can call sin() directly\n",
    "# or\n",
    "import math # In this case, we need to have math prefix like math.sin(), they are both right\n",
    "\n",
    "# To calculate the trigonometric functions, we need to convert degree to rad \n",
    "thetaR = thetaD*pi/180  # Rad\n",
    "\n",
    "# The range of projectile motion R=2l is cacluated below\n",
    "R=V0**2*sin(2*thetaR)/g  # m\n",
    "\n",
    "print('The range of projectile motion R =', R, 'm')"
   ]
  },
  {
   "cell_type": "code",
   "execution_count": null,
   "metadata": {},
   "outputs": [],
   "source": []
  }
 ],
 "metadata": {
  "kernelspec": {
   "display_name": "Python 3",
   "language": "python",
   "name": "python3"
  },
  "language_info": {
   "codemirror_mode": {
    "name": "ipython",
    "version": 3
   },
   "file_extension": ".py",
   "mimetype": "text/x-python",
   "name": "python",
   "nbconvert_exporter": "python",
   "pygments_lexer": "ipython3",
   "version": "3.8.5"
  }
 },
 "nbformat": 4,
 "nbformat_minor": 5
}
