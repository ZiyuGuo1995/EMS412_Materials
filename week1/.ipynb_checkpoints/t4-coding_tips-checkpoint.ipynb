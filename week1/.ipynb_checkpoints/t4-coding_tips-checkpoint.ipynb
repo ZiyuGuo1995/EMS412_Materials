{
 "cells": [
  {
   "cell_type": "markdown",
   "metadata": {},
   "source": [
    "To finish off this week we are going to look at comments and dealing with bugs and errors in our codes.\n",
    "\n",
    "\n",
    "Firstly, code comments are just messages for the code developers to use to explain the purpose of a line of a  block lines of code. They can go anywhere inside your code or even following lines of code you want to compute. The comments are started by the # character and you just place your message after this. When python is executed, if it see the # it just ignores this and whatever follows it. \n",
    "\n",
    "So for example:\n"
   ]
  },
  {
   "cell_type": "code",
   "execution_count": null,
   "metadata": {},
   "outputs": [],
   "source": [
    "# this is a comment starting at the beginning of the line\n",
    "# we will calculate the root an a number.\n",
    "my_number = 10 # set up a variable to hold the number you are going to find square root of.\n",
    "root = my_number**0.5  # perform the square root.\n",
    "print('square root of ',my_number,' is ',root) # printing the answer\n"
   ]
  },
  {
   "cell_type": "markdown",
   "metadata": {},
   "source": [
    "it really is good practice to use comments, particularly for a complicated piece of code. You may write something and not revisit it for months or years, or others may wish to use it also. Comments really help you and others understand what is going on!! SO YOU HAVE BEEN WARNED!!!"
   ]
  },
  {
   "cell_type": "markdown",
   "metadata": {},
   "source": [
    "Finally debugging code errors - THIS IS REALLY IMPORTANT!!!!!\n",
    "\n",
    "I guarantee you will spend the vast majority of your time, particularly when learning coding, debugging errors in your code. YOU WILL I PROMISE YOU! Errors and removing them is part of your learning curve. Sometimes they are difficult to find and can drive you crazy! This part is only conquered with experience, so the more you code the better you will get. SO DO ALL THE EXERCISES I GIVE YOU - AND MORE :)\n",
    "\n",
    "But as a starter, when you write code it is essential to check it produces the correct answer. I very often print to screen many of the executions and check that the code is correct. Very often i do this line by line when possible. So don't write an entire lump of code and then debug. Do it slowly or it will get messy!!!\n",
    "\n",
    "Anyway, for a practice can you correct the bit of code below where I am trying to find the cube root of a number."
   ]
  },
  {
   "cell_type": "code",
   "execution_count": null,
   "metadata": {},
   "outputs": [],
   "source": [
    "# this is a comment starting\n",
    "# we will calculate the cube root an a number.\n",
    "my_number = 10 # set up a variable to hold the number you are going to find the cube root of.\n",
    "root = my_number**3  # perform the cube root\n",
    "print('cube root of ',my_number,' is ',root) # printing the answer"
   ]
  },
  {
   "cell_type": "markdown",
   "metadata": {},
   "source": [
    "Finally, when coding, you may/will make errors that make no sense to python. In this case python is really good at telling you where you went wrong. Python will stop and tell you the line where it hit a problem and give you information about the problem.\n",
    "\n",
    "So for example, remember I said don't indent your code: look at what happens when you do this. If you run the code python crashes and tells you it's an indent error on the second line!! Very helpful!!! :)\n"
   ]
  },
  {
   "cell_type": "code",
   "execution_count": null,
   "metadata": {},
   "outputs": [],
   "source": [
    "print('i will show you a typical error')\n",
    "  print('look when i did not start at the beginning of the line!') # run the code and see what happens.\n"
   ]
  },
  {
   "cell_type": "markdown",
   "metadata": {},
   "source": [
    "so run the code above and then fix it. and practice on the one below calculating the surface area of a spere with radius r. note Area = 4*pi*r^2 (there are 5 errors!!)\n"
   ]
  },
  {
   "cell_type": "code",
   "execution_count": null,
   "metadata": {},
   "outputs": [],
   "source": [
    "# some code to calculate the aread of a sphere.\n",
    "radius = 1.0 # define the radius\n",
    " pi = 3.141592 # define pi\n",
    "area = 4*pi*r**3   calculate the surface area\n",
    "print('Area = ',Area)"
   ]
  },
  {
   "cell_type": "code",
   "execution_count": null,
   "metadata": {},
   "outputs": [],
   "source": []
  },
  {
   "cell_type": "code",
   "execution_count": null,
   "metadata": {},
   "outputs": [],
   "source": []
  }
 ],
 "metadata": {
  "kernelspec": {
   "display_name": "Python 3",
   "language": "python",
   "name": "python3"
  },
  "language_info": {
   "codemirror_mode": {
    "name": "ipython",
    "version": 3
   },
   "file_extension": ".py",
   "mimetype": "text/x-python",
   "name": "python",
   "nbconvert_exporter": "python",
   "pygments_lexer": "ipython3",
   "version": "3.8.5"
  }
 },
 "nbformat": 4,
 "nbformat_minor": 5
}
