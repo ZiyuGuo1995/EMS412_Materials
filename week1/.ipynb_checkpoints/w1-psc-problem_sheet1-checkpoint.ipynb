{
 "cells": [
  {
   "cell_type": "markdown",
   "metadata": {},
   "source": [
    "Q1: Develop the code below to calculate the area of a triangle of general size, then solve for a triangle with base=2 and height=3.\n",
    "You will need to replace the sections where I have left a ?."
   ]
  },
  {
   "cell_type": "code",
   "execution_count": null,
   "metadata": {},
   "outputs": [],
   "source": [
    "base = ?\n",
    "height = ?\n",
    "area = ?\n",
    "print('triangle of size', base, height,'has area', area)"
   ]
  },
  {
   "cell_type": "markdown",
   "metadata": {},
   "source": [
    "Q2: Develop the code in the box below to calculate the hypotenuse of a right angled triangle with other side lengths of 3cm and 4cm."
   ]
  },
  {
   "cell_type": "code",
   "execution_count": null,
   "metadata": {},
   "outputs": [],
   "source": [
    "# put your code here to set up the problem\n",
    "length1 = ?\n",
    "length2 = ?\n",
    "hypotenuse = ? \n",
    "print('right angle triangle ', length1, length2,' has hypotenuse length ', hypotenuse)"
   ]
  },
  {
   "cell_type": "markdown",
   "metadata": {},
   "source": [
    "Q3: Write a python script that calculates the roots of a quadratic equation of the form:\n",
    "ax^2 + bx + c = 0.\n",
    "Put your answer into two solution variables called root1 and root2.\n",
    "For now, just pick values of a, b and c that result in two real valued roots.\n"
   ]
  },
  {
   "cell_type": "code",
   "execution_count": null,
   "metadata": {
    "tags": []
   },
   "outputs": [],
   "source": [
    "a = ?\n",
    "b = ?\n",
    "c = ?\n",
    "# put your code in here.\n",
    "\n",
    "\n",
    "root1 = ?\n",
    "root2 = ?\n",
    "print('given a b c:', a,b,c, 'the roots are ',root1,root2 )\n"
   ]
  },
  {
   "cell_type": "markdown",
   "metadata": {},
   "source": [
    "Q4: Adapt the code below to swap the values of the two variables a and b.\n",
    "    "
   ]
  },
  {
   "cell_type": "code",
   "execution_count": null,
   "metadata": {},
   "outputs": [],
   "source": [
    "a = 3\n",
    "b = 10\n",
    "# add some code to swap the values of a and b. hint, you will need to use another variable\n"
   ]
  },
  {
   "cell_type": "markdown",
   "metadata": {},
   "source": [
    "EXTRA CHALLENGE: Write a program to calculate the horizontal distance $2l$ travelled by a projectile over a flat plane, given an initial velocity $v_0$, launch angle $\\theta$, and the gravity $g$. You may neglect air resistance."
   ]
  },
  {
   "cell_type": "markdown",
   "metadata": {},
   "source": [
    "For more information on the projectile motion: https://courses.lumenlearning.com/boundless-physics/chapter/projectile-motion/"
   ]
  },
  {
   "attachments": {
    "projectile.png": {
     "image/png": "[encoded data removed]"
    }
   },
   "cell_type": "markdown",
   "metadata": {},
   "source": [
    "![projectile.png](attachment:projectile.png)"
   ]
  },
  {
   "cell_type": "code",
   "execution_count": null,
   "metadata": {},
   "outputs": [],
   "source": []
  }
 ],
 "metadata": {
  "kernelspec": {
   "display_name": "Python 3",
   "language": "python",
   "name": "python3"
  },
  "language_info": {
   "codemirror_mode": {
    "name": "ipython",
    "version": 3
   },
   "file_extension": ".py",
   "mimetype": "text/x-python",
   "name": "python",
   "nbconvert_exporter": "python",
   "pygments_lexer": "ipython3",
   "version": "3.8.5"
  }
 },
 "nbformat": 4,
 "nbformat_minor": 5
}
