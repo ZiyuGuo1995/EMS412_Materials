{
 "cells": [
  {
   "cell_type": "markdown",
   "metadata": {},
   "source": [
    "## The introduction of Jacobi Method:\n",
    "\n",
    "In this PSC you are going to develop a solver for the system\n",
    "\n",
    "$$Ax = b$$\n",
    "\n",
    "that is, given a $n \\times n$ matrix A and a RHS vector $b$, of size $n$. you need to compute the solution vector $x$ (which is also of size $n$).\n",
    "\n",
    "From class you will know that computing the inverse of $A$ and multiplying against $b$ gives you this solution. That is,\n",
    "\n",
    "$$ x = A^{-1}b$$\n",
    "\n",
    "This is called a direct method, but sometimes the inverse of $A$ is very difficult to find, sometimes it is impossible to compute, so we have developed alternative routes to solving the system without creating the inverse itself.\n",
    "\n",
    "Iterative methods are typically used to solve these systems. In these we start with an approximation to $x$, and perform some operation to generate a new vector $x^{new}$ that is a bit closer to the true solution. You repeat the operation with the new vector and it gives you another vector that is again a bit closer to the true solution.\n",
    "\n",
    "When you do this enough times, the approximation will converge to the true solution, when you are close enough you simply stop. \n",
    "\n",
    "There is a massive class of iterative solvers out there. We will develop the simplest one called the Jacobi method.The recipe is as follows:\n",
    "\n",
    "For the system of size $n \\times n$\n",
    "\n",
    "$$Ax = b$$\n",
    "\n",
    "start with some approximation $x$. The Jacobi iteration creates a new vector $x^{1}$ by:\n",
    "\n",
    "\n",
    "loop over each element of $x_i$ for $i = \\{ 1,2,3, \\ldots n \\}$, and compute the new value by:\n",
    "\n",
    "$$ x_i^{new} = \\frac{(b_i - \\sum_{j=1, j \\ne i}^{n} A_{i,j} x_j )}{A_{i,i}} $$\n",
    "\n",
    "\n"
   ]
  },
  {
   "attachments": {},
   "cell_type": "markdown",
   "metadata": {},
   "source": [
    "You need to set a tolerance, TOL (can be a very small value 0.1).\n",
    "\n",
    "You keep subtituting the  𝑥𝑗  from the previous step to calculate the  𝑥𝑛𝑒𝑤𝑖  in the new step. Loop it until you reach the stopping criterion.\n",
    "\n",
    "|𝑥𝑘−1𝑖−𝑥𝑘𝑖|<𝑇𝑂𝐿 \n",
    "which means the values  𝑥𝑖  is not changing anymore.\n",
    "\n",
    "Watch this video if want to understand it better: https://www.youtube.com/watch?v=UA7bzwCwHMI"
   ]
  },
  {
   "cell_type": "markdown",
   "metadata": {},
   "source": [
    "# Implmentation of the Jacobi method\n",
    "\n",
    "You are going to implement this. but you need to do this in small stages and check the code is correct and bug free.\n",
    "\n",
    "To give you a start, this is how I would develop the code when given some matrix $A$ and vector $b$\n",
    "\n",
    "1) create the loop that will run through each x[i] in the above recipe - make sure the loop is the correct size.\n",
    "\n",
    "2) create the line of code to compute x[i] from the above equation - note this will involve another loop AND an if statement.\n",
    "\n",
    "3) when happy the above is correct, create an outer loop to continuously generate new solutions from the previous vector.\n",
    "\n",
    "Over to you, i will get you stated with the matrix and vector setup."
   ]
  },
  {
   "cell_type": "code",
   "execution_count": 82,
   "metadata": {},
   "outputs": [],
   "source": [
    "import numpy as np\n",
    "from numpy.linalg import inv\n",
    "import matplotlib.pyplot as plt\n",
    "\n",
    "# a 3x3 matrix A\n",
    "A = np.matrix([[5,2,1],[2,4,1],[2,3,7]])\n",
    "# b vector\n",
    "b = np.array([2,3,1])"
   ]
  },
  {
   "cell_type": "code",
   "execution_count": 83,
   "metadata": {},
   "outputs": [
    {
     "name": "stdout",
     "output_type": "stream",
     "text": [
      "[[ 0.15151515]\n",
      " [ 0.72727273]\n",
      " [-0.21212121]]\n"
     ]
    }
   ],
   "source": [
    "# exact solution\n",
    "b1 = np.array([[2],[3],[1]])\n",
    "actual = inv(A)*b1\n",
    "print(actual)"
   ]
  },
  {
   "cell_type": "code",
   "execution_count": 88,
   "metadata": {},
   "outputs": [
    {
     "name": "stdout",
     "output_type": "stream",
     "text": [
      "Iter(1): [ 0.4         0.55       -0.20714286]\n",
      "Iter(2): [ 0.22142857  0.69107143 -0.21658163]\n",
      "Iter(3): [ 0.16688776  0.72070153 -0.21369716]\n",
      "Iter(4): [ 0.15445882  0.72619488 -0.21250033]\n",
      "Iter(5): [ 0.15202211  0.72711402 -0.21219804]\n",
      "Iter(6): [ 0.151594    0.72725251 -0.21213508]\n",
      "Iter(7): [ 0.15152601  0.72727076 -0.21212347]\n",
      "Iter(8): [ 0.15151639  0.72727267 -0.21212154]\n",
      "Iter(9): [ 0.15151524  0.72727277 -0.21212125]\n",
      "Iter(10): [ 0.15151514  0.72727274 -0.21212122]\n"
     ]
    }
   ],
   "source": [
    "# put your code in here, follow the recipe above\n",
    "\n",
    "# x vector to hold solution with initial values zero\n",
    "x = np.zeros(3)\n",
    "x = np.zeros(3)\n",
    "x_to_list = []\n",
    "\n",
    "iters = 10 # number of iterations\n",
    "n = 0\n",
    "while n < iters:\n",
    "    for i in range(x.size): # iterating through x\n",
    "        sum_a = 0 # initialising variable used to store the sum of the product Aij*xj\n",
    "        for j in range(A.shape[0]): # iterating over the rows of A / same as A.shape[1]\n",
    "            if i != j: # condition to ensure i is not equal to j\n",
    "                sum_a += A[i,j]*x[j] \n",
    "        x[i] = (b[i] - sum_a)/A[i,i] # used to find xnew\n",
    "        x_to_list.append((b[i] - sum_a)/A[i,i]) # appending the result to a list\n",
    "    n += 1 # once the for loop above is completed, increases the value of n by 1, until n = iters then loop stops\n",
    "    print(f'Iter({n}): {x}') # used to print 1) iteration number and 2) the values of x at the end of each iteration"
   ]
  },
  {
   "cell_type": "markdown",
   "metadata": {},
   "source": [
    "### A better solution\n",
    "\n",
    "Consider both iteration number and the error tolerance"
   ]
  },
  {
   "cell_type": "code",
   "execution_count": 1,
   "metadata": {},
   "outputs": [
    {
     "name": "stdout",
     "output_type": "stream",
     "text": [
      "maximum x error is(0.55)\n",
      "Iter(1): [ 0.4         0.55       -0.20714286]\n",
      "maximum x error is(0.17857142857142858)\n",
      "Iter(2): [ 0.22142857  0.69107143 -0.21658163]\n",
      "maximum x error is(0.05454081632653063)\n",
      "Iter(3): [ 0.16688776  0.72070153 -0.21369716]\n",
      "maximum x error is(0.012428935860058277)\n",
      "Iter(4): [ 0.15445882  0.72619488 -0.21250033]\n",
      "maximum x error is(0.0024367060599750356)\n",
      "Iter(5): [ 0.15202211  0.72711402 -0.21219804]\n",
      "maximum x error is(0.0004281144947046178)\n",
      "Iter(6): [ 0.151594    0.72725251 -0.21213508]\n",
      "maximum x error is(6.79880572985736e-05)\n",
      "Iter(6): [ 0.15152601  0.72727076 -0.21212347]\n"
     ]
    }
   ],
   "source": [
    "\n",
    "import numpy as np\n",
    "\n",
    "# a 3x3 matrix A\n",
    "A = np.matrix([[5,2,1],[2,4,1],[2,3,7]])\n",
    "# b vector\n",
    "b = np.array([2,3,1])\n",
    "# x vector to hold solution with initial values zero\n",
    "x = np.zeros(3)\n",
    "\n",
    "# put your code in here, follow the recipe above\n",
    "TOL=0.0001\n",
    "x_m = np.zeros(x.size) \n",
    "x_n = np.zeros(x.size)\n",
    "xerror = np.zeros(x.size)\n",
    "iteration_number=20\n",
    "k=0\n",
    "while k<iteration_number:\n",
    "    for i in range(x.size):\n",
    "        sum_a=0\n",
    "        for j in range(A.shape[0]):\n",
    "            if i!=j:\n",
    "                sum_a += A[i,j]*x[j]\n",
    "            x[i]=(b[i]-sum_a)/A[i,i]\n",
    "        x_n[i]=x[i]  \n",
    "        xerror[i]=abs(x_m[i]-x_n[i])\n",
    "        xerror_max=max(xerror[0],xerror[1],xerror[2])\n",
    "    print(f'maximum x error is({xerror_max})')\n",
    "    if xerror_max<TOL:\n",
    "        print(f'Iter({k}): {x}')\n",
    "        break\n",
    "    else:\n",
    "        for n in range(x_m.size):\n",
    "            x_m[n]=x_n[n]\n",
    "        k+=1\n",
    "        print(f'Iter({k}): {x}')\n",
    "if k>=iteration_number:\n",
    "    print(f'Please increase iteration_number')"
   ]
  },
  {
   "cell_type": "code",
   "execution_count": 89,
   "metadata": {},
   "outputs": [
    {
     "data": {
      "image/png": "[encoded data removed]",
      "text/plain": [
       "<Figure size 432x288 with 1 Axes>"
      ]
     },
     "metadata": {
      "needs_background": "light"
     },
     "output_type": "display_data"
    },
    {
     "data": {
      "image/png": "[encoded data removed]",
      "text/plain": [
       "<Figure size 432x288 with 1 Axes>"
      ]
     },
     "metadata": {
      "needs_background": "light"
     },
     "output_type": "display_data"
    },
    {
     "data": {
      "image/png": "[encoded data removed]",
      "text/plain": [
       "<Figure size 432x288 with 1 Axes>"
      ]
     },
     "metadata": {
      "needs_background": "light"
     },
     "output_type": "display_data"
    }
   ],
   "source": [
    "# Extra - Plotting the convergence graphs for each x\n",
    "\n",
    "def divide_chunks(l, n): # converting list to a nested list - each sublist has 3 elements\n",
    "    for i in range(0, len(l), n): \n",
    "        yield l[i:i + n]\n",
    "n = 3\n",
    "x_split = list(divide_chunks(x_to_list, n))\n",
    "x1,x2,x3 = list(zip(*x_split)) # unzipping list into 3 lists\n",
    "iterations = range(1,iters+1)\n",
    "\n",
    "x_sublist = [x1,x2,x3]\n",
    "colours=['r','g','b']\n",
    "for i in range(len(x_sublist)):\n",
    "    fig, ax = plt.subplots()\n",
    "    ax.set(xlabel= r\"Iterations\", ylabel=r\"Magnitude of $x_%s$\" %(i+1))\n",
    "    ax.plot(iterations,x_sublist[i],colours[i]) "
   ]
  }
 ],
 "metadata": {
  "kernelspec": {
   "display_name": "Python 3",
   "language": "python",
   "name": "python3"
  },
  "language_info": {
   "codemirror_mode": {
    "name": "ipython",
    "version": 3
   },
   "file_extension": ".py",
   "mimetype": "text/x-python",
   "name": "python",
   "nbconvert_exporter": "python",
   "pygments_lexer": "ipython3",
   "version": "3.8.5"
  }
 },
 "nbformat": 4,
 "nbformat_minor": 5
}
