{
 "cells": [
  {
   "cell_type": "markdown",
   "id": "5d5af45e-813f-41c5-8f4b-935664420c5d",
   "metadata": {},
   "source": [
    "in this tutorial I am going to show you the quick tools to do all the previous operations using numpy!!\n",
    "\n",
    "You can do everything using one command in numpy, This tutorial will show you the following:\n",
    "\n",
    "h = f+g   to add vectors or matrices\n",
    "\n",
    "np.ident(n) to create an identity matrix of size nxn\n",
    "\n",
    "np.dot(u,v)  to compute the dot product of vectors u and v\n",
    "\n",
    "np.matmul(A,x)  to compute the matrix vector multiplication Ax\n",
    "\n",
    "np.matmul(A,B)  to compute the matrix matrix multiplication AB"
   ]
  },
  {
   "cell_type": "code",
   "execution_count": 12,
   "id": "22532e09-6520-478f-8a6b-333c303e4e33",
   "metadata": {},
   "outputs": [
    {
     "name": "stdout",
     "output_type": "stream",
     "text": [
      "f:  [1 2 4]\n",
      "g:  [3 1 2]\n",
      "the sum is: \n",
      "[4 3 6]\n"
     ]
    }
   ],
   "source": [
    "#\n",
    "import numpy as np\n",
    "\n",
    "# create 2 vectors called f anf g, just give them some numbers.\n",
    "f = np.array([1,2,4])\n",
    "g = np.array([3,1,2])\n",
    "\n",
    "print('f: ',f)\n",
    "print('g: ',g)\n",
    "\n",
    "# and now add the up and assign it to a variable called h\n",
    "\n",
    "h = f+g\n",
    "\n",
    "print('the sum is: ')\n",
    "print(h)\n",
    "\n"
   ]
  },
  {
   "cell_type": "markdown",
   "id": "6049d2bd-9697-49f7-bc34-3b9b7d13fc1c",
   "metadata": {},
   "source": [
    "same thing for the matrix addition!\n"
   ]
  },
  {
   "cell_type": "code",
   "execution_count": 13,
   "id": "3b547bcf-06fa-4011-a75d-e886b1cc32fd",
   "metadata": {},
   "outputs": [
    {
     "name": "stdout",
     "output_type": "stream",
     "text": [
      "matrix sum\n",
      "[[0 0 0]\n",
      " [0 0 0]\n",
      " [0 0 0]\n",
      " [0 0 0]]\n"
     ]
    }
   ],
   "source": [
    "import numpy as np\n",
    "\n",
    "# create two matrices as before\n",
    "mat1 = np.array([[1,2,3],[4,5,6],[7,8,9],[10,11,12]])\n",
    "mat2 = np.array([[-1,-2,-3],[-4,-5,-6],[-7,-8,-9],[-10,-11,-12]])\n",
    "\n",
    "# add them up! - note it should come to xeros with these two matrices\n",
    "matsum = mat1+mat2\n",
    "print('matrix sum')\n",
    "print(matsum)\n"
   ]
  },
  {
   "cell_type": "markdown",
   "id": "e1d0217f-8609-4dcd-9ddc-4dab28e3ed19",
   "metadata": {},
   "source": [
    "create an identity matrix of some size we use:"
   ]
  },
  {
   "cell_type": "code",
   "execution_count": 14,
   "id": "bbdcfb4e-613c-4758-ba35-847525d1c497",
   "metadata": {},
   "outputs": [
    {
     "name": "stdout",
     "output_type": "stream",
     "text": [
      "identity matrix\n",
      "[[1. 0. 0. 0. 0.]\n",
      " [0. 1. 0. 0. 0.]\n",
      " [0. 0. 1. 0. 0.]\n",
      " [0. 0. 0. 1. 0.]\n",
      " [0. 0. 0. 0. 1.]]\n"
     ]
    }
   ],
   "source": [
    "import numpy as np\n",
    "# now compare your codes to using the numpy tools to do the above\n",
    "# create a 5x5 identity matrix\n",
    "im = np.identity(5)\n",
    "print('identity matrix')\n",
    "print(im)\n",
    "\n"
   ]
  },
  {
   "cell_type": "markdown",
   "id": "a23835a9-fffe-4aa1-9155-eefd5e0f5ba1",
   "metadata": {},
   "source": [
    "and what about dot products of vectors:"
   ]
  },
  {
   "cell_type": "code",
   "execution_count": 15,
   "id": "51005b79-affc-45bd-b439-1aa3f4e40022",
   "metadata": {},
   "outputs": [
    {
     "name": "stdout",
     "output_type": "stream",
     "text": [
      "numpy dot product is  51\n"
     ]
    }
   ],
   "source": [
    "# do a dot product\n",
    "u = np.array([6,4,3,5,4])\n",
    "v = np.array([1,2,2,3,4])\n",
    "dp = np.dot(u,v)\n",
    "print('numpy dot product is ',dp)\n",
    "\n"
   ]
  },
  {
   "cell_type": "markdown",
   "id": "ed237423-e729-4a0b-ace0-c5aaba3925d5",
   "metadata": {},
   "source": [
    "finally the matrix vector and matrix -matrix multiplications can be performed in one command\n"
   ]
  },
  {
   "cell_type": "code",
   "execution_count": 16,
   "id": "ae849ebd-4c57-4e98-9057-a5b75db2ae4b",
   "metadata": {},
   "outputs": [
    {
     "name": "stdout",
     "output_type": "stream",
     "text": [
      "matrix vector mult\n",
      "[24 15 29]\n",
      "matrix matrix mult\n",
      "[[20 17 12]\n",
      " [ 9 14 10]\n",
      " [23 31 41]]\n"
     ]
    }
   ],
   "source": [
    "# create two matrices\n",
    "A = np.array([[4,2,1],[1,3,1],[2,3,6]])\n",
    "B = np.array([[4,2,1],[1,3,1],[2,3,6]])\n",
    "# and some vector x\n",
    "x = np.array([4,3,2])\n",
    "\n",
    "# the matrix vector product can be computed by:\n",
    "b = np.matmul(A,x)\n",
    "print('matrix vector mult')\n",
    "print(b)\n",
    "\n",
    "# the matrix matrix product can be computed using the same command:\n",
    "\n",
    "C = np.matmul(A,B)\n",
    "print('matrix matrix mult')\n",
    "print(C)\n"
   ]
  },
  {
   "cell_type": "code",
   "execution_count": null,
   "id": "c84bcaac-9632-427a-a005-08baad74ded9",
   "metadata": {},
   "outputs": [],
   "source": []
  }
 ],
 "metadata": {
  "kernelspec": {
   "display_name": "Python 3 (ipykernel)",
   "language": "python",
   "name": "python3"
  },
  "language_info": {
   "codemirror_mode": {
    "name": "ipython",
    "version": 3
   },
   "file_extension": ".py",
   "mimetype": "text/x-python",
   "name": "python",
   "nbconvert_exporter": "python",
   "pygments_lexer": "ipython3",
   "version": "3.9.6"
  }
 },
 "nbformat": 4,
 "nbformat_minor": 5
}
