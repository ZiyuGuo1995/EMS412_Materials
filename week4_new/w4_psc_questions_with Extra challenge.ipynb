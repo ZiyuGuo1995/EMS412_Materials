{
 "cells": [
  {
   "cell_type": "markdown",
   "metadata": {},
   "source": [
    "OK, now we have completed the first bit of the python tutorials - you should now have the ability to use/apply the folliwing operations:\n",
    "\n",
    "1) basic maths and variables\n",
    "2) if and loop statements - and to mix them\n",
    "3) create and call simple functions to do certain operations and return any values computed.\n",
    "4) include libraries such as the math library and use math operations like logs, exponentials, trigs etc.\n",
    "\n",
    "\n",
    "Now let's put this together to form some interesting maths operation - numerically calculate the derivative of a function.\n",
    "\n",
    "that is we can approximate the derivative of a function $y(x)$ at position $x$ by evaluating the function at position $x$ and at $x+h$, for a small value $h$ and doing the operation:\n",
    "\n",
    "\n",
    "$\\frac{dy}{dx} = \\frac{y(x+h)-y(x)}{h}$\n",
    "\n",
    "let's do  this in bits, breaking the problem into small parts\n"
   ]
  },
  {
   "cell_type": "markdown",
   "metadata": {},
   "source": [
    "Q1: start by creating a function, that will return the value of a function of your choice. e.g. try something like $y=sin(x)$\n",
    "I will start this off for you, but you should be able to do this."
   ]
  },
  {
   "cell_type": "code",
   "execution_count": null,
   "metadata": {},
   "outputs": [],
   "source": [
    "\n",
    "import math # we are going to use the math library\n",
    "\n",
    "# create the function you want to form a derivate of.\n",
    "def function_expression(x): # put your inputs expression here.\n",
    "    val =      # put your expression here.\n",
    "    return val\n",
    "\n",
    "# now test your function - does it return the correct expression - always test this!\n",
    "x1 =   # change and test this value to test it is always correct.\n",
    "t1 = function_expression(x1)\n",
    "print('function at x = ',x1,' is ',t1  )"
   ]
  },
  {
   "cell_type": "markdown",
   "metadata": {},
   "source": [
    "Q2: now evaluate the function as some position $x$ and then $x+h$, for some small distace h, and the form the derivative using the formula above.\n"
   ]
  },
  {
   "cell_type": "code",
   "execution_count": null,
   "metadata": {},
   "outputs": [],
   "source": [
    "# set you x and h values.\n",
    "x=?\n",
    "h=?\n",
    "# value the function at the position x and x+h\n",
    "y1 = function_expression(x) \n",
    "y2 =      # call the function at the right position \n",
    "# do some print statements displaying the values.\n",
    "print('y values ',y1, y2)\n",
    "# compute the approximate derivative using the varible dydx\n",
    "dydx =  \n",
    "# compute the exact derivative for compartson - y = sin(x)    dy/dx = cos(x)\n",
    "exact_dydx =  \n",
    "# print the approx, exact derivative, and look at the error also.\n",
    "print('approximate, exact derivative and error ',dydx, exact_dydx, dydx - exact_dydx)\n"
   ]
  },
  {
   "cell_type": "markdown",
   "metadata": {},
   "source": [
    "now you should check the code does indeed get close to the derivative. \n",
    "\n",
    "Q3: can you now in the code below, create a loop, where the values of h goes from 1, 0.1, 0.01, 0.001 ... for 10 iterations. you can do this all by yourself!  also change the function, see if it works!!"
   ]
  },
  {
   "cell_type": "code",
   "execution_count": null,
   "metadata": {},
   "outputs": [],
   "source": [
    "import math # we are going to use the math library\n",
    "\n",
    "# create the function you want to form a derivate of.\n",
    "def function_expression(x): # put your inputs expression here.\n",
    "    val =   math.sin(x)    # put your expression here.\n",
    "    return val\n",
    "#### the rest is all yours"
   ]
  },
  {
   "cell_type": "markdown",
   "metadata": {},
   "source": [
    "Q4: Extra challenge\n",
    "\n",
    "There are 20 bottles of pills for the treatment of Covid. 19 bottles have pills of 1mg while 1 bottle has pills of 1.1mg. Each bottle has 100 pills. Design a method to weigh the pills and find the bottle with the heavier pills. Remember you can only use the scale once. Can you now define a function that can check which bottle has the heavier pill?\n"
   ]
  },
  {
   "cell_type": "code",
   "execution_count": null,
   "metadata": {},
   "outputs": [],
   "source": [
    "import math # we are going to use the math library\n",
    "\n",
    "\n",
    "\n",
    "\n",
    "\n",
    "\n",
    "\n",
    "\n",
    "\n",
    "\n",
    "\n",
    "\n",
    "\n",
    "\n",
    "\n"
   ]
  },
  {
   "cell_type": "markdown",
   "metadata": {},
   "source": [
    "Hint: We number the bottles with a number from No.1 to No.20. Set $n$ as the number for the heavy bottle. We want to take 1 pill from No.1 bottle and 2 pills from No.2 bottle... \n",
    "\n",
    "For example, if we only have two bottles: No.1 bottle has 1 pill of 1mg and No.2 bottle has 2 pills of 1mg. Then the total weight would be 3mg. However, if the No.2 bottle has 2 pills of 1.1mg, then the total weight would be 3.2mg. In this way, we can immediatelly know the NO.2 bottle is the heavy one. \n",
    "\n",
    "Write it in a general equation would be: $M= 1m_0+2m_0+3m_0+..n\\times m_1+...+20m_0$, while $m_1=m_0+0.1$. \n",
    "\n",
    "Therefore, $M= 1m_0+2m_0+3m_0+..n\\times m_1+...+20m_0$. If you check the extra term $n*0.1$, you will use this as a marker to find the bottle easily. $n\\times 0.1/0.1$ would be the number of heavy bottle. \n",
    "\n",
    "If assuming all the bottle are normal onews, the total weight of all pills we picked would be:\n",
    "\n",
    "$M_0=(1+2+3+....+20)m_0=(1+20)20/2\\times m_0$\n",
    "\n",
    "You can see $n\\times 0.1=M-M_0$\n",
    "So the final answer would be: \n",
    "\n",
    "$n=(M-M_0)/0.1$\n",
    "\n",
    "Can you now design a virtual balance that can check which bottle has the heavier pill?"
   ]
  }
 ],
 "metadata": {
  "kernelspec": {
   "display_name": "Python 3",
   "language": "python",
   "name": "python3"
  },
  "language_info": {
   "codemirror_mode": {
    "name": "ipython",
    "version": 3
   },
   "file_extension": ".py",
   "mimetype": "text/x-python",
   "name": "python",
   "nbconvert_exporter": "python",
   "pygments_lexer": "ipython3",
   "version": "3.8.5"
  }
 },
 "nbformat": 4,
 "nbformat_minor": 5
}
