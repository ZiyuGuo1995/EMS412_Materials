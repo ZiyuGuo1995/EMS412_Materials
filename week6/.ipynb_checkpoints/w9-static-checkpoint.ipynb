{
 "cells": [
  {
   "cell_type": "markdown",
   "metadata": {},
   "source": [
    "# Week-5 Statics\n",
    "## Force and Moment"
   ]
  },
  {
   "cell_type": "markdown",
   "metadata": {},
   "source": [
    "# 1. Vectors"
   ]
  },
  {
   "cell_type": "markdown",
   "metadata": {},
   "source": [
    "To creat vectors, we will use \"array\" in Python. \n",
    "\n",
    "What is array?\n",
    "An array is a special variable, which can hold more than one value at a time.\n",
    "\n",
    "Single dimensional arrays are created in python by importing an array module. The multi-dimensional arrays cannot be created with the array module implementation. Vectors are created using the import array class. "
   ]
  },
  {
   "cell_type": "code",
   "execution_count": 113,
   "metadata": {},
   "outputs": [],
   "source": [
    "import numpy as np\n",
    "import math\n",
    "from numpy import array"
   ]
  },
  {
   "cell_type": "markdown",
   "metadata": {},
   "source": [
    "## create a 2D vector"
   ]
  },
  {
   "cell_type": "code",
   "execution_count": 114,
   "metadata": {},
   "outputs": [
    {
     "name": "stdout",
     "output_type": "stream",
     "text": [
      "[1 5]\n"
     ]
    }
   ],
   "source": [
    "force2D=array([1, 5])\n",
    "print(force2D)"
   ]
  },
  {
   "cell_type": "markdown",
   "metadata": {},
   "source": [
    "## create a 3D vector"
   ]
  },
  {
   "cell_type": "code",
   "execution_count": 115,
   "metadata": {},
   "outputs": [
    {
     "name": "stdout",
     "output_type": "stream",
     "text": [
      "[1 5 6]\n"
     ]
    }
   ],
   "source": [
    "force3D= array([1,5, 6])\n",
    "print(force3D)"
   ]
  },
  {
   "cell_type": "markdown",
   "metadata": {},
   "source": [
    "## norm(magnitude) of a vector"
   ]
  },
  {
   "cell_type": "markdown",
   "metadata": {},
   "source": [
    "Write our own functions"
   ]
  },
  {
   "cell_type": "code",
   "execution_count": 121,
   "metadata": {},
   "outputs": [],
   "source": [
    "def mag1(x):\n",
    "    sum=0.0\n",
    "    for i in x:\n",
    "        sum=sum+i**2\n",
    "    norm=math.sqrt(sum)\n",
    "    return norm"
   ]
  },
  {
   "cell_type": "code",
   "execution_count": 122,
   "metadata": {},
   "outputs": [],
   "source": [
    "def mag2(x): \n",
    "    return math.sqrt(sum(i**2 for i in x))"
   ]
  },
  {
   "cell_type": "code",
   "execution_count": 123,
   "metadata": {},
   "outputs": [
    {
     "data": {
      "text/plain": [
       "7.874007874011811"
      ]
     },
     "execution_count": 123,
     "metadata": {},
     "output_type": "execute_result"
    }
   ],
   "source": [
    "mag1(force3D)"
   ]
  },
  {
   "cell_type": "code",
   "execution_count": 124,
   "metadata": {},
   "outputs": [
    {
     "data": {
      "text/plain": [
       "7.874007874011811"
      ]
     },
     "execution_count": 124,
     "metadata": {},
     "output_type": "execute_result"
    }
   ],
   "source": [
    "mag2(force3D)"
   ]
  },
  {
   "cell_type": "markdown",
   "metadata": {},
   "source": [
    "Use the numpy package linalg (linear algebra)"
   ]
  },
  {
   "cell_type": "code",
   "execution_count": 119,
   "metadata": {},
   "outputs": [
    {
     "data": {
      "text/plain": [
       "7.874007874011811"
      ]
     },
     "execution_count": 119,
     "metadata": {},
     "output_type": "execute_result"
    }
   ],
   "source": [
    "np.linalg.norm(force3D)"
   ]
  },
  {
   "cell_type": "markdown",
   "metadata": {},
   "source": [
    "# 2. Vector operations"
   ]
  },
  {
   "cell_type": "markdown",
   "metadata": {},
   "source": [
    "Various operations are performed over vectors. Some of the operations include basic addition, subtraction, multiplication, division. Some other operations include dot product and cross product of two vectors."
   ]
  },
  {
   "cell_type": "markdown",
   "metadata": {},
   "source": [
    "## Multiplication of a Python Vector with a scalar"
   ]
  },
  {
   "cell_type": "code",
   "execution_count": 23,
   "metadata": {},
   "outputs": [
    {
     "name": "stdout",
     "output_type": "stream",
     "text": [
      "[1 2 3]\n",
      "2.0\n",
      "[2. 4. 6.]\n"
     ]
    }
   ],
   "source": [
    "a= array([1,2,3])\n",
    "print(a)\n",
    "s= 2.0\n",
    "print(s)\n",
    "c=s*a\n",
    "print(c)"
   ]
  },
  {
   "cell_type": "markdown",
   "metadata": {},
   "source": [
    "## addition of vectors"
   ]
  },
  {
   "cell_type": "markdown",
   "metadata": {},
   "source": [
    "Fistly, the final vector’s length is the same as the two parents’ vectors. Each element of the new vector is the sum of the two vectors. NumPy allows compact and direct addition of two vectors. Without using the NumPy array, the code becomes hectic. "
   ]
  },
  {
   "cell_type": "code",
   "execution_count": 31,
   "metadata": {},
   "outputs": [
    {
     "name": "stdout",
     "output_type": "stream",
     "text": [
      "[1 5 6]\n",
      "[1 5 6]\n",
      "[ 2 10 12]\n"
     ]
    }
   ],
   "source": [
    "x=array([1,5,6])\n",
    "print(x)\n",
    "y=array([1,5,6])\n",
    "print(y)\n",
    "z=x+y\n",
    "print(z)"
   ]
  },
  {
   "cell_type": "markdown",
   "metadata": {},
   "source": [
    "## what if x, y are scalars?"
   ]
  },
  {
   "cell_type": "code",
   "execution_count": 32,
   "metadata": {},
   "outputs": [
    {
     "name": "stdout",
     "output_type": "stream",
     "text": [
      "[1, 5, 6]\n",
      "[1, 5, 6]\n",
      "[1, 5, 6, 1, 5, 6]\n"
     ]
    }
   ],
   "source": [
    "x=[1,5,6]\n",
    "print(x)\n",
    "y=[1,5,6]\n",
    "print(y)\n",
    "z=x+y\n",
    "print(z)"
   ]
  },
  {
   "cell_type": "markdown",
   "metadata": {},
   "source": [
    "## Subtraction of vectors"
   ]
  },
  {
   "cell_type": "code",
   "execution_count": 18,
   "metadata": {},
   "outputs": [
    {
     "name": "stdout",
     "output_type": "stream",
     "text": [
      "[1 5 6]\n",
      "[1 4 6]\n",
      "[0 1 0]\n"
     ]
    }
   ],
   "source": [
    "x=array([1,5,6])\n",
    "print(x)\n",
    "y=array([1,4,6])\n",
    "print(y)\n",
    "z=x-y\n",
    "print(z)"
   ]
  },
  {
   "cell_type": "markdown",
   "metadata": {},
   "source": [
    "## Vector dot product\n",
    "Dot product calculates the sum of the two vectors’ multiplied elements. Dot Product returns a scalar number as a result. The dot product is useful in calculating the projection of vectors. Dot product in Python also determines orthogonality and vector decompositions. \n",
    "\n",
    "The dot product of two vectors a = [a1, a2, …, an] and b = [b1, b2, …, bn] is defined as:[3]\n",
    "\n",
    "${\\displaystyle \\mathbf {\\color {red}a} \\cdot \\mathbf {\\color {blue}b} =\\sum _{i=1}^{n}{\\color {red}a}_{i}{\\color {blue}b}_{i}={\\color {red}a}_{1}{\\color {blue}b}_{1}+{\\color {red}a}_{2}{\\color {blue}b}_{2}+\\cdots +{\\color {red}a}_{n}{\\color {blue}b}_{n}}{\\displaystyle \\mathbf {\\color {red}a} \\cdot \\mathbf {\\color {blue}b} =\\sum _{i=1}^{n}{\\color {red}a}_{i}{\\color {blue}b}_{i}={\\color {red}a}_{1}{\\color {blue}b}_{1}+{\\color {red}a}_{2}{\\color {blue}b}_{2}+\\cdots +{\\color {red}a}_{n}{\\color {blue}b}_{n}}$"
   ]
  },
  {
   "cell_type": "code",
   "execution_count": 19,
   "metadata": {},
   "outputs": [
    {
     "name": "stdout",
     "output_type": "stream",
     "text": [
      "[1 5 6]\n",
      "[1 4 6]\n",
      "57\n"
     ]
    }
   ],
   "source": [
    "x=array([1,5,6])\n",
    "print(x)\n",
    "y=array([1,4,6])\n",
    "print(y)\n",
    "z=x.dot(y)\n",
    "print(z)"
   ]
  },
  {
   "cell_type": "markdown",
   "metadata": {},
   "source": [
    "## Cross product\n",
    "Python Vector Cross product works in the same way as the normal cross product. A cross vector is defined as a vector that is perpendicular to these two vectors with a magnitude equal to the area of the parallelogram spanned by both vectors. As of now, the vector object honest has a cross multiplication method like that of a dot.\n",
    "\n",
    "The cross product can also be expressed as the formal determinant:\n",
    "\n",
    "${\\displaystyle \\mathbf {a\\times b} ={\\begin{vmatrix}\\mathbf {i} &\\mathbf {j} &\\mathbf {k} \\\\a_{1}&a_{2}&a_{3}\\\\b_{1}&b_{2}&b_{3}\\\\\\end{vmatrix}}}$\n",
    "\n",
    "This determinant can be computed using Sarrus's rule or cofactor expansion. Using Sarrus's rule, it expands to\n",
    "\n",
    "${\\displaystyle {\\begin{aligned}\\mathbf {a\\times b} &=(a_{2}b_{3}\\mathbf {i} +a_{3}b_{1}\\mathbf {j} +a_{1}b_{2}\\mathbf {k} )-(a_{3}b_{2}\\mathbf {i} +a_{1}b_{3}\\mathbf {j} +a_{2}b_{1}\\mathbf {k} )\\\\&=(a_{2}b_{3}-a_{3}b_{2})\\mathbf {i} +(a_{3}b_{1}-a_{1}b_{3})\\mathbf {j} +(a_{1}b_{2}-a_{2}b_{1})\\mathbf {k} .\\end{aligned}}}$\n",
    "\n",
    "Using cofactor expansion along the first row instead, it expands to\n",
    "\n",
    "${\\displaystyle {\\begin{aligned}\\mathbf {a\\times b} &={\\begin{vmatrix}a_{2}&a_{3}\\\\b_{2}&b_{3}\\end{vmatrix}}\\mathbf {i} -{\\begin{vmatrix}a_{1}&a_{3}\\\\b_{1}&b_{3}\\end{vmatrix}}\\mathbf {j} +{\\begin{vmatrix}a_{1}&a_{2}\\\\b_{1}&b_{2}\\end{vmatrix}}\\mathbf {k} \\\\&=(a_{2}b_{3}-a_{3}b_{2})\\mathbf {i} -(a_{1}b_{3}-a_{3}b_{1})\\mathbf {j} +(a_{1}b_{2}-a_{2}b_{1})\\mathbf {k} ,\\end{aligned}}}$\n",
    "\n",
    "which gives the components of the resulting vector directly."
   ]
  },
  {
   "cell_type": "code",
   "execution_count": 22,
   "metadata": {},
   "outputs": [
    {
     "name": "stdout",
     "output_type": "stream",
     "text": [
      "[1 5 6]\n",
      "[1 4 6]\n",
      "[ 6  0 -1]\n"
     ]
    }
   ],
   "source": [
    "x=array([1,5,6])\n",
    "print(x)\n",
    "y=array([1,4,6])\n",
    "print(y)\n",
    "z=np.cross(x,y)\n",
    "print(z)"
   ]
  },
  {
   "cell_type": "markdown",
   "metadata": {},
   "source": [
    "Cross Product returns a vector that is perpendicular to both vectors. Firstly, we start by importing the numpy module and array class from it. Nextly, we initialize two arrays with different values. As a cross product of the same vector gives a zero vector, we have to use two different vectors. "
   ]
  },
  {
   "cell_type": "markdown",
   "metadata": {},
   "source": [
    "# 2. Plot the force vectors"
   ]
  },
  {
   "cell_type": "markdown",
   "metadata": {},
   "source": [
    "## Visualise the force vector in 2D"
   ]
  },
  {
   "cell_type": "code",
   "execution_count": 33,
   "metadata": {},
   "outputs": [],
   "source": [
    "import matplotlib.pyplot as plt"
   ]
  },
  {
   "cell_type": "code",
   "execution_count": 108,
   "metadata": {},
   "outputs": [
    {
     "name": "stdout",
     "output_type": "stream",
     "text": [
      "[2 1]\n"
     ]
    }
   ],
   "source": [
    "u = array([2, 0])\n",
    "v = array([0, 1])\n",
    "q = u+v\n",
    "print(q)"
   ]
  },
  {
   "cell_type": "code",
   "execution_count": 109,
   "metadata": {},
   "outputs": [
    {
     "data": {
      "text/plain": [
       "<matplotlib.quiver.Quiver at 0x29357e3a5e0>"
      ]
     },
     "execution_count": 109,
     "metadata": {},
     "output_type": "execute_result"
    },
    {
     "data": {
      "image/png": "[encoded data removed]",
      "text/plain": [
       "<Figure size 432x288 with 1 Axes>"
      ]
     },
     "metadata": {
      "needs_background": "light"
     },
     "output_type": "display_data"
    }
   ],
   "source": [
    "fig = plt.figure()\n",
    "ax = plt.axes()\n",
    "# ax.set_xlim([0,1])\n",
    "# ax.set_ylim([0,1])\n",
    "ax.axis([-3, 3, -3, 3])\n",
    "start=[0, 0]\n",
    "ax.quiver(start[0],start[1], u[0], u[1], scale=5, color='b')\n",
    "ax.quiver(start[0],start[1], v[0], v[1], scale=5, color='k')\n",
    "ax.quiver(start[0],start[1], q[0], q[1], scale=5, color='r')\n",
    "# The quiver will scale with the "
   ]
  },
  {
   "cell_type": "code",
   "execution_count": 110,
   "metadata": {},
   "outputs": [
    {
     "data": {
      "image/png": "[encoded data removed]",
      "text/plain": [
       "<Figure size 432x288 with 1 Axes>"
      ]
     },
     "metadata": {
      "needs_background": "light"
     },
     "output_type": "display_data"
    }
   ],
   "source": [
    "# This one is more accurate without any scaling\n",
    "ax = plt.axes()\n",
    "ax.arrow(start[0],start[1], u[0], u[1], head_width=0.05, head_length=0.1, fc='b', ec='b')\n",
    "ax.arrow(start[0],start[1], v[0], v[1], head_width=0.05, head_length=0.1, fc='k', ec='k')\n",
    "ax.arrow(start[0],start[1], q[0], q[1], head_width=0.05, head_length=0.1, fc='r', ec='r')\n",
    "plt.show()"
   ]
  },
  {
   "cell_type": "code",
   "execution_count": 78,
   "metadata": {},
   "outputs": [
    {
     "data": {
      "image/png": "[encoded data removed]",
      "text/plain": [
       "<Figure size 432x288 with 1 Axes>"
      ]
     },
     "metadata": {
      "needs_background": "light"
     },
     "output_type": "display_data"
    }
   ],
   "source": [
    "fig, ax = plt.subplots()\n",
    "\n",
    "x_pos = [0, 0]\n",
    "y_pos = [0, 0]\n",
    "x_direct = [1, 0]\n",
    "y_direct = [1, -1]\n",
    "\n",
    "\n",
    "ax.quiver(x_pos,y_pos,x_direct,y_direct,\n",
    "         scale=5)\n",
    "ax.axis([-1.5, 1.5, -1.5, 1.5])\n",
    "\n",
    "\n",
    "plt.show()"
   ]
  },
  {
   "attachments": {},
   "cell_type": "markdown",
   "metadata": {},
   "source": [
    "## Visualise the force vector in 3D"
   ]
  },
  {
   "cell_type": "code",
   "execution_count": 1,
   "metadata": {},
   "outputs": [],
   "source": [
    "import matplotlib.pyplot as plt"
   ]
  },
  {
   "cell_type": "code",
   "execution_count": 134,
   "metadata": {},
   "outputs": [
    {
     "name": "stdout",
     "output_type": "stream",
     "text": [
      "[7 8 5]\n"
     ]
    }
   ],
   "source": [
    "u = array([2, 3, 1])\n",
    "v = array([5, 5, 4])\n",
    "q = u+v\n",
    "print(q)"
   ]
  },
  {
   "cell_type": "code",
   "execution_count": 137,
   "metadata": {},
   "outputs": [
    {
     "data": {
      "image/png": "[encoded data removed]",
      "text/plain": [
       "<Figure size 432x288 with 1 Axes>"
      ]
     },
     "metadata": {
      "needs_background": "light"
     },
     "output_type": "display_data"
    }
   ],
   "source": [
    "fig = plt.figure()\n",
    "ax = plt.axes(projection = '3d')\n",
    "ax.set_xlim([-10,10])\n",
    "ax.set_ylim([-10,10])\n",
    "ax.set_zlim([0,10])\n",
    "start=[0, 0, 0]\n",
    "ax.quiver(start[0],start[1],start[2], u[0], u[1], u[2], color='b')\n",
    "ax.quiver(start[0],start[1],start[2], v[0], v[1], v[2], color='k')\n",
    "ax.quiver(start[0],start[1],start[2], q[0], q[1], q[2], color='r')\n",
    "ax.view_init(10,10)"
   ]
  },
  {
   "cell_type": "code",
   "execution_count": 5,
   "metadata": {},
   "outputs": [],
   "source": []
  },
  {
   "cell_type": "code",
   "execution_count": 7,
   "metadata": {},
   "outputs": [
    {
     "data": {
      "text/plain": [
       "<mpl_toolkits.mplot3d.art3d.Line3DCollection at 0x29354082400>"
      ]
     },
     "execution_count": 7,
     "metadata": {},
     "output_type": "execute_result"
    }
   ],
   "source": []
  },
  {
   "cell_type": "code",
   "execution_count": 8,
   "metadata": {},
   "outputs": [],
   "source": [
    "plt.show()"
   ]
  },
  {
   "cell_type": "markdown",
   "metadata": {},
   "source": [
    "# 3. Calculate the moment"
   ]
  },
  {
   "cell_type": "code",
   "execution_count": null,
   "metadata": {},
   "outputs": [],
   "source": []
  },
  {
   "cell_type": "markdown",
   "metadata": {},
   "source": [
    "# 4. Moment equalibrium"
   ]
  },
  {
   "cell_type": "code",
   "execution_count": 3,
   "metadata": {},
   "outputs": [
    {
     "name": "stdout",
     "output_type": "stream",
     "text": [
      "[1. 2. 3. 4.]\n",
      "[1.352 2.352 3.352 4.352]\n",
      "[1.704 2.704 3.704 4.704]\n",
      "[2.056 3.056 4.056 5.056]\n",
      "[2.408 3.408 4.408 5.408]\n",
      "[2.76 3.76 4.76 5.76]\n",
      "[3.112 4.112 5.112 6.112]\n",
      "[3.464 4.464 5.464 6.464]\n",
      "[3.816 4.816 5.816 6.816]\n",
      "[4.168 5.168 6.168 7.168]\n",
      "[4.52 5.52 6.52 7.52]\n",
      "[4.872 5.872 6.872 7.872]\n",
      "[5.224 6.224 7.224 8.224]\n",
      "[5.576 6.576 7.576 8.576]\n",
      "[5.928 6.928 7.928 8.928]\n",
      "[6.28 7.28 8.28 9.28]\n",
      "[6.632 7.632 8.632 9.632]\n",
      "[6.984 7.984 8.984 9.984]\n",
      "[ 7.336  8.336  9.336 10.336]\n",
      "[1.0, 2.0, 3.0, 4.0, 1.3519999999999999, 2.352, 3.352, 4.352, 1.704, 2.7039999999999997, 3.7039999999999997, 4.704, 2.056, 3.056, 4.056, 5.056, 2.408, 3.408, 4.4079999999999995, 5.4079999999999995, 2.76, 3.76, 4.76, 5.76, 3.112, 4.112, 5.112, 6.112, 3.464, 4.464, 5.464, 6.464, 3.816, 4.816, 5.816, 6.816, 4.167999999999999, 5.167999999999999, 6.167999999999999, 7.167999999999999, 4.52, 5.52, 6.52, 7.52, 4.872, 5.872, 6.872, 7.872, 5.224, 6.224, 7.224, 8.224, 5.576, 6.576, 7.576, 8.576, 5.928, 6.928, 7.928, 8.928, 6.279999999999999, 7.279999999999999, 8.28, 9.28, 6.632, 7.632, 8.632, 9.632, 6.984, 7.984, 8.984, 9.984, 7.335999999999999, 8.335999999999999, 9.335999999999999, 10.335999999999999]\n"
     ]
    }
   ],
   "source": [
    "import numpy as np\n",
    "R=[]\n",
    "R0=[1,2,3,4]\n",
    "offset=0.352\n",
    "for n in range(0,19,1):\n",
    "    R2=[]\n",
    "    R2=np.add(R0, offset*n)\n",
    "    print(R2)\n",
    "    # print(R0)\n",
    "    [R.append(x) for x in R2]\n",
    "\n",
    "\n",
    "print(R)\n"
   ]
  },
  {
   "cell_type": "code",
   "execution_count": null,
   "metadata": {},
   "outputs": [],
   "source": []
  }
 ],
 "metadata": {
  "kernelspec": {
   "display_name": "Python 3",
   "language": "python",
   "name": "python3"
  },
  "language_info": {
   "codemirror_mode": {
    "name": "ipython",
    "version": 3
   },
   "file_extension": ".py",
   "mimetype": "text/x-python",
   "name": "python",
   "nbconvert_exporter": "python",
   "pygments_lexer": "ipython3",
   "version": "3.8.5"
  }
 },
 "nbformat": 4,
 "nbformat_minor": 4
}
