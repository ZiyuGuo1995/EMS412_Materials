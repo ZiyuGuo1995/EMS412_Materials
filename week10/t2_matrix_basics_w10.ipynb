{
 "cells": [
  {
   "cell_type": "markdown",
   "metadata": {},
   "source": [
    "In this tutorial we are going to look at creating matrices using numpy and change, add, print their values together.\n",
    "\n",
    "Here you will learn the commands:\n",
    "\n",
    "np.array()  - to create an matrix with defined numbers\n",
    "\n",
    "np.zeros([n,m]) - to create a matrix of size nxm with zeros \n",
    "\n",
    "\n",
    "To start let's create 2 matrices of size 4 by 3 with some pre-defined values, then change some of the matrix values (to show you how this is done). We will then add them together."
   ]
  },
  {
   "cell_type": "code",
   "execution_count": 5,
   "metadata": {},
   "outputs": [
    {
     "name": "stdout",
     "output_type": "stream",
     "text": [
      "mat1 matrix values are \n",
      "[[ 1  2  3]\n",
      " [ 4  5  6]\n",
      " [ 7  8  9]\n",
      " [10 11 12]]\n",
      "mat2 matrix values are\n",
      "[[ -1  -2  -3]\n",
      " [ -4  -5  -6]\n",
      " [ -7  -8  -9]\n",
      " [-10 -11 -12]]\n",
      "printing out some individual elements of the matrix:\n",
      "1\n",
      "-5\n",
      "the new mat1 matrix values are:\n",
      "[[ 100    2    0]\n",
      " [   4 -100    6]\n",
      " [   7    8    9]\n",
      " [  10   11   12]]\n",
      "the sum of matrix mat1 and mat2 is:\n",
      "[[  99.    0.   -3.]\n",
      " [   0. -105.    0.]\n",
      " [   0.    0.    0.]\n",
      " [   0.    0.    0.]]\n"
     ]
    }
   ],
   "source": [
    "# as always, load up the numpy as np\n",
    "import numpy as np\n",
    "\n",
    "# set up two 4x3 matrices \n",
    "# we use the np.array() command, and include in the [] the values\n",
    "# of the matrices.\n",
    "# IMPORTANT! look at the [] structure below. we have:\n",
    "# [[row 1],[row2],[row3],...,[rowN]]\n",
    "mat1 = np.array([[1,2,3],[4,5,6],[7,8,9],[10,11,12]])\n",
    "mat2 = np.array([[-1,-2,-3],[-4,-5,-6],[-7,-8,-9],[-10,-11,-12]])\n",
    "\n",
    "# print the matrices, make sure they are right!\n",
    "print('mat1 matrix values are ')\n",
    "print(mat1)\n",
    "print('mat2 matrix values are')\n",
    "print(mat2)\n",
    "\n",
    "# print some individual components out \n",
    "# to access i.j element of the matrix we use, for example, mat1[i,j]\n",
    "# just remember the indexing starts at zero!\n",
    "print('printing out some individual elements of the matrix:')\n",
    "print(mat1[0,0])\n",
    "print(mat2[1,1])\n",
    "\n",
    "\n",
    "# change some numbers just to get used to this. \n",
    "# remember, again, the indexing starts at 0\n",
    "# and the i,j component in the matrix is mat1[i,j]\n",
    "# so to change some number we use:\n",
    "mat1[0,0] = 100\n",
    "mat1[1,1] = -100\n",
    "mat1[0,2] = 0\n",
    "\n",
    "# print and check!\n",
    "print('the new mat1 matrix values are:')\n",
    "print(mat1)\n",
    "\n",
    "# now set up a new matrix of size 4x3 and add mat1 and mat2 together.\n",
    "# use np.zeros to create\n",
    "mat3 = np.zeros([4,3])\n",
    "# and a double loop for the adding\n",
    "for i in range(4):\n",
    "    for j in range(3):\n",
    "        mat3[i,j] = mat1[i,j]+mat2[i,j]\n",
    "\n",
    "print('the sum of matrix mat1 and mat2 is:')\n",
    "print(mat3)\n",
    "# check to see it is correct!\n"
   ]
  },
  {
   "cell_type": "markdown",
   "metadata": {},
   "source": [
    "your go now. create a 3x3 matrix and turn it into an identity matix\n",
    "\n",
    "To start you off, I will set up a matrix with initial values of zeros - using the np.zeros() command\n"
   ]
  },
  {
   "cell_type": "code",
   "execution_count": 6,
   "metadata": {},
   "outputs": [
    {
     "name": "stdout",
     "output_type": "stream",
     "text": [
      "initial matrix\n",
      "[[0. 0. 0.]\n",
      " [0. 0. 0.]\n",
      " [0. 0. 0.]]\n"
     ]
    }
   ],
   "source": [
    "import numpy as np\n",
    "\n",
    "# make a 3x3 matrix called mat\n",
    "mat = np.zeros([3,3])\n",
    "print('initial matrix')\n",
    "print(mat)\n",
    "\n",
    "# you fill in the rest. to make it diagonal. \n",
    "#See if you can use a loop to do this.\n"
   ]
  },
  {
   "cell_type": "code",
   "execution_count": null,
   "metadata": {},
   "outputs": [],
   "source": []
  }
 ],
 "metadata": {
  "kernelspec": {
   "display_name": "Python 3",
   "language": "python",
   "name": "python3"
  },
  "language_info": {
   "codemirror_mode": {
    "name": "ipython",
    "version": 3
   },
   "file_extension": ".py",
   "mimetype": "text/x-python",
   "name": "python",
   "nbconvert_exporter": "python",
   "pygments_lexer": "ipython3",
   "version": "3.8.5"
  }
 },
 "nbformat": 4,
 "nbformat_minor": 5
}
