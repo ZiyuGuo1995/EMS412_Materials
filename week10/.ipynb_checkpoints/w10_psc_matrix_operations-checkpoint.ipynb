{
 "cells": [
  {
   "cell_type": "markdown",
   "id": "0101e5d3",
   "metadata": {},
   "source": [
    "Q1: complete the code to form the identity matrix using a single loop\n"
   ]
  },
  {
   "cell_type": "code",
   "execution_count": 5,
   "id": "c156a9b1",
   "metadata": {},
   "outputs": [
    {
     "name": "stdout",
     "output_type": "stream",
     "text": [
      "initial matrix\n",
      "[[0. 0. 0. 0. 0.]\n",
      " [0. 0. 0. 0. 0.]\n",
      " [0. 0. 0. 0. 0.]\n",
      " [0. 0. 0. 0. 0.]\n",
      " [0. 0. 0. 0. 0.]]\n",
      "identity matrix\n",
      "[[0. 0. 0. 0. 0.]\n",
      " [0. 0. 0. 0. 0.]\n",
      " [0. 0. 0. 0. 0.]\n",
      " [0. 0. 0. 0. 0.]\n",
      " [0. 0. 0. 0. 0.]]\n",
      "[[1. 0. 0. 0. 0.]\n",
      " [0. 1. 0. 0. 0.]\n",
      " [0. 0. 1. 0. 0.]\n",
      " [0. 0. 0. 1. 0.]\n",
      " [0. 0. 0. 0. 1.]]\n"
     ]
    }
   ],
   "source": [
    "import numpy as np\n",
    "\n",
    "matrix = np.zeros([5,5])\n",
    "print('initial matrix')\n",
    "print(matrix)\n",
    "\n",
    "# write a loop to form the idenity matrix\n",
    "\n",
    "# print it out\n",
    "print('identity matrix')\n",
    "print(matrix)\n",
    "\n"
   ]
  },
  {
   "cell_type": "markdown",
   "id": "47089f8a",
   "metadata": {},
   "source": [
    "Q2:\n",
    "write a piece of code do perform the dot product of 2 vectors. i.e. given vectors u and v perform u.v "
   ]
  },
  {
   "cell_type": "code",
   "execution_count": 3,
   "id": "e1c63cbc",
   "metadata": {},
   "outputs": [
    {
     "name": "stdout",
     "output_type": "stream",
     "text": [
      "numpy dot product is  51\n"
     ]
    }
   ],
   "source": [
    "import numpy as np\n",
    "\n",
    "u = np.array([6,4,3,5,4])\n",
    "v = np.array([1,2,2,3,4])\n",
    "\n",
    "# complete the code to do the dot porduct.\n",
    "\n"
   ]
  },
  {
   "cell_type": "markdown",
   "id": "9215c8c6",
   "metadata": {},
   "source": [
    "Q3: write the code to perform the matrix vector multiplication b = Ax"
   ]
  },
  {
   "cell_type": "code",
   "execution_count": 6,
   "id": "8f2be7ab",
   "metadata": {},
   "outputs": [],
   "source": [
    "import numpy as np\n",
    "# set up the matrix and vector\n",
    "A = np.array([[4,2,1],[1,3,1],[2,3,6]])\n",
    "x = np.array([4,3,2])\n",
    "\n",
    "# write your code here. create a vector b and calculate the values \n",
    "\n",
    "\n"
   ]
  },
  {
   "cell_type": "markdown",
   "id": "9dc26acb",
   "metadata": {},
   "source": [
    "Q4: compute the matrix-matrix multiplication of A and B below - not the dimensions I have set!\n",
    "\n"
   ]
  },
  {
   "cell_type": "code",
   "execution_count": 4,
   "id": "d8c3cbba",
   "metadata": {},
   "outputs": [
    {
     "name": "stdout",
     "output_type": "stream",
     "text": [
      "A:\n",
      "[[4 2 1]\n",
      " [1 3 1]\n",
      " [2 3 6]]\n",
      "B:\n",
      "[[4 3]\n",
      " [4 5]\n",
      " [1 1]]\n"
     ]
    }
   ],
   "source": [
    "import numpy as np\n",
    "# set up the matrix and vector\n",
    "A = np.array([[4,2,1],[1,3,1],[2,3,6]])\n",
    "B = np.array([[4,3],[4,5],[1,1]])\n",
    "\n",
    "print('A:')\n",
    "print(A)\n",
    "\n",
    "print('B:')\n",
    "print(B)\n",
    "\n",
    "# you do the rest.\n"
   ]
  },
  {
   "cell_type": "code",
   "execution_count": null,
   "id": "69e96563",
   "metadata": {},
   "outputs": [],
   "source": []
  }
 ],
 "metadata": {
  "kernelspec": {
   "display_name": "Python 3 (ipykernel)",
   "language": "python",
   "name": "python3"
  },
  "language_info": {
   "codemirror_mode": {
    "name": "ipython",
    "version": 3
   },
   "file_extension": ".py",
   "mimetype": "text/x-python",
   "name": "python",
   "nbconvert_exporter": "python",
   "pygments_lexer": "ipython3",
   "version": "3.9.15"
  }
 },
 "nbformat": 4,
 "nbformat_minor": 5
}
