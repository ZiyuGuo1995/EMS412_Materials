{
 "cells": [
  {
   "cell_type": "markdown",
   "metadata": {},
   "source": [
    "in this final tutorial we will perform some simple operations -  you can do the rest in the PSC sheet.\n",
    "\n",
    "to start, we will write some code to find the 2-norm of a vector,\n",
    "\n",
    "The formula for a vecor $v$ is\n",
    "\n",
    "$$ ||v|| = (\\sum_i v_i^2 )^{\\frac{1}{2}} $$\n",
    "\n",
    "so we need to loop over the element, sum up the square values, then take a root at the end.\n"
   ]
  },
  {
   "cell_type": "code",
   "execution_count": 1,
   "metadata": {},
   "outputs": [
    {
     "name": "stdout",
     "output_type": "stream",
     "text": [
      "vector =  [2 3 4 5 1]\n",
      "size of v is  5\n",
      "2-norm of v is  7.416198487095663\n"
     ]
    }
   ],
   "source": [
    "import numpy as np\n",
    "\n",
    "# create a vector and print the values\n",
    "v=np.array([2,3,4,5,1])\n",
    "print('vector = ',v)\n",
    "# get size of array, print it out to make sure it is correct\n",
    "vsize = v.size\n",
    "print('size of v is ',vsize)\n",
    "\n",
    "# now loop over the elements and sum up the squares.\n",
    "# use variable vsum to contain the value, dont forget to initialise value\n",
    "\n",
    "vsum = 0\n",
    "for i in range(vsize):\n",
    "    vsum = vsum + v[i]**2\n",
    "# now take the square root\n",
    "𝑣sum = vsum**0.5\n",
    "\n",
    "print('2-norm of v is ', 𝑣sum)\n",
    "\n",
    "\n"
   ]
  },
  {
   "cell_type": "code",
   "execution_count": null,
   "metadata": {},
   "outputs": [],
   "source": []
  }
 ],
 "metadata": {
  "kernelspec": {
   "display_name": "Python 3",
   "language": "python",
   "name": "python3"
  },
  "language_info": {
   "codemirror_mode": {
    "name": "ipython",
    "version": 3
   },
   "file_extension": ".py",
   "mimetype": "text/x-python",
   "name": "python",
   "nbconvert_exporter": "python",
   "pygments_lexer": "ipython3",
   "version": "3.8.5"
  }
 },
 "nbformat": 4,
 "nbformat_minor": 5
}
