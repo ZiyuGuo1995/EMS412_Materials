{
 "cells": [
  {
   "cell_type": "markdown",
   "metadata": {},
   "source": [
    "So by now you will have mastered some fundamental matrix algebra, and the elements of programming you now know can be put into action to perform these operations. This is what we are going to cover over the next two weeks during these python classes.\n",
    "\n",
    "By the end you will be able to:\n",
    "\n",
    "1) create numpy matrix and vectors,\n",
    "\n",
    "2) fill in the matrix-vector elements\n",
    "\n",
    "3) Write the some code to perform matrix addition, matrix-vector multiplication, matrix-matrix multiplication, dot products, and to get solutions to matrix systems.\n",
    "\n",
    "This tutorials will also show you how to perform the operations using the numpy tools!!\n",
    "\n",
    "You have seen the numpy library already, it is full of useful functions and operations, here are some you will see in this tutorial.\n",
    "\n",
    "1)  vec = np.zeros([3]) \n",
    "to create a vector of size 3 with zeros in its elements\n",
    "\n",
    "2) size = vec.size\n",
    "to find the size of a numpy array called vec \n",
    "\n",
    "3) mat = np.zeros([m,n])\n",
    "to create a matrix of size m by n, with zeros in its elements.\n",
    "\n",
    "4) mat = np.array([[2,3,4],[4,5,6]])\n",
    "to create a matrix (here a 2x3 matrix) with defined values\n",
    "\n",
    "\n",
    "\n"
   ]
  },
  {
   "cell_type": "markdown",
   "metadata": {},
   "source": [
    "To begin, we will create two vectors of the same size, fill in some numbers and then add them together. To put it into context, lets say the vectors represent two forces acting on an object in the x-y-z directions. That is, we may have the forces:\n",
    "\n",
    "$$f =  \\begin{bmatrix} f_x \\\\ f_y \\\\ f_z \\end{bmatrix}$$\n",
    "\n",
    "and\n",
    "\n",
    "$$g =  \\begin{bmatrix} g_x \\\\ g_y \\\\ g_z \\end{bmatrix}$$\n",
    "\n",
    "and we need to get $$h = f + g$$\n",
    "\n",
    "remember that we add the elements of the vectors together such that \n",
    "\n",
    "$$h =  \\begin{bmatrix} f_x + g_x  \\\\ f_y + g_y \\\\ f_z + g_z \\end{bmatrix}$$\n",
    "\n",
    "so we can use a for loop to run over the elements.\n",
    "\n",
    "Go let's go through the code below, this is just setting up the vectors and giving them some values. We also print the values out and change some of their values. The comments will tell you what is going on, but hopefully it is self explanatory. \n"
   ]
  },
  {
   "cell_type": "code",
   "execution_count": 4,
   "metadata": {},
   "outputs": [
    {
     "name": "stdout",
     "output_type": "stream",
     "text": [
      "the force vector f:  [1 2 4]\n",
      "the force vector g:  [3 1 2]\n",
      "first element of f  1\n",
      "second element of f  2\n",
      "third element of f  4\n",
      "the force vector g for gravity is:  [  0   0 -10]\n"
     ]
    }
   ],
   "source": [
    "# import the numpy library - call it np as before\n",
    "import numpy as np\n",
    "\n",
    "# create 2 vectors called f and g, just give them some numbers.\n",
    "f = np.array([1,2,4])\n",
    "g = np.array([3,1,2])\n",
    "\n",
    "# print them out - make sure they are as you intend\n",
    "print('the force vector f: ',f)\n",
    "print('the force vector g: ',g)\n",
    "\n",
    "# this is really important to remember, \n",
    "# if you want to see and access the elements of the vectors\n",
    "# f anf g, you can use f[i] and g[i] where i is an integer\n",
    "# however the first element is at position 0 NOT 1!!\n",
    "# for example, to see the individual elements of f you can use:\n",
    "\n",
    "print( 'first element of f ', f[0]) \n",
    "print( 'second element of f ', f[1]) \n",
    "print( 'third element of f ', f[2]) \n",
    "\n",
    "# and of course you can change the values within the vectors\n",
    "#  e.g. change g to represent gravity\n",
    "g[0] = 0\n",
    "g[1] = 0\n",
    "g[2] = -10\n",
    "print('the force vector g for gravity is: ',g)\n",
    "\n",
    "# run this code, make sure the printing shows everything is as intended.\n"
   ]
  },
  {
   "cell_type": "markdown",
   "metadata": {},
   "source": [
    "OK, we have set up f and g, and now you can change the numbers too.  THE REALLY IMPORTANT THING TO REMEMEBER IS THAT THE INDEXING STARTS AT POSITION ZERO, i.e. g[0]!\n",
    "\n",
    "I want to show you how to find the size of the vectors. For a vector f, the size can be retrieved by \"f.size\"\n",
    "\n",
    "This is useful when you have varying sizes."
   ]
  },
  {
   "cell_type": "code",
   "execution_count": 5,
   "metadata": {},
   "outputs": [
    {
     "name": "stdout",
     "output_type": "stream",
     "text": [
      "size of f  3\n",
      "size of g  3\n"
     ]
    }
   ],
   "source": [
    "# we are going to loop over the elements, \n",
    "# but we need to know the size of the arrays we are adding, \n",
    "# look at the below, see how I can find this information!\n",
    "# this is important as you may use vectors of arbitrary size\n",
    "fsize = f.size\n",
    "print('size of f ',fsize)\n",
    "gsize = g.size\n",
    "print('size of g ',gsize)\n"
   ]
  },
  {
   "cell_type": "markdown",
   "metadata": {},
   "source": [
    "the next bit is to set up the vector h. We will need to make this the same size as f and g, but also we will intitate its values to zero \n",
    "\n",
    "here we can use\n",
    "\n",
    "h=np.zeros(3)\n",
    "\n",
    "to create the vector and then use a for loop to compute its values\n",
    "\n"
   ]
  },
  {
   "cell_type": "code",
   "execution_count": 6,
   "metadata": {},
   "outputs": [
    {
     "name": "stdout",
     "output_type": "stream",
     "text": [
      "h vector created, with initial values:  [0. 0. 0.]\n",
      "h vector with computed values:  [ 1.  2. -6.]\n"
     ]
    }
   ],
   "source": [
    "\n",
    "# OK, now lets set up out h vector to do   h = f + g\n",
    "# to create h, with initial values zero, we can\n",
    "# use the numpy zeros functions\n",
    "# assuming you have run the previous code, fsize will have been calculated, so we create the h array.\n",
    "h = np.zeros(fsize)\n",
    "# lets check the h is right\n",
    "# i.e. a vector of size 3, with zero values\n",
    "print('h vector created, with initial values: ',h)\n",
    "\n",
    "# now we can use a for loop to run through the elements of the vector for the summation.\n",
    "# remember that using the range(fsize) functionality means the loop runs through the \n",
    "# numbers 0,1,2 .. fsize-1 . this is perfect as these are the indexes of the vectors \n",
    "for index in range(fsize):\n",
    "    h[index] = f[index] + g[index]\n",
    "# now print the computed vector\n",
    "print('h vector with computed values: ',h)\n",
    "\n"
   ]
  },
  {
   "cell_type": "markdown",
   "metadata": {},
   "source": [
    "# THIS IS REALLY IMPORTANT!\n",
    "# DON'T FORGET THAT THE INDEXING STARTS AT 0, AND NOT 1.\n",
    "\n",
    "\n",
    "So to finish off this first tutorial using numpy vectors, write the code that creates 2 vectors of size 4,\n",
    "\n",
    "$$f=  \\begin{bmatrix} 2 \\\\ 3 \\\\ 4  \\\\ 5  \\end{bmatrix} $$\n",
    "and\n",
    "$$g=  \\begin{bmatrix} 2 \\\\ 3 \\\\ 4 \\\\ 5  \\end{bmatrix} $$\n",
    "\n",
    "and write the loops to add these together to make \n",
    "\n",
    "$$h = f+g$$\n"
   ]
  },
  {
   "cell_type": "code",
   "execution_count": null,
   "metadata": {},
   "outputs": [],
   "source": [
    "import numpy as np\n",
    "## put your code here -\n",
    "# create f and g and add them into a vector h\n"
   ]
  }
 ],
 "metadata": {
  "kernelspec": {
   "display_name": "Python 3",
   "language": "python",
   "name": "python3"
  },
  "language_info": {
   "codemirror_mode": {
    "name": "ipython",
    "version": 3
   },
   "file_extension": ".py",
   "mimetype": "text/x-python",
   "name": "python",
   "nbconvert_exporter": "python",
   "pygments_lexer": "ipython3",
   "version": "3.8.5"
  }
 },
 "nbformat": 4,
 "nbformat_minor": 5
}
