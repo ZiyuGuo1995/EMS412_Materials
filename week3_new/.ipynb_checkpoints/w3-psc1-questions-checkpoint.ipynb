{
 "cells": [
  {
   "cell_type": "markdown",
   "id": "accepting-excerpt",
   "metadata": {},
   "source": [
    "Q1: add in the remainder of the code below to return the cubed value of a number"
   ]
  },
  {
   "cell_type": "code",
   "execution_count": null,
   "id": "sporting-shoot",
   "metadata": {},
   "outputs": [],
   "source": [
    "def calculate_cube()(number):\n",
    "    # put your code here\n",
    "\n",
    "\n",
    "my_number = 5 # this is the value to cube.\n",
    "calculate_cube(my_number)\n",
    "    "
   ]
  }
 ],
 "metadata": {
  "kernelspec": {
   "display_name": "Python 3",
   "language": "python",
   "name": "python3"
  },
  "language_info": {
   "codemirror_mode": {
    "name": "ipython",
    "version": 3
   },
   "file_extension": ".py",
   "mimetype": "text/x-python",
   "name": "python",
   "nbconvert_exporter": "python",
   "pygments_lexer": "ipython3",
   "version": "3.8.6"
  }
 },
 "nbformat": 4,
 "nbformat_minor": 5
}
