{
 "cells": [
  {
   "cell_type": "markdown",
   "id": "junior-convertible",
   "metadata": {},
   "source": [
    "Extending on from the loops and if statements, a powerful element of coding is in their nesting. That is, we can have loops within loops within loops etc. To show how this is done, let's write a bit of code that has two nested loops that will print out every combination of pairs of numbers from 0 to 10.\n",
    "\n",
    "The code is here, so run it first and then we will see what is going on..\n",
    "\n"
   ]
  },
  {
   "cell_type": "code",
   "execution_count": null,
   "id": "divided-marks",
   "metadata": {},
   "outputs": [],
   "source": [
    "for i in range(11):\n",
    "    for j in range(11):\n",
    "        print(i,j)"
   ]
  },
  {
   "cell_type": "markdown",
   "id": "configured-falls",
   "metadata": {},
   "source": [
    "\n",
    "Now let's see how this works, in the first line we have a loop set up as we have learnt already. That is, a variable \"i\" is defined to sweep through all the numbers 0-10.\n",
    "\n",
    "As normal the next line is indented, as we know this is used to tell python the line is to be executed within the loop. However, this line is also a loop statement, and this sets up new variable \"j\" to also sweep through the numbers 0-10. Following this we have a further indentation where the print statement prints the values of i and j to screen. So this happens within the second loop.\n",
    "\n",
    "So what happens is that the first loop is executed, the variable \"i\" takes on the first value of 0, but then the second loop is executed and runs through all the values for \"j\" from 0 to 10. When the second loop had finished, the first loop turns to the next value i=1, then the second loop is executed again for all values j=0 to 10. When this finished the first loop go to the next value i=2 and so on..."
   ]
  },
  {
   "cell_type": "markdown",
   "id": "authorized-hello",
   "metadata": {},
   "source": [
    "Now let's throw in an if statement inside the loops to see how this work. Say we want to update the above code to add the values of i and j, and to only print them if they are odd. \n",
    "\n",
    "To do this we need a line to add them, and store this inside a new variable name, and to then check it is an odd number - we can just use the % operator to do this!"
   ]
  },
  {
   "cell_type": "code",
   "execution_count": 3,
   "id": "strong-motor",
   "metadata": {},
   "outputs": [
    {
     "name": "stdout",
     "output_type": "stream",
     "text": [
      "i,j: 0 1  sum is  1\n",
      "i,j: 0 3  sum is  3\n",
      "i,j: 0 5  sum is  5\n",
      "i,j: 0 7  sum is  7\n",
      "i,j: 0 9  sum is  9\n",
      "i,j: 1 0  sum is  1\n",
      "i,j: 1 2  sum is  3\n",
      "i,j: 1 4  sum is  5\n",
      "i,j: 1 6  sum is  7\n",
      "i,j: 1 8  sum is  9\n",
      "i,j: 1 10  sum is  11\n",
      "i,j: 2 1  sum is  3\n",
      "i,j: 2 3  sum is  5\n",
      "i,j: 2 5  sum is  7\n",
      "i,j: 2 7  sum is  9\n",
      "i,j: 2 9  sum is  11\n",
      "i,j: 3 0  sum is  3\n",
      "i,j: 3 2  sum is  5\n",
      "i,j: 3 4  sum is  7\n",
      "i,j: 3 6  sum is  9\n",
      "i,j: 3 8  sum is  11\n",
      "i,j: 3 10  sum is  13\n",
      "i,j: 4 1  sum is  5\n",
      "i,j: 4 3  sum is  7\n",
      "i,j: 4 5  sum is  9\n",
      "i,j: 4 7  sum is  11\n",
      "i,j: 4 9  sum is  13\n",
      "i,j: 5 0  sum is  5\n",
      "i,j: 5 2  sum is  7\n",
      "i,j: 5 4  sum is  9\n",
      "i,j: 5 6  sum is  11\n",
      "i,j: 5 8  sum is  13\n",
      "i,j: 5 10  sum is  15\n",
      "i,j: 6 1  sum is  7\n",
      "i,j: 6 3  sum is  9\n",
      "i,j: 6 5  sum is  11\n",
      "i,j: 6 7  sum is  13\n",
      "i,j: 6 9  sum is  15\n",
      "i,j: 7 0  sum is  7\n",
      "i,j: 7 2  sum is  9\n",
      "i,j: 7 4  sum is  11\n",
      "i,j: 7 6  sum is  13\n",
      "i,j: 7 8  sum is  15\n",
      "i,j: 7 10  sum is  17\n",
      "i,j: 8 1  sum is  9\n",
      "i,j: 8 3  sum is  11\n",
      "i,j: 8 5  sum is  13\n",
      "i,j: 8 7  sum is  15\n",
      "i,j: 8 9  sum is  17\n",
      "i,j: 9 0  sum is  9\n",
      "i,j: 9 2  sum is  11\n",
      "i,j: 9 4  sum is  13\n",
      "i,j: 9 6  sum is  15\n",
      "i,j: 9 8  sum is  17\n",
      "i,j: 9 10  sum is  19\n",
      "i,j: 10 1  sum is  11\n",
      "i,j: 10 3  sum is  13\n",
      "i,j: 10 5  sum is  15\n",
      "i,j: 10 7  sum is  17\n",
      "i,j: 10 9  sum is  19\n"
     ]
    }
   ],
   "source": [
    "# create the two loops.\n",
    "for i in range(11):\n",
    "    for j in range(11):\n",
    "        number = i+j\n",
    "        if number%2 == 1 :  # remember this  is to mod function that returns 0 if even and 1 if odd\n",
    "            print('i,j:',i,j,' sum is ',number)\n",
    "            "
   ]
  },
  {
   "cell_type": "code",
   "execution_count": null,
   "id": "excess-function",
   "metadata": {},
   "outputs": [],
   "source": []
  }
 ],
 "metadata": {
  "kernelspec": {
   "display_name": "Python 3",
   "language": "python",
   "name": "python3"
  },
  "language_info": {
   "codemirror_mode": {
    "name": "ipython",
    "version": 3
   },
   "file_extension": ".py",
   "mimetype": "text/x-python",
   "name": "python",
   "nbconvert_exporter": "python",
   "pygments_lexer": "ipython3",
   "version": "3.8.6"
  }
 },
 "nbformat": 4,
 "nbformat_minor": 5
}
