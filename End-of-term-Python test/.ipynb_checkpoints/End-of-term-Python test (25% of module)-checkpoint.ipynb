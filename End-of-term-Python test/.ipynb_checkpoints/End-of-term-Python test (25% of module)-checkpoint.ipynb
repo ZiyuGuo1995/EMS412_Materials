{
 "cells": [
  {
   "cell_type": "markdown",
   "metadata": {},
   "source": [
    "Make sure you fill in any place that says **`YOUR CODE HERE`**. Following the Python function you have finished (still in the same Jupyter code box), check each question by calling that Python function and print the answer. Do not change the function name and any predefined contents! Do read the comments and hints inside each Python function to help you aswer the questions.\n",
    "\n",
    "Before you turn this problem in, make sure everything runs as expected. First, **restart the kernel** (in the menubar, select Kernel$\\rightarrow$Restart) and then **run all cells** (in the menubar, select Cell$\\rightarrow$Run All)."
   ]
  },
  {
   "cell_type": "markdown",
   "metadata": {},
   "source": [
    "---"
   ]
  },
  {
   "cell_type": "markdown",
   "metadata": {
    "deletable": false,
    "editable": false,
    "nbgrader": {
     "cell_type": "markdown",
     "checksum": "af2dc4ea086761e45306d5b8866dccb6",
     "grade": false,
     "grade_id": "cell-e3e985edec274d1e",
     "locked": true,
     "schema_version": 3,
     "solution": false,
     "task": false
    }
   },
   "source": [
    "# End-of-term-Python test (25% of module)\n",
    "\n",
    "## There are 10 questions in this test. The total mark is 50. "
   ]
  },
  {
   "cell_type": "markdown",
   "metadata": {
    "deletable": false,
    "editable": false,
    "nbgrader": {
     "cell_type": "markdown",
     "checksum": "ae852f1a37eb56e8d5dbfca1352446da",
     "grade": false,
     "grade_id": "cell-b1e3c68d87d3434b",
     "locked": true,
     "schema_version": 3,
     "solution": false,
     "task": false
    }
   },
   "source": [
    "# Q1:\n",
    "\n",
    "One way to generate the value of Eulers number $e$ is given by the formula\n",
    "\n",
    "$$ e = \\lim_{n\\rightarrow \\infty} (1+\\frac{1}{n})^n $$ .\n",
    "\n",
    "Complete the code that calculates the expression inside the limit, that is, $(1+\\frac{1}{n})^n$, for some value $n$."
   ]
  },
  {
   "cell_type": "code",
   "execution_count": 3,
   "metadata": {
    "deletable": false,
    "nbgrader": {
     "cell_type": "code",
     "checksum": "bfc1fa10c0b62b5524aaee0355037f95",
     "grade": false,
     "grade_id": "cell-978f3dff8b3204c3",
     "locked": false,
     "schema_version": 3,
     "solution": true,
     "task": false
    }
   },
   "outputs": [],
   "source": [
    "# complete the function with the variable \"n\" and return the value as the variable named \"e\".\n",
    "# Don't define value of \"n\" directly inside the function, this should be an input value when you call the function\n",
    "# For example, approximate_e(1), the same rule applies for the rest of questions!\n",
    "def approximate_e(n):\n",
    "    \n",
    "    # your code here\n",
    "    \n",
    "    return e"
   ]
  },
  {
   "cell_type": "code",
   "execution_count": null,
   "metadata": {
    "deletable": false,
    "editable": false,
    "nbgrader": {
     "cell_type": "code",
     "checksum": "053b4ad30d1db8eea300728568ee44f4",
     "grade": true,
     "grade_id": "cell-75d12b775fbcf12d",
     "locked": true,
     "points": 2,
     "schema_version": 3,
     "solution": false,
     "task": false
    }
   },
   "outputs": [],
   "source": [
    "## Don't write any code in this box\n"
   ]
  },
  {
   "cell_type": "code",
   "execution_count": null,
   "metadata": {
    "deletable": false,
    "editable": false,
    "nbgrader": {
     "cell_type": "code",
     "checksum": "ec584688b7f138fd7266046c143d5cd2",
     "grade": true,
     "grade_id": "cell-ce58bc8a667f3841",
     "locked": true,
     "points": 2,
     "schema_version": 3,
     "solution": false,
     "task": false
    }
   },
   "outputs": [],
   "source": [
    "## Don't write any code in this box"
   ]
  },
  {
   "cell_type": "markdown",
   "metadata": {
    "deletable": false,
    "editable": false,
    "nbgrader": {
     "cell_type": "markdown",
     "checksum": "8f8612a24a09d8ab96e402c45ae69f64",
     "grade": false,
     "grade_id": "cell-994580f92f0a940e",
     "locked": true,
     "schema_version": 3,
     "solution": false,
     "task": false
    }
   },
   "source": [
    "# Q2: \n",
    "\n",
    "Complete the function that calculates the sum of the first $\\textbf{ n+1}$ terms of the geometric series \n",
    "$$ a , ar, ar^2 ar^3 , ar^4 \\ldots ar^{n} $$\n",
    "note that the series begins with $a$ and the last term is $ar^{n}$, in total there are $\\textbf{ n+1}$ terms."
   ]
  },
  {
   "cell_type": "code",
   "execution_count": 7,
   "metadata": {
    "deletable": false,
    "nbgrader": {
     "cell_type": "code",
     "checksum": "7139089173141e61125a2e7dcf0b9ddd",
     "grade": false,
     "grade_id": "cell-40ba0fa6e78dec5f",
     "locked": false,
     "schema_version": 3,
     "solution": true,
     "task": false
    }
   },
   "outputs": [],
   "source": [
    "# complete the function given the variables a,r,n and return the value as series_sum.\n",
    "def sum_geometric_series(a,r,n):\n",
    "    # your code here\n",
    "    \n",
    "    return series_sum\n"
   ]
  },
  {
   "cell_type": "code",
   "execution_count": null,
   "metadata": {
    "deletable": false,
    "editable": false,
    "nbgrader": {
     "cell_type": "code",
     "checksum": "f66ad60e1d2d455fb0c0a017a38db21a",
     "grade": true,
     "grade_id": "cell-05a185f842273bef",
     "locked": true,
     "points": 2,
     "schema_version": 3,
     "solution": false,
     "task": false
    }
   },
   "outputs": [],
   "source": [
    "## Don't write any code in this box\n"
   ]
  },
  {
   "cell_type": "code",
   "execution_count": null,
   "metadata": {
    "deletable": false,
    "editable": false,
    "nbgrader": {
     "cell_type": "code",
     "checksum": "b498e6094884ab8ab748b11c0c2c250c",
     "grade": true,
     "grade_id": "cell-693444cc63f4c951",
     "locked": true,
     "points": 3,
     "schema_version": 3,
     "solution": false,
     "task": false
    }
   },
   "outputs": [],
   "source": [
    "## Don't write any code in this box"
   ]
  },
  {
   "cell_type": "code",
   "execution_count": null,
   "metadata": {
    "deletable": false,
    "editable": false,
    "nbgrader": {
     "cell_type": "code",
     "checksum": "a1e159d96e67a4217e212033af96c6ca",
     "grade": true,
     "grade_id": "cell-bd1f9171ed85da3c",
     "locked": true,
     "points": 1,
     "schema_version": 3,
     "solution": false,
     "task": false
    }
   },
   "outputs": [],
   "source": [
    "## Don't write any code in this box"
   ]
  },
  {
   "cell_type": "markdown",
   "metadata": {
    "deletable": false,
    "editable": false,
    "nbgrader": {
     "cell_type": "markdown",
     "checksum": "30d10f236321315b7854e0c5a9598860",
     "grade": false,
     "grade_id": "cell-3462592c1815d4ea",
     "locked": true,
     "schema_version": 3,
     "solution": false,
     "task": false
    }
   },
   "source": [
    "# Q3:\n",
    "\n",
    "Complete the code that returns the value of $f(x)$, which has the value 1 inside the range $-1 \\le  x \\le 1 $ otherwise it is the value 0.\n",
    "\n",
    "$$f(x) = \n",
    "    \\begin{cases}\n",
    "1 ,  \\ \\ \\ x \\in [-1,1] \\\\\n",
    "0 , \\ \\ \\ \\text{otherwise} \n",
    "    \\end{cases}   \n",
    "$$\n"
   ]
  },
  {
   "cell_type": "code",
   "execution_count": 13,
   "metadata": {
    "deletable": false,
    "nbgrader": {
     "cell_type": "code",
     "checksum": "fdb1e4a7ec64616323c38f1dfe82566a",
     "grade": false,
     "grade_id": "cell-8e63d5df943ca5a0",
     "locked": false,
     "schema_version": 3,
     "solution": true,
     "task": false
    }
   },
   "outputs": [],
   "source": [
    "# complete the function to return the value of f(x) given x.\n",
    "# return as the value called variable \"fval\"\n",
    "def function_f(x):\n",
    "    \n",
    "    # your code here\n",
    "\n",
    "        \n",
    "    return fval\n"
   ]
  },
  {
   "cell_type": "code",
   "execution_count": null,
   "metadata": {
    "deletable": false,
    "editable": false,
    "nbgrader": {
     "cell_type": "code",
     "checksum": "fbf25ad568e8e98c7b862822acad6d06",
     "grade": true,
     "grade_id": "cell-a9005f5ec037aa15",
     "locked": true,
     "points": 2,
     "schema_version": 3,
     "solution": false,
     "task": false
    }
   },
   "outputs": [],
   "source": [
    "## Don't write any code in this box"
   ]
  },
  {
   "cell_type": "code",
   "execution_count": null,
   "metadata": {
    "deletable": false,
    "editable": false,
    "nbgrader": {
     "cell_type": "code",
     "checksum": "0bacf84cd021d54dd31d8b261e202e96",
     "grade": true,
     "grade_id": "cell-04bc69e0e9ce0d40",
     "locked": true,
     "points": 0.5,
     "schema_version": 3,
     "solution": false,
     "task": false
    }
   },
   "outputs": [],
   "source": [
    "## Don't write any code in this box"
   ]
  },
  {
   "cell_type": "code",
   "execution_count": null,
   "metadata": {
    "deletable": false,
    "editable": false,
    "nbgrader": {
     "cell_type": "code",
     "checksum": "786316e39cf186aad65ccaa680693af3",
     "grade": true,
     "grade_id": "cell-2f49c5f286b5bb1f",
     "locked": true,
     "points": 0.5,
     "schema_version": 3,
     "solution": false,
     "task": false
    }
   },
   "outputs": [],
   "source": [
    "## Don't write any code in this box"
   ]
  },
  {
   "cell_type": "code",
   "execution_count": null,
   "metadata": {
    "deletable": false,
    "editable": false,
    "nbgrader": {
     "cell_type": "code",
     "checksum": "6916b3cb017688003f276e76d3d0bbc3",
     "grade": true,
     "grade_id": "cell-f209e64c9a0395fe",
     "locked": true,
     "points": 0.5,
     "schema_version": 3,
     "solution": false,
     "task": false
    }
   },
   "outputs": [],
   "source": [
    "## Don't write any code in this box"
   ]
  },
  {
   "cell_type": "code",
   "execution_count": null,
   "metadata": {
    "deletable": false,
    "editable": false,
    "nbgrader": {
     "cell_type": "code",
     "checksum": "034ff739bf80bdf092f1d86a7df58c37",
     "grade": true,
     "grade_id": "cell-e2b93ca5132783e6",
     "locked": true,
     "points": 0.5,
     "schema_version": 3,
     "solution": false,
     "task": false
    }
   },
   "outputs": [],
   "source": [
    "## Don't write any code in this box"
   ]
  },
  {
   "cell_type": "code",
   "execution_count": null,
   "metadata": {
    "deletable": false,
    "editable": false,
    "nbgrader": {
     "cell_type": "code",
     "checksum": "8cd99df0ea8ebb422483a07145128d44",
     "grade": true,
     "grade_id": "cell-224fc858bb49514a",
     "locked": true,
     "points": 0.5,
     "schema_version": 3,
     "solution": false,
     "task": false
    }
   },
   "outputs": [],
   "source": [
    "## Don't write any code in this box"
   ]
  },
  {
   "cell_type": "markdown",
   "metadata": {
    "deletable": false,
    "editable": false,
    "nbgrader": {
     "cell_type": "markdown",
     "checksum": "2086892e49626d2e224ad470e57e92ab",
     "grade": false,
     "grade_id": "cell-f9b1ef86b2d5e524",
     "locked": true,
     "schema_version": 3,
     "solution": false,
     "task": false
    }
   },
   "source": [
    "# Q4:\n",
    "\n",
    "Complete the function that adds 3 matrices together. The matrices will be numpy type and of the same dimension of $3 \\times 3$. There are several ways to do this, any correct answer will be accepted."
   ]
  },
  {
   "cell_type": "code",
   "execution_count": 15,
   "metadata": {
    "deletable": false,
    "nbgrader": {
     "cell_type": "code",
     "checksum": "46efa5984008e0e42136087ffa14f854",
     "grade": false,
     "grade_id": "cell-2e20b8c70cf1dfc9",
     "locked": false,
     "schema_version": 3,
     "solution": true,
     "task": false
    }
   },
   "outputs": [],
   "source": [
    "# add the matrices a,b,c together, these will have been passed to the function \n",
    "# as standard numpy matrices. Rememeber if you are unsure, just print the \n",
    "# elements to see how to access the matrix values.\n",
    "# there are several ways to do this, anyway you do this is fine\n",
    "import numpy as np\n",
    "def add_matrices(a,b,c):\n",
    "    # initiate the matrix based on the assumption that the matrix is 3x3.\n",
    "    matrix = np.zeros([3,3])\n",
    "    # your code here\n",
    "\n",
    "    return matrix\n"
   ]
  },
  {
   "cell_type": "code",
   "execution_count": null,
   "metadata": {
    "deletable": false,
    "editable": false,
    "nbgrader": {
     "cell_type": "code",
     "checksum": "223b48110d943984dda3bac5c67a68b9",
     "grade": true,
     "grade_id": "cell-5b9a26c23049eed0",
     "locked": true,
     "points": 3,
     "schema_version": 3,
     "solution": false,
     "task": false
    }
   },
   "outputs": [],
   "source": [
    "## Don't write any code in this box"
   ]
  },
  {
   "cell_type": "code",
   "execution_count": null,
   "metadata": {
    "deletable": false,
    "editable": false,
    "nbgrader": {
     "cell_type": "code",
     "checksum": "1bade2cfe4282c127c0b6da8908f1eac",
     "grade": true,
     "grade_id": "cell-610e720c172d3b20",
     "locked": true,
     "points": 2.5,
     "schema_version": 3,
     "solution": false,
     "task": false
    }
   },
   "outputs": [],
   "source": [
    "## Don't write any code in this box"
   ]
  },
  {
   "cell_type": "markdown",
   "metadata": {
    "deletable": false,
    "editable": false,
    "nbgrader": {
     "cell_type": "markdown",
     "checksum": "d93d5f163bd27ec48de80dc300a16608",
     "grade": false,
     "grade_id": "cell-ae23089c9141ca4a",
     "locked": true,
     "schema_version": 3,
     "solution": false,
     "task": false
    }
   },
   "source": [
    "# Q5: \n",
    "\n",
    "Compute the code that return the matrix $M = A^T A$ for a given matrix A - the superscrupt $T$ denoted the transpose. I have started the code for you, which gets the dimension of the matrix, and creates the zero matrix of the correct size. I have also provided some of the loops involved. "
   ]
  },
  {
   "cell_type": "code",
   "execution_count": null,
   "metadata": {
    "deletable": false,
    "nbgrader": {
     "cell_type": "code",
     "checksum": "79dcdbf9aa02629d95a472ebab5f220d",
     "grade": false,
     "grade_id": "cell-3bb8fb8f6bacc461",
     "locked": false,
     "schema_version": 3,
     "solution": true,
     "task": false
    }
   },
   "outputs": [],
   "source": [
    "# perform and return the multiplication of $A^TA$\n",
    "\n",
    "import numpy as np\n",
    "def multiply_At_A(A):\n",
    "    # these lines set up the correct dimensions of the returned matrix.\n",
    "    # the matrix A is of dimension dim1 x dim2  - \n",
    "    # the matrix A^T (transpose of A) is dim2 x dim1\n",
    "    # the matrix (A^T A) is of dimension dim2 x dim2\n",
    "    \n",
    "    dim1 = A.shape[0]\n",
    "    dim2 = A.shape[1]\n",
    "    matrix = np.zeros([dim2,dim2])\n",
    "    \n",
    "    for i in range(dim2):\n",
    "        for j in range(dim2):\n",
    "            # complete the final loop to compute matrix[i,j]\n",
    "            \n",
    "            # your code here\n",
    "\n",
    "            \n",
    "    return matrix\n"
   ]
  },
  {
   "cell_type": "code",
   "execution_count": null,
   "metadata": {
    "deletable": false,
    "editable": false,
    "nbgrader": {
     "cell_type": "code",
     "checksum": "b20a57136bab2634cd9182623b65c35a",
     "grade": true,
     "grade_id": "cell-edf64abc21745fb1",
     "locked": true,
     "points": 4,
     "schema_version": 3,
     "solution": false,
     "task": false
    }
   },
   "outputs": [],
   "source": [
    "## Don't write any code in this box"
   ]
  },
  {
   "cell_type": "code",
   "execution_count": null,
   "metadata": {
    "deletable": false,
    "editable": false,
    "nbgrader": {
     "cell_type": "code",
     "checksum": "1ba33f37c20e2e457a1559cad117a704",
     "grade": true,
     "grade_id": "cell-78329be4b16b7a79",
     "locked": true,
     "points": 2,
     "schema_version": 3,
     "solution": false,
     "task": false
    }
   },
   "outputs": [],
   "source": [
    "## Don't write any code in this box"
   ]
  },
  {
   "cell_type": "markdown",
   "metadata": {
    "deletable": false,
    "editable": false,
    "nbgrader": {
     "cell_type": "markdown",
     "checksum": "ca2eb72c1e222d20609e3d8f3516cb15",
     "grade": false,
     "grade_id": "cell-ec00094769a69eb8",
     "locked": true,
     "schema_version": 3,
     "solution": false,
     "task": false
    }
   },
   "source": [
    "\n",
    "# Q6: \n",
    "\n",
    "We have learned the mid-point and trapezoidal rule for numercial intergration in the tutorials. Now you are asked to implement the Simpson rule, where we approximate the integration of a non-linear curve using piecewise quadratic functions.\n",
    "\n",
    "Assume $f(x)$  is continuous over  $[a,b]$ .  Let  $[a,b]$  be divided into  $N$  subintervals, each of length  $\\Delta x$, with endpoints at  $P={x_0,x_1,x_2,...,x_n,...,x_N}$. Each interval is $\\Delta x=(b−a)/N$. \n",
    "\n",
    "The Simpon numerical integration rule is derived as:\n",
    "\n",
    "$\\int_a^b f(x) dx \\approx \\frac{\\Delta x}{3} \\left[f(x_0)+4 \\left(\\sum_{n=1, n\\  {\\text{odd}}}^{N-1}f(x_n)\\right)+2 \\left(\\sum_{n=2, n\\  {\\text{even}}}^{N-2}f(x_n)\\right)+f(x_N)\\right].$\n",
    "\n",
    "Now complete the Python function **InterageSimpson(N, a, b)** below to implement this Simpson rule using the above equation.\n",
    "\n",
    "The function to be intergrate is $f(x)=2x^3$ (Already defined, don't change it).\n",
    "\n"
   ]
  },
  {
   "cell_type": "code",
   "execution_count": null,
   "metadata": {
    "deletable": false,
    "nbgrader": {
     "cell_type": "code",
     "checksum": "a3444ae1e7ff198223c7cdac9482f208",
     "grade": false,
     "grade_id": "Numerical-integration",
     "locked": false,
     "schema_version": 3,
     "solution": true,
     "task": false
    }
   },
   "outputs": [],
   "source": [
    "# Complete the function given the variables N,a,b and return the value as \"TotalArea\".\n",
    "# Don't change the predefined content, only fill your code in the region \"YOUR CODE\"\n",
    "\n",
    "from math import *\n",
    "def InterageSimpson(N, a, b): # n is the total intervals, a and b is the lower and upper bound respectively\n",
    "    \"\"\"Hint: Use loop to add all the values in the above equation and  \n",
    "    use the if statement to determine whether the value is odd or even\"\"\"    \n",
    "    \n",
    "    def f(x):\n",
    "        ## The function f(x)=2*x**3 is defined as below, DON'T CHANGE IT:\n",
    "        f=2*x**3\n",
    "        return f \n",
    "\n",
    "    value=0   # Initial value\n",
    "    TotalArea=0  # TotalArea as the final integral value, the area underneath the curve.\n",
    "    dx=(b-a)/N # delta x, the interval length\n",
    "    \n",
    "    # Complete the function by filling your codes below:\n",
    "    \n",
    "    # your code here\n",
    "    \n",
    "    return TotalArea  # Make sure in your solution, you use the same name \"TotalArea\" for the output\n",
    "\n",
    "    "
   ]
  },
  {
   "cell_type": "code",
   "execution_count": null,
   "metadata": {
    "deletable": false,
    "editable": false,
    "nbgrader": {
     "cell_type": "code",
     "checksum": "0ebb4d008561c940e379bf4bd034e718",
     "grade": true,
     "grade_id": "cell-4cf5cd22d1ca1251",
     "locked": true,
     "points": 2,
     "schema_version": 3,
     "solution": false,
     "task": false
    }
   },
   "outputs": [],
   "source": [
    "## Don't write any code in this box\n",
    "\n"
   ]
  },
  {
   "cell_type": "code",
   "execution_count": null,
   "metadata": {
    "deletable": false,
    "editable": false,
    "nbgrader": {
     "cell_type": "code",
     "checksum": "fa154439cba842d61dc0fd3ee7f1398e",
     "grade": true,
     "grade_id": "cell-df3946382e1ec956",
     "locked": true,
     "points": 2,
     "schema_version": 3,
     "solution": false,
     "task": false
    }
   },
   "outputs": [],
   "source": [
    "## Don't write any code in this box\n"
   ]
  },
  {
   "cell_type": "code",
   "execution_count": null,
   "metadata": {
    "deletable": false,
    "editable": false,
    "nbgrader": {
     "cell_type": "code",
     "checksum": "6829f301f800a4bc4c1d8ad2dbe86d79",
     "grade": true,
     "grade_id": "cell-393f92eb5fd44edc",
     "locked": true,
     "points": 1,
     "schema_version": 3,
     "solution": false,
     "task": false
    }
   },
   "outputs": [],
   "source": [
    "## Don't write any code in this box"
   ]
  },
  {
   "cell_type": "code",
   "execution_count": null,
   "metadata": {
    "deletable": false,
    "editable": false,
    "nbgrader": {
     "cell_type": "code",
     "checksum": "98055fcd200e1cf085525b4d042fa211",
     "grade": true,
     "grade_id": "Numerical-integration-Full-mark-1",
     "locked": true,
     "points": 2,
     "schema_version": 3,
     "solution": false,
     "task": false
    }
   },
   "outputs": [],
   "source": [
    "## Don't write any code in this box\n",
    "\n"
   ]
  },
  {
   "cell_type": "code",
   "execution_count": null,
   "metadata": {
    "deletable": false,
    "editable": false,
    "nbgrader": {
     "cell_type": "code",
     "checksum": "3056874f37d333d2c715dc4869aa9a3a",
     "grade": true,
     "grade_id": "cell-758279e6a91b8eb8",
     "locked": true,
     "points": 2,
     "schema_version": 3,
     "solution": false,
     "task": false
    }
   },
   "outputs": [],
   "source": [
    "## Don't write any code in this box\n",
    "\n"
   ]
  },
  {
   "cell_type": "code",
   "execution_count": null,
   "metadata": {
    "deletable": false,
    "editable": false,
    "nbgrader": {
     "cell_type": "code",
     "checksum": "d76ca08b588cdd696b80011b83f88d8d",
     "grade": true,
     "grade_id": "Numerical-integration-Partial-mark-3",
     "locked": true,
     "points": 2,
     "schema_version": 3,
     "solution": false,
     "task": false
    }
   },
   "outputs": [],
   "source": [
    "## Don't write any code in this box\n",
    "\n"
   ]
  },
  {
   "cell_type": "code",
   "execution_count": null,
   "metadata": {
    "deletable": false,
    "editable": false,
    "nbgrader": {
     "cell_type": "code",
     "checksum": "6631065ef39ea14d16f7e38c008d7e5c",
     "grade": true,
     "grade_id": "Numerical-integration-Partial-mark-4",
     "locked": true,
     "points": 2,
     "schema_version": 3,
     "solution": false,
     "task": false
    }
   },
   "outputs": [],
   "source": [
    "## Don't write any code in this box\n",
    "\n"
   ]
  },
  {
   "cell_type": "markdown",
   "metadata": {
    "deletable": false,
    "editable": false,
    "nbgrader": {
     "cell_type": "markdown",
     "checksum": "62771a0fe5b312f28d843bb1b3022150",
     "grade": false,
     "grade_id": "Numerical-differentiation-Q",
     "locked": true,
     "schema_version": 3,
     "solution": false,
     "task": false
    }
   },
   "source": [
    "\n",
    "# Q7: \n",
    "\n",
    "Use the numerical differentiation to compute the derivative of the function below:\n",
    "\n",
    "$$f(x) = 2x^4-4x^2+x$$\n",
    "\n",
    "Given an arbitary value $x=a$,  compute the derivative $f'(x=a)$ with step size $h$ using the **central difference** numerical approximation.\n",
    "\n"
   ]
  },
  {
   "cell_type": "code",
   "execution_count": null,
   "metadata": {
    "deletable": false,
    "nbgrader": {
     "cell_type": "code",
     "checksum": "26578551ea2d0ce54df343c83ef3b133",
     "grade": false,
     "grade_id": "Numerical-differentiation-A",
     "locked": false,
     "schema_version": 3,
     "solution": true,
     "task": false
    }
   },
   "outputs": [],
   "source": [
    "# Complete the function given the variables a,h and return the value as \"fprime\".\n",
    "## Don't change the predefined content, only fill your code in the region \"YOUR CODE\"\n",
    "\n",
    "def derivative(a,h):\n",
    "    '''Compute the difference formula for f'(a) with step size h.\n",
    "\n",
    "    Parameters\n",
    "    a : number\n",
    "        Compute derivative at x = a\n",
    "    h : number\n",
    "        Step size in difference formula\n",
    "    \n",
    "    \n",
    "    Step 1: define the function f(x) based on the given function above\n",
    "    Step 2: use the central difference formula for calculating the f'(a)\n",
    "    '''\n",
    "    \n",
    "    \n",
    "    # your code here\n",
    "    \n",
    "    \n",
    "    return fprime # # Make sure in your solution, you use the same name \"fprime\" for the output\n",
    "\n"
   ]
  },
  {
   "cell_type": "code",
   "execution_count": null,
   "metadata": {
    "deletable": false,
    "editable": false,
    "nbgrader": {
     "cell_type": "code",
     "checksum": "ce312f884d00b875784735d6a470f4f9",
     "grade": true,
     "grade_id": "Differentiation-mark-part1",
     "locked": true,
     "points": 2,
     "schema_version": 3,
     "solution": false,
     "task": false
    }
   },
   "outputs": [],
   "source": [
    "## Don't write any code in this box\n",
    "\n"
   ]
  },
  {
   "cell_type": "code",
   "execution_count": null,
   "metadata": {
    "deletable": false,
    "editable": false,
    "nbgrader": {
     "cell_type": "code",
     "checksum": "f78ddbfadc07622f3f5787724cad7db0",
     "grade": true,
     "grade_id": "Differentiation-mark-part2",
     "locked": true,
     "points": 2,
     "schema_version": 3,
     "solution": false,
     "task": false
    }
   },
   "outputs": [],
   "source": [
    "## Don't write any code in this box\n",
    "\n"
   ]
  },
  {
   "cell_type": "code",
   "execution_count": null,
   "metadata": {
    "deletable": false,
    "editable": false,
    "nbgrader": {
     "cell_type": "code",
     "checksum": "2900fc3a5df38201ab5936bb8b3120a4",
     "grade": true,
     "grade_id": "cell-5463841b2b95bf30",
     "locked": true,
     "points": 1,
     "schema_version": 3,
     "solution": false,
     "task": false
    }
   },
   "outputs": [],
   "source": [
    "## Don't write any code in this box"
   ]
  },
  {
   "cell_type": "code",
   "execution_count": null,
   "metadata": {
    "deletable": false,
    "editable": false,
    "nbgrader": {
     "cell_type": "code",
     "checksum": "9323da086c1d39f921fb7cb258645cf9",
     "grade": true,
     "grade_id": "Differentiation-mark-hand",
     "locked": true,
     "points": 2,
     "schema_version": 3,
     "solution": false,
     "task": false
    }
   },
   "outputs": [],
   "source": [
    "## Don't write any code in this box\n",
    "\n"
   ]
  },
  {
   "cell_type": "code",
   "execution_count": null,
   "metadata": {
    "deletable": false,
    "editable": false,
    "nbgrader": {
     "cell_type": "code",
     "checksum": "d2f87d657427c94dbbd2c2898948d55d",
     "grade": true,
     "grade_id": "Differentiation-mark-Backward",
     "locked": true,
     "points": 2,
     "schema_version": 3,
     "solution": false,
     "task": false
    }
   },
   "outputs": [],
   "source": [
    "## Don't write any code in this box\n",
    "\n"
   ]
  },
  {
   "cell_type": "code",
   "execution_count": null,
   "metadata": {
    "deletable": false,
    "editable": false,
    "nbgrader": {
     "cell_type": "code",
     "checksum": "e4b5777e58ad86c32155a625ab976131",
     "grade": true,
     "grade_id": "Differentiation-mark-Forward",
     "locked": true,
     "points": 2,
     "schema_version": 3,
     "solution": false,
     "task": false
    }
   },
   "outputs": [],
   "source": [
    "## Don't write any code in this box\n",
    "\n"
   ]
  },
  {
   "attachments": {
    "image-3.png": {
     "image/png": "[encoded data removed]"
    }
   },
   "cell_type": "markdown",
   "metadata": {
    "deletable": false,
    "editable": false,
    "nbgrader": {
     "cell_type": "markdown",
     "checksum": "737aeae53c0848d784ab254e843da242",
     "grade": false,
     "grade_id": "cell-929c6273547cfd63",
     "locked": true,
     "schema_version": 3,
     "solution": false,
     "task": false
    }
   },
   "source": [
    "# Q8:\n",
    "\n",
    "Write a function to determine the resultant force vector $R$ of the two forces $F_1$ and $F_2$ applied to the bracket, where $\\theta_1=30^\\circ$ and $\\theta_2=35^\\circ$. Write $R$ in terms of unit vector along the $x$ and $y$ axis. $R$ must be a vector, for example $R=[R_x, R_y]$. The coordinate system is shown in the figure below:\n",
    "\n",
    "![image-3.png](attachment:image-3.png)\n",
    "    "
   ]
  },
  {
   "cell_type": "code",
   "execution_count": null,
   "metadata": {
    "deletable": false,
    "nbgrader": {
     "cell_type": "code",
     "checksum": "d842b7fc718abca161eaa5e3fa8cd838",
     "grade": false,
     "grade_id": "cell-c3957e03e2132f1c",
     "locked": false,
     "schema_version": 3,
     "solution": true,
     "task": false
    }
   },
   "outputs": [],
   "source": [
    "import numpy as np\n",
    "from math import * # Import all the math functions from the math library\n",
    "from numpy import array\n",
    "\n",
    "\n",
    "# Complete the function given the variables F1, F2, theta1, theta2 and return the value as \"R\".\n",
    "\n",
    "def force_vec(F1, F2, theta1, theta2):\n",
    "    \"\"\"Hints: Use numpy.array to form the force vector and then add the force vectors together \n",
    "    Remember to convert the degree to radian in the calculations and be careful of the sign \"\"\"\n",
    "    \n",
    "    # your code here\n",
    "    \n",
    "    return R # Make sure in your solution, you use the same name \"R\" for the output, R is a vector\n",
    "\n"
   ]
  },
  {
   "cell_type": "code",
   "execution_count": null,
   "metadata": {
    "deletable": false,
    "editable": false,
    "nbgrader": {
     "cell_type": "code",
     "checksum": "68c3d484085e42e1a787ea94d179f25d",
     "grade": true,
     "grade_id": "cell-7afb9edac78c53be",
     "locked": true,
     "points": 5,
     "schema_version": 3,
     "solution": false,
     "task": false
    }
   },
   "outputs": [],
   "source": [
    "## Don't write any code in this box\n",
    "\n"
   ]
  },
  {
   "cell_type": "code",
   "execution_count": null,
   "metadata": {
    "deletable": false,
    "editable": false,
    "nbgrader": {
     "cell_type": "code",
     "checksum": "bbeb257be7b464160575629d08c643f5",
     "grade": true,
     "grade_id": "cell-7afb9edac78c53be-b",
     "locked": true,
     "points": 3,
     "schema_version": 3,
     "solution": false,
     "task": false
    }
   },
   "outputs": [],
   "source": [
    "## Don't write any code in this box\n",
    "\n"
   ]
  },
  {
   "cell_type": "code",
   "execution_count": null,
   "metadata": {
    "deletable": false,
    "editable": false,
    "nbgrader": {
     "cell_type": "code",
     "checksum": "499d7ea12a6fc6a6fb6bc24d1bd96e64",
     "grade": true,
     "grade_id": "cell-7afb9edac78c53be-c",
     "locked": true,
     "points": 1,
     "schema_version": 3,
     "solution": false,
     "task": false
    }
   },
   "outputs": [],
   "source": [
    "## Don't write any code in this box\n",
    "\n"
   ]
  },
  {
   "attachments": {
    "image-6.png": {
     "image/png": "[encoded data removed]"
    }
   },
   "cell_type": "markdown",
   "metadata": {
    "deletable": false,
    "editable": false,
    "nbgrader": {
     "cell_type": "markdown",
     "checksum": "6284ee7ecc4640ac939ede7dd012c26e",
     "grade": false,
     "grade_id": "Beam-bending-1",
     "locked": true,
     "schema_version": 3,
     "solution": false,
     "task": false
    }
   },
   "source": [
    "# Q9:\n",
    "\n",
    "A cantilever beam is under a concentrate load $P$ (N), the beam has a length of $L$ (m).\n",
    "\n",
    "![image-6.png](attachment:image-6.png)\n",
    "\n",
    "Complete the Python function below to find the support reaction force in y direction $RF$ (N) and reaction moment $RM$ (N*m) at the clamped end of the beam $x=0$. \n",
    "\n",
    "**Be careful of the sign of force and moment.** \n"
   ]
  },
  {
   "cell_type": "code",
   "execution_count": null,
   "metadata": {
    "deletable": false,
    "nbgrader": {
     "cell_type": "code",
     "checksum": "8aa7db77b16110911d1f260efe3a5b18",
     "grade": false,
     "grade_id": "Beam_Reaction_answer",
     "locked": false,
     "schema_version": 3,
     "solution": true,
     "task": false
    }
   },
   "outputs": [],
   "source": [
    "# Complete the function given the variables P, L and return the reaction force as \"RF\" and reaction moment as \"RM\".\n",
    "## Don't change the predefined content, only fill your code in the region \"YOUR CODE\"\n",
    "\n",
    "def BeamReaction(P, L):\n",
    "    '''Compute Reaction force V(x) and moment M(x) at any given position x=a.\n",
    "\n",
    "    Parameters\n",
    "    P : Load\n",
    "    L : Beam length\n",
    "    \n",
    "    Step 1: Work out the support reaction force and moment\n",
    "    Step 2: Write down the reaction force and moment at x=0\n",
    "    \n",
    "   '''\n",
    "    \n",
    "    # your code here\n",
    "    \n",
    "    \n",
    "    return RF, RM # # Make sure in your solution, you use the same name \"RF\" and \"RM\" for the outputs. Here, there are two outputs\n"
   ]
  },
  {
   "cell_type": "code",
   "execution_count": null,
   "metadata": {
    "deletable": false,
    "editable": false,
    "nbgrader": {
     "cell_type": "code",
     "checksum": "857f6c1d20bdd95709e86b878b0603b3",
     "grade": true,
     "grade_id": "Beam-reaction-mark-part1",
     "locked": true,
     "points": 2,
     "schema_version": 3,
     "solution": false,
     "task": false
    }
   },
   "outputs": [],
   "source": [
    "## Don't write any code in this box\n",
    "\n"
   ]
  },
  {
   "cell_type": "code",
   "execution_count": null,
   "metadata": {
    "deletable": false,
    "editable": false,
    "nbgrader": {
     "cell_type": "code",
     "checksum": "a3389f3c991c7d6108eb576bf1ef0349",
     "grade": true,
     "grade_id": "Beam-reaction-mark-part2",
     "locked": true,
     "points": 3,
     "schema_version": 3,
     "solution": false,
     "task": false
    }
   },
   "outputs": [],
   "source": [
    "## Don't write any code in this box\n",
    "\n"
   ]
  },
  {
   "cell_type": "code",
   "execution_count": null,
   "metadata": {
    "deletable": false,
    "editable": false,
    "nbgrader": {
     "cell_type": "code",
     "checksum": "56309a852d5381c42bdf8399a77454f1",
     "grade": true,
     "grade_id": "cell-c26ff4985887f90c",
     "locked": true,
     "points": 1.5,
     "schema_version": 3,
     "solution": false,
     "task": false
    }
   },
   "outputs": [],
   "source": [
    "## Don't write any code in this box\n",
    "\n"
   ]
  },
  {
   "cell_type": "code",
   "execution_count": null,
   "metadata": {
    "deletable": false,
    "editable": false,
    "nbgrader": {
     "cell_type": "code",
     "checksum": "279739f3fa82123a44ce6464c8885c1a",
     "grade": true,
     "grade_id": "cell-bcda882d9bff5239",
     "locked": true,
     "points": 1.5,
     "schema_version": 3,
     "solution": false,
     "task": false
    }
   },
   "outputs": [],
   "source": [
    "## Don't write any code in this box\n"
   ]
  },
  {
   "attachments": {
    "image-5.png": {
     "image/png": "[encoded data removed]"
    }
   },
   "cell_type": "markdown",
   "metadata": {
    "deletable": false,
    "editable": false,
    "nbgrader": {
     "cell_type": "markdown",
     "checksum": "31491c7c6569ecd2d49e413291c2c39c",
     "grade": false,
     "grade_id": "Beam-bending-2",
     "locked": true,
     "schema_version": 3,
     "solution": false,
     "task": false
    }
   },
   "source": [
    "# Q10:\n",
    "\n",
    "A cantilever beam is under a concentrate load $P$ (N), the beam has a length of $L$ (m).\n",
    "\n",
    "![image-5.png](attachment:image-5.png)\n",
    "\n",
    "Write a function to find the internal shear force $V(x)$ (N) and moment $M(x)$ (N*m) at any given position along the beam $x=a$. \n"
   ]
  },
  {
   "cell_type": "code",
   "execution_count": null,
   "metadata": {
    "deletable": false,
    "nbgrader": {
     "cell_type": "code",
     "checksum": "161baf0d66cbc187fc018e0fd33694d0",
     "grade": false,
     "grade_id": "Beam_Internal_answer",
     "locked": false,
     "schema_version": 3,
     "solution": true,
     "task": false
    }
   },
   "outputs": [],
   "source": [
    "# Complete the function given the variables P, L, a and return the shear force as \"Va\" and internal moment as \"Ma\".\n",
    "## Don't change the predefined content, only fill your code in the region \"YOUR CODE\"\n",
    "\n",
    "def BeamInternal(P, L, a):\n",
    "    '''Compute internal shear force V(x) and moment M(x) at any given position x=a.\n",
    "\n",
    "    Parameters\n",
    "    P : Load\n",
    "    L : Beam length\n",
    "    a : Arbitrary position along the beam x=a \n",
    "    \n",
    "    Step 1: Cut the beam at any position x=a, and determine the shear force and moment formula\n",
    "    Step 2: Write down the internal force at given position V(x=a) and M(x=a)\n",
    "    \n",
    "    '''\n",
    "    \n",
    "    # your code here\n",
    "    \n",
    "    \n",
    "    return Va, Ma # # Make sure in your solution, you use the same name \"Va\" and \"Ma\" for the outputs. Here, there are two outputs\n",
    "\n"
   ]
  },
  {
   "cell_type": "code",
   "execution_count": null,
   "metadata": {
    "deletable": false,
    "editable": false,
    "nbgrader": {
     "cell_type": "code",
     "checksum": "6eba6e1b7dce84f43db9cd55ce5d18c4",
     "grade": true,
     "grade_id": "Beam_Internal_partial-marking",
     "locked": true,
     "points": 1,
     "schema_version": 3,
     "solution": false,
     "task": false
    }
   },
   "outputs": [],
   "source": [
    "## Don't write any code in this box\n",
    "\n"
   ]
  },
  {
   "cell_type": "code",
   "execution_count": null,
   "metadata": {
    "deletable": false,
    "editable": false,
    "nbgrader": {
     "cell_type": "code",
     "checksum": "f449704dc22f645702c3f22fd603a68f",
     "grade": true,
     "grade_id": "cell-c91eed03c1b2575e",
     "locked": true,
     "points": 1,
     "schema_version": 3,
     "solution": false,
     "task": false
    }
   },
   "outputs": [],
   "source": [
    "## Don't write any code in this box\n",
    "\n"
   ]
  },
  {
   "cell_type": "code",
   "execution_count": null,
   "metadata": {
    "deletable": false,
    "editable": false,
    "nbgrader": {
     "cell_type": "code",
     "checksum": "05fc10c39d289fa24b2ca2237e43090c",
     "grade": true,
     "grade_id": "cell-f72636499f9Beam_Internal_partial-marking28ad2c",
     "locked": true,
     "points": 1,
     "schema_version": 3,
     "solution": false,
     "task": false
    }
   },
   "outputs": [],
   "source": [
    "## Don't write any code in this box\n",
    "\n"
   ]
  },
  {
   "cell_type": "code",
   "execution_count": null,
   "metadata": {
    "deletable": false,
    "editable": false,
    "nbgrader": {
     "cell_type": "code",
     "checksum": "cc3aa2773138c87a14a874b0fc6a2d91",
     "grade": true,
     "grade_id": "cell-b6c6f0e5977c3a78",
     "locked": true,
     "points": 1,
     "schema_version": 3,
     "solution": false,
     "task": false
    }
   },
   "outputs": [],
   "source": [
    "## Don't write any code in this box\n"
   ]
  },
  {
   "cell_type": "code",
   "execution_count": null,
   "metadata": {
    "deletable": false,
    "editable": false,
    "nbgrader": {
     "cell_type": "code",
     "checksum": "397be2d97ef5fa527a2350b3266b7efe",
     "grade": true,
     "grade_id": "cell-58f25aedadc18126",
     "locked": true,
     "points": 1,
     "schema_version": 3,
     "solution": false,
     "task": false
    }
   },
   "outputs": [],
   "source": [
    "## Don't write any code in this box\n"
   ]
  },
  {
   "cell_type": "markdown",
   "metadata": {
    "deletable": false,
    "editable": false,
    "nbgrader": {
     "cell_type": "markdown",
     "checksum": "d81712fcda17ae2c632184c10266ee17",
     "grade": false,
     "grade_id": "cell-24881a193171a97d",
     "locked": true,
     "schema_version": 3,
     "solution": false,
     "task": false
    }
   },
   "source": [
    "# END OF THE TEST\n",
    "\n",
    "## Check each question by calling that function and print the answer. Do not change the function name!\n",
    "\n",
    "## Remember to click \"submit\" in the assignment. "
   ]
  },
  {
   "cell_type": "code",
   "execution_count": null,
   "metadata": {
    "deletable": false,
    "editable": false,
    "nbgrader": {
     "cell_type": "code",
     "checksum": "c70032cb74f4b9a587c4faa5f45116e6",
     "grade": true,
     "grade_id": "cell-296551089c0f5105",
     "locked": true,
     "points": 0,
     "schema_version": 3,
     "solution": false,
     "task": false
    }
   },
   "outputs": [],
   "source": [
    "## Don't write any code in this box"
   ]
  },
  {
   "cell_type": "code",
   "execution_count": null,
   "metadata": {
    "deletable": false,
    "editable": false,
    "nbgrader": {
     "cell_type": "code",
     "checksum": "48c1f8a8302fc404b383ab99f081c49b",
     "grade": true,
     "grade_id": "cell-65ad394be5a89ec8",
     "locked": true,
     "points": 0,
     "schema_version": 3,
     "solution": false,
     "task": false
    }
   },
   "outputs": [],
   "source": [
    "## Don't write any code in this box"
   ]
  },
  {
   "cell_type": "code",
   "execution_count": null,
   "metadata": {
    "deletable": false,
    "editable": false,
    "nbgrader": {
     "cell_type": "code",
     "checksum": "71ac0e4d673b36f048d50591926a32a3",
     "grade": true,
     "grade_id": "cell-09b620ae8f884ce6",
     "locked": true,
     "points": 0,
     "schema_version": 3,
     "solution": false,
     "task": false
    }
   },
   "outputs": [],
   "source": [
    "## Don't write any code in this box"
   ]
  },
  {
   "cell_type": "code",
   "execution_count": null,
   "metadata": {
    "deletable": false,
    "editable": false,
    "nbgrader": {
     "cell_type": "code",
     "checksum": "fe69b8060342d336eebd2087dc8428a9",
     "grade": true,
     "grade_id": "cell-d023c41ae0024cbd",
     "locked": true,
     "points": 0,
     "schema_version": 3,
     "solution": false,
     "task": false
    }
   },
   "outputs": [],
   "source": [
    "## Don't write any code in this box"
   ]
  },
  {
   "cell_type": "code",
   "execution_count": null,
   "metadata": {
    "deletable": false,
    "editable": false,
    "nbgrader": {
     "cell_type": "code",
     "checksum": "a66e7a2a94355266bc314a880fa40452",
     "grade": true,
     "grade_id": "cell-357d3be2a7b64ccb",
     "locked": true,
     "points": 0,
     "schema_version": 3,
     "solution": false,
     "task": false
    }
   },
   "outputs": [],
   "source": [
    "## Don't write any code in this box"
   ]
  }
 ],
 "metadata": {
  "kernelspec": {
   "display_name": "Python 3",
   "language": "python",
   "name": "python3"
  },
  "language_info": {
   "codemirror_mode": {
    "name": "ipython",
    "version": 3
   },
   "file_extension": ".py",
   "mimetype": "text/x-python",
   "name": "python",
   "nbconvert_exporter": "python",
   "pygments_lexer": "ipython3",
   "version": "3.8.5"
  }
 },
 "nbformat": 4,
 "nbformat_minor": 5
}
