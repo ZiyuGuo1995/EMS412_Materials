{
 "cells": [
  {
   "cell_type": "markdown",
   "metadata": {},
   "source": [
    "# Week 9-Numerical differentiation"
   ]
  },
  {
   "cell_type": "markdown",
   "metadata": {},
   "source": [
    "## 1. Motivation"
   ]
  },
  {
   "cell_type": "markdown",
   "metadata": {},
   "source": [
    "Many engineering and science systems change over time, space, and many other dimensions of interest. In mathematics, function derivatives are often used to model these changes. However, in practice the function may not be explicitly known, or the function may be implicitly represented by a set of data points. In these cases and others, it may be desirable to compute derivatives numerically rather than analytically.\n",
    "\n",
    "The focus of this chapter is numerical differentiation. By the end of this week you should be able to derive some basic numerical differentiation schemes and their accuracy."
   ]
  },
  {
   "cell_type": "markdown",
   "metadata": {},
   "source": [
    "## 2. Background"
   ]
  },
  {
   "cell_type": "markdown",
   "metadata": {},
   "source": [
    "The derivative of a function $f(x)$ at $x=a$ is the limit:\n",
    "\n",
    "$$f'(a) = \\mathop {\\lim }\\limits_{h \\to 0} {{f(a + h) - f(a)} \\over h}$$\n",
    "\n",
    "Difference Formulas:\n",
    "\n",
    "There are 3 main difference formulas for numerically approximating derivatives.\n",
    "\n",
    "(1) The forward difference formula with step size $h$ is:\n",
    "\n",
    "$$f'(a) \\approx {{f(a + h) - f(a)} \\over h}$$\n",
    "\n",
    "(2) The backward difference formula with step size $h$ is:\n",
    "\n",
    "$$f'(a) \\approx {{f(a) - f(a - h)} \\over h}$$\n",
    "\n",
    "(3) The central difference formula with step size $h$ is the average of the forward and backwards difference formulas:\n",
    "\n",
    "$$f'(a) \\approx {1 \\over 2}({{f(a + h) - f(a)} \\over h} + {{f(a) - f(a - h)} \\over h}) = {{f(a + h) - f(a - h)} \\over {2h}}$$"
   ]
  },
  {
   "cell_type": "markdown",
   "metadata": {},
   "source": [
    "# 3. Implementation"
   ]
  },
  {
   "cell_type": "markdown",
   "metadata": {},
   "source": [
    "Let's write a function called derivative which takes input parameters $f$, $a$, method and $h$ (with default values method='central' and h=0.01) and returns the corresponding difference formula for f'(a) with step size $h$."
   ]
  },
  {
   "cell_type": "code",
   "execution_count": 1,
   "metadata": {},
   "outputs": [],
   "source": [
    "import numpy as np\n",
    "import matplotlib.pyplot as plt"
   ]
  },
  {
   "cell_type": "markdown",
   "metadata": {},
   "source": [
    "## 3.1 The forward difference formula "
   ]
  },
  {
   "cell_type": "code",
   "execution_count": 2,
   "metadata": {},
   "outputs": [],
   "source": [
    "def derivative_forward(f,a,h=0.01):\n",
    "    '''Compute the difference formula for f'(a) with step size h.\n",
    "\n",
    "    Parameters\n",
    "    ----------\n",
    "    f : function\n",
    "        Vectorized function of one variable\n",
    "    a : number\n",
    "        Compute derivative at x = a\n",
    "    method : string\n",
    "        Difference formula: 'forward'\n",
    "    h : number\n",
    "        Step size in difference formula\n",
    "\n",
    "    Returns\n",
    "    -------\n",
    "    float\n",
    "        Difference formula:\n",
    "            forward: f(a+h) - f(a))/h           \n",
    "    '''\n",
    "    return (f(a + h) - f(a))/h"
   ]
  },
  {
   "cell_type": "markdown",
   "metadata": {},
   "source": [
    "## 3.2 The backward difference formula "
   ]
  },
  {
   "cell_type": "code",
   "execution_count": 3,
   "metadata": {},
   "outputs": [],
   "source": [
    "def derivative_backward(f,a,h=0.01):\n",
    "    '''Compute the difference formula for f'(a) with step size h.\n",
    "\n",
    "    Parameters\n",
    "    ----------\n",
    "    f : function\n",
    "        Vectorized function of one variable\n",
    "    a : number\n",
    "        Compute derivative at x = a\n",
    "    method : string\n",
    "        Difference formula: 'backward'\n",
    "    h : number\n",
    "        Step size in difference formula\n",
    "\n",
    "    Returns\n",
    "    -------\n",
    "    float\n",
    "        Difference formula:\n",
    "            backward: f(a) - f(a-h))/h          \n",
    "    '''\n",
    "    return (f(a) - f(a-h))/h"
   ]
  },
  {
   "cell_type": "markdown",
   "metadata": {},
   "source": [
    "## 3.3 The central difference formula "
   ]
  },
  {
   "cell_type": "code",
   "execution_count": 4,
   "metadata": {},
   "outputs": [],
   "source": [
    "def derivative_central(f,a,h=0.01):\n",
    "    '''Compute the difference formula for f'(a) with step size h.\n",
    "\n",
    "    Parameters\n",
    "    ----------\n",
    "    f : function\n",
    "        Vectorized function of one variable\n",
    "    a : number\n",
    "        Compute derivative at x = a\n",
    "    method : string\n",
    "        Difference formula: 'backward'\n",
    "    h : number\n",
    "        Step size in difference formula\n",
    "\n",
    "    Returns\n",
    "    -------\n",
    "    float\n",
    "        Difference formula:\n",
    "            central: (f(a+h) - f(a-h))/2h         \n",
    "    '''\n",
    "    return (f(a+h) - f(a-h))/(2*h)"
   ]
  },
  {
   "cell_type": "markdown",
   "metadata": {},
   "source": [
    "## 3.4 Combination of three methods"
   ]
  },
  {
   "cell_type": "code",
   "execution_count": 5,
   "metadata": {},
   "outputs": [],
   "source": [
    "def derivative(f,a,method='central',h=0.01):\n",
    "    '''Compute the difference formula for f'(a) with step size h.\n",
    "\n",
    "    Parameters\n",
    "    ----------\n",
    "    f : function\n",
    "        Vectorized function of one variable\n",
    "    a : number\n",
    "        Compute derivative at x = a\n",
    "    method : string\n",
    "        Difference formula: 'forward', 'backward' or 'central'\n",
    "    h : number\n",
    "        Step size in difference formula\n",
    "\n",
    "    Returns\n",
    "    -------\n",
    "    float\n",
    "        Difference formula:\n",
    "            central: f(a+h) - f(a-h))/2h\n",
    "            forward: f(a+h) - f(a))/h\n",
    "            backward: f(a) - f(a-h))/h            \n",
    "    '''\n",
    "    if method == 'central':\n",
    "        return (f(a + h) - f(a - h))/(2*h)\n",
    "    elif method == 'forward':\n",
    "        return (f(a + h) - f(a))/h\n",
    "    elif method == 'backward':\n",
    "        return (f(a) - f(a - h))/h\n",
    "    else:\n",
    "        raise ValueError(\"Method must be 'central', 'forward' or 'backward'.\")"
   ]
  },
  {
   "cell_type": "markdown",
   "metadata": {},
   "source": [
    "# 4. Test of function"
   ]
  },
  {
   "cell_type": "markdown",
   "metadata": {},
   "source": [
    "Let's test our function on some simple functions. For example, we know\n",
    "\n",
    "$${d \\over {dx}}{\\left. {(\\cos x)} \\right|_{x = 0}} =  - \\sin (0) = 0$$"
   ]
  },
  {
   "cell_type": "code",
   "execution_count": 17,
   "metadata": {},
   "outputs": [
    {
     "data": {
      "text/plain": [
       "-4.999999969612645e-05"
      ]
     },
     "execution_count": 17,
     "metadata": {},
     "output_type": "execute_result"
    }
   ],
   "source": [
    "derivative_forward(np.cos,0,h=1e-4)"
   ]
  },
  {
   "cell_type": "code",
   "execution_count": 18,
   "metadata": {},
   "outputs": [
    {
     "data": {
      "text/plain": [
       "0.0"
      ]
     },
     "execution_count": 18,
     "metadata": {},
     "output_type": "execute_result"
    }
   ],
   "source": [
    "derivative_forward(np.cos,0,h=1e-8) # h=1e-8 will give an accurate result"
   ]
  },
  {
   "cell_type": "code",
   "execution_count": 19,
   "metadata": {},
   "outputs": [
    {
     "data": {
      "text/plain": [
       "4.999999969612645e-05"
      ]
     },
     "execution_count": 19,
     "metadata": {},
     "output_type": "execute_result"
    }
   ],
   "source": [
    "derivative_backward(np.cos,0,h=1e-4)"
   ]
  },
  {
   "cell_type": "code",
   "execution_count": 20,
   "metadata": {},
   "outputs": [
    {
     "data": {
      "text/plain": [
       "0.0"
      ]
     },
     "execution_count": 20,
     "metadata": {},
     "output_type": "execute_result"
    }
   ],
   "source": [
    "derivative_central(np.cos,0,h=1e-4)"
   ]
  },
  {
   "cell_type": "code",
   "execution_count": 21,
   "metadata": {},
   "outputs": [
    {
     "data": {
      "image/png": "[encoded data removed]",
      "text/plain": [
       "<Figure size 864x360 with 1 Axes>"
      ]
     },
     "metadata": {
      "needs_background": "light"
     },
     "output_type": "display_data"
    }
   ],
   "source": [
    "# Visualise the results\n",
    "x = np.linspace(0,5*np.pi,100)\n",
    "dydx = derivative(np.sin,x)\n",
    "\n",
    "dYdx = np.cos(x)\n",
    "\n",
    "plt.figure(figsize=(12,5))\n",
    "plt.plot(x,dydx,'r.',label='Central Difference')\n",
    "plt.plot(x,dYdx,'b',label='True Value')\n",
    "\n",
    "plt.title('Central Difference Derivative of y = cos(x)')\n",
    "plt.legend(loc='best')\n",
    "plt.show()"
   ]
  },
  {
   "cell_type": "markdown",
   "metadata": {},
   "source": [
    "Let's compute and plot the derivative of a complicated function:\n",
    "\n",
    "$$f(x)={({{4{x^2} + 2x + 1} \\over {x + 2{e^x}}})^x}$$\n"
   ]
  },
  {
   "cell_type": "code",
   "execution_count": 22,
   "metadata": {},
   "outputs": [
    {
     "data": {
      "image/png": "[encoded data removed]",
      "text/plain": [
       "<Figure size 864x360 with 1 Axes>"
      ]
     },
     "metadata": {
      "needs_background": "light"
     },
     "output_type": "display_data"
    }
   ],
   "source": [
    "x = np.linspace(0,6,100)\n",
    "\n",
    "def f(x):\n",
    "    f=((4*x**2 + 2*x + 1)/(x + 2*np.exp(x)))**x\n",
    "    return f\n",
    "\n",
    "# f = lambda x: ((4*x**2 + 2*x + 1)/(x + 2*np.exp(x)))**x # You can also define a function by using lambda \n",
    "\n",
    "y = f(x)\n",
    "dydx = derivative(f,x)\n",
    "\n",
    "plt.figure(figsize=(12,5))\n",
    "plt.plot(x,y,label='y=f(x)')\n",
    "plt.plot(x,dydx,label=\"Central Difference y=f'(x)\")\n",
    "plt.legend()\n",
    "plt.grid(True)\n",
    "\n",
    "plt.show()"
   ]
  },
  {
   "cell_type": "markdown",
   "metadata": {},
   "source": [
    "# 5. Error analysis"
   ]
  },
  {
   "cell_type": "markdown",
   "metadata": {},
   "source": [
    "We can still use the absolute and relative error equation to do the analysis if we know the analytical solution. "
   ]
  },
  {
   "cell_type": "markdown",
   "metadata": {},
   "source": [
    "### numerical derivative and exact solution\n",
    "num_abs_error = abs(exact_solution - forward_diff)\n",
    "\n",
    "num_relative_error= abs(exact_solution - forward_diff)/exact_solution"
   ]
  },
  {
   "cell_type": "markdown",
   "metadata": {},
   "source": [
    "For example: we want to esitmate the error of forward differentiation method on the function:\n",
    "\n",
    "$${d \\over {dx}}{\\left. {(\\cos x)} \\right|_{x = 0}} =  - \\sin (0) = 0$$"
   ]
  },
  {
   "cell_type": "code",
   "execution_count": 27,
   "metadata": {},
   "outputs": [
    {
     "name": "stdout",
     "output_type": "stream",
     "text": [
      "The numerical error is: 4.999999969612645e-05\n"
     ]
    }
   ],
   "source": [
    "forward_diff=derivative_forward(np.cos,0,h=1e-4)\n",
    "exact_solution=0\n",
    "max_error = abs(exact_solution - forward_diff)\n",
    "print('The numerical error is:', max_error)"
   ]
  },
  {
   "cell_type": "code",
   "execution_count": null,
   "metadata": {},
   "outputs": [],
   "source": []
  }
 ],
 "metadata": {
  "kernelspec": {
   "display_name": "Python 3",
   "language": "python",
   "name": "python3"
  },
  "language_info": {
   "codemirror_mode": {
    "name": "ipython",
    "version": 3
   },
   "file_extension": ".py",
   "mimetype": "text/x-python",
   "name": "python",
   "nbconvert_exporter": "python",
   "pygments_lexer": "ipython3",
   "version": "3.8.5"
  }
 },
 "nbformat": 4,
 "nbformat_minor": 4
}
