{
 "cells": [
  {
   "cell_type": "markdown",
   "id": "0bbb63c0",
   "metadata": {},
   "source": [
    "OK, now we have completed the first bit of the python tutorials - you should now have the ability to use/apply the folliwing operations:\n",
    "\n",
    "1) basic maths and variables\n",
    "2) if and loop statements - and to mix them\n",
    "3) create and call simple functions to do certain operations and return any values computed.\n",
    "4) include libraries such as the math library and use math operations like logs, exponentials, trigs etc.\n",
    "\n",
    "\n",
    "Now let's put this together to form some interesting maths operation - numerically calculate the derivative of a function.\n",
    "\n",
    "that is we can approximate the derivative of a function $y(x)$ at position $x$ by evaluating the function at position $x$ and at $x+h$, for a small value $h$ and doing the operation:\n",
    "\n",
    "\n",
    "$\\frac{dy}{dx} = \\frac{y(x+h)-y(x)}{h}$\n",
    "\n",
    "let's do  this in bits, breaking the problem into small parts\n"
   ]
  },
  {
   "cell_type": "markdown",
   "id": "f2de1aa2",
   "metadata": {},
   "source": [
    "Q1: start by creating a function, that will return the value of a function of your choice. e.g. try something like $y=sin(x)$\n",
    "I will start this off for you, but you should be able to do this."
   ]
  },
  {
   "cell_type": "code",
   "execution_count": 1,
   "id": "f6d07e40",
   "metadata": {},
   "outputs": [
    {
     "name": "stdout",
     "output_type": "stream",
     "text": [
      "function at x =  60  is  -0.3048106211022167\n"
     ]
    }
   ],
   "source": [
    "import math # we are going to use the math library\n",
    "\n",
    "# create the function you want to form a derivate of.\n",
    "def function_expression(x): # put your inputs expression here.\n",
    "    val = math.sin(x)     # put your expression here.\n",
    "    return val\n",
    "\n",
    "# now test your function - does it return the correct expression - always test this!\n",
    "x1 = 60  # change and test this value to test it is always correct.\n",
    "t1 = function_expression(x1)\n",
    "print('function at x = ',x1,' is ',t1 )"
   ]
  },
  {
   "cell_type": "markdown",
   "id": "d45c578f",
   "metadata": {},
   "source": [
    "Q2: now evaluate the function as some position $x$ and then $x+h$, for some small distace h, and the form the derivative using the formula above.\n",
    "</br>Note: You can directly load the function in the next cell as it has already been store in memory from prior operation."
   ]
  },
  {
   "cell_type": "code",
   "execution_count": 2,
   "id": "1e55cd20",
   "metadata": {},
   "outputs": [
    {
     "name": "stdout",
     "output_type": "stream",
     "text": [
      "y values  -0.3048106211022167 -0.3143193517676122\n",
      "Approx = -0.95087, Exact = -0.95241 and Error = -0.0015399\n"
     ]
    }
   ],
   "source": [
    "# set you x and h values.\n",
    "x=60\n",
    "h=0.01\n",
    "# value the function at the position x and x+h\n",
    "y1 = function_expression(x) \n",
    "y2 = function_expression(x+h)     # call the function at the right position \n",
    "# do some print statements displaying the values.\n",
    "print('y values ',y1, y2)\n",
    "# compute the approximate derivative using the varible dydx\n",
    "dydx =  (y2 - y1)/h\n",
    "# compute the exact derivative for compartson - y = sin(x)    dy/dx = cos(x)\n",
    "exact_dydx =  math.cos(x)\n",
    "# print the approx, exact derivative, and look at the error also.\n",
    "# print('approximate, exact derivative and error ',dydx, exact_dydx, dydx - exact_dydx)\n",
    "print(f'Approx = {dydx:.5}, Exact = {exact_dydx:.5} and Error = {(exact_dydx - dydx):.5}')\n"
   ]
  },
  {
   "cell_type": "markdown",
   "id": "df421b56",
   "metadata": {},
   "source": [
    "now you should check the code does indeed get close to the derivative. \n",
    "\n",
    "Q3: can you now in the code below, create a loop, where the values of h goes from 1, 0.1, 0.01, 0.001 ... for 10 iterations. you can do this all by yourself!  also change the function, see if it works!!"
   ]
  },
  {
   "cell_type": "code",
   "execution_count": 3,
   "id": "75fbb73b",
   "metadata": {},
   "outputs": [
    {
     "name": "stdout",
     "output_type": "stream",
     "text": [
      "Iteration 1: Approx = 3.00, Exact = 2.00 and Error = -1.0 for h = 1.0\n",
      "Iteration 2: Approx = 2.10, Exact = 2.00 and Error = -0.1 for h = 0.1\n",
      "Iteration 3: Approx = 2.01, Exact = 2.00 and Error = -0.01 for h = 0.01\n",
      "Iteration 4: Approx = 2.00, Exact = 2.00 and Error = -0.001 for h = 0.001\n",
      "Iteration 5: Approx = 2.00, Exact = 2.00 and Error = -0.0001 for h = 0.0001\n",
      "Iteration 6: Approx = 2.00, Exact = 2.00 and Error = -1e-05 for h = 1e-05\n",
      "Iteration 7: Approx = 2.00, Exact = 2.00 and Error = -1e-06 for h = 1e-06\n",
      "Iteration 8: Approx = 2.00, Exact = 2.00 and Error = -1e-07 for h = 1e-07\n",
      "Iteration 9: Approx = 2.00, Exact = 2.00 and Error = 1.2e-08 for h = 1e-08\n",
      "Iteration 10: Approx = 2.00, Exact = 2.00 and Error = -1.7e-07 for h = 1e-09\n"
     ]
    }
   ],
   "source": [
    "import math \n",
    "\n",
    "def function_expression(x): # x is the point you want to evaluate the derivative around\n",
    "    val = x**2 # expression y(x)\n",
    "    return val\n",
    "\n",
    "x = 1 # value you want to evaluate derivate around\n",
    "y1 = function_expression(x)\n",
    "for i in range(10):\n",
    "    h = (1/10**i)\n",
    "    y2 = function_expression(x+h)\n",
    "    dydx =  (y2 - y1)/h\n",
    "    exact_dydx = 2*x # expression y'(x)\n",
    "    print(f'Iteration {i+1}: Approx = {dydx:.2f}, Exact = {exact_dydx:.2f} and Error = {(exact_dydx - dydx):.2} for h = {h}')"
   ]
  }
 ],
 "metadata": {
  "kernelspec": {
   "display_name": "Python 3 (ipykernel)",
   "language": "python",
   "name": "python3"
  },
  "language_info": {
   "codemirror_mode": {
    "name": "ipython",
    "version": 3
   },
   "file_extension": ".py",
   "mimetype": "text/x-python",
   "name": "python",
   "nbconvert_exporter": "python",
   "pygments_lexer": "ipython3",
   "version": "3.9.15"
  }
 },
 "nbformat": 4,
 "nbformat_minor": 5
}
