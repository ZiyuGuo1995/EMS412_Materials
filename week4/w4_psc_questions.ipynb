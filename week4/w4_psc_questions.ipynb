{
 "cells": [
  {
   "cell_type": "markdown",
   "metadata": {},
   "source": [
    "OK, now we have completed the first bit of the python tutorials - you should now have the ability to use/apply the folliwing operations:\n",
    "\n",
    "1) basic maths and variables\n",
    "2) if and loop statements - and to mix them\n",
    "3) create and call simple functions to do certain operations and return any values computed.\n",
    "4) include libraries such as the math library and use math operations like logs, exponentials, trigs etc.\n",
    "\n",
    "\n",
    "Now let's put this together to form some interesting maths operation - numerically calculate the derivative of a function.\n",
    "\n",
    "that is we can approximate the derivative of a function $y(x)$ at position $x$ by evaluating the function at position $x$ and at $x+h$, for a small value $h$ and doing the operation:\n",
    "\n",
    "\n",
    "$\\frac{dy}{dx} = \\frac{y(x+h)-y(x)}{h}$\n",
    "\n",
    "let's do  this in bits, breaking the problem into small parts\n"
   ]
  },
  {
   "cell_type": "markdown",
   "metadata": {},
   "source": [
    "Q1: start by creating a function, that will return the value of a function of your choice. e.g. try something like $y=sin(x)$\n",
    "I will start this off for you, but you should be able to do this."
   ]
  },
  {
   "cell_type": "code",
   "execution_count": null,
   "metadata": {},
   "outputs": [],
   "source": [
    "\n",
    "import math # we are going to use the math library\n",
    "\n",
    "# create the function you want to form a derivate of.\n",
    "def function_expression(x): # put your inputs expression here.\n",
    "    val =      # put your expression here.\n",
    "    return val\n",
    "\n",
    "# now test your function - does it return the correct expression - always test this!\n",
    "x1 =   # change and test this value to test it is always correct.\n",
    "t1 = function_expression(x1)\n",
    "print('function at x = ',x1,' is ',t1  )"
   ]
  },
  {
   "cell_type": "markdown",
   "metadata": {},
   "source": [
    "Q2: now evaluate the function as some position $x$ and then $x+h$, for some small distace h, and the form the derivative using the formula above.\n"
   ]
  },
  {
   "cell_type": "code",
   "execution_count": null,
   "metadata": {},
   "outputs": [],
   "source": [
    "# set you x and h values.\n",
    "x=?\n",
    "h=?\n",
    "# value the function at the position x and x+h\n",
    "y1 = function_expression(x) \n",
    "y2 =      # call the function at the right position \n",
    "# do some print statements displaying the values.\n",
    "print('y values ',y1, y2)\n",
    "# compute the approximate derivative using the varible dydx\n",
    "dydx =  \n",
    "# compute the exact derivative for compartson - y = sin(x)    dy/dx = cos(x)\n",
    "exact_dydx =  \n",
    "# print the approx, exact derivative, and look at the error also.\n",
    "print('approximate, exact derivative and error ',dydx, exact_dydx, dydx - exact_dydx)\n"
   ]
  },
  {
   "cell_type": "markdown",
   "metadata": {},
   "source": [
    "now you should check the code does indeed get close to the derivative. \n",
    "\n",
    "Q3: can you now in the code below, create a loop, where the values of h goes from 1, 0.1, 0.01, 0.001 ... for 10 iterations. you can do this all by yourself!  also change the function, see if it works!!"
   ]
  },
  {
   "cell_type": "code",
   "execution_count": null,
   "metadata": {},
   "outputs": [],
   "source": [
    "import math # we are going to use the math library\n",
    "\n",
    "# create the function you want to form a derivate of.\n",
    "def function_expression(x): # put your inputs expression here.\n",
    "    val =   math.sin(x)    # put your expression here.\n",
    "    return val\n",
    "#### the rest is all yours"
   ]
  }
 ],
 "metadata": {
  "kernelspec": {
   "display_name": "Python 3",
   "language": "python",
   "name": "python3"
  },
  "language_info": {
   "codemirror_mode": {
    "name": "ipython",
    "version": 3
   },
   "file_extension": ".py",
   "mimetype": "text/x-python",
   "name": "python",
   "nbconvert_exporter": "python",
   "pygments_lexer": "ipython3",
   "version": "3.8.5"
  }
 },
 "nbformat": 4,
 "nbformat_minor": 5
}
